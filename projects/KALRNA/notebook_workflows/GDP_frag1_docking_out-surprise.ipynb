{
 "cells": [
  {
   "cell_type": "code",
   "execution_count": null,
   "metadata": {
    "hide_input": true,
    "inputHidden": true
   },
   "outputs": [
    {
     "data": {
      "text/html": [
       "<span style=\"color:red; font-family:Helvetica Neue, Helvetica, Arial, sans-serif; font-size:2em;\">An Exception was encountered at 'In [9]'.</span>"
      ]
     },
     "metadata": {},
     "output_type": "display_data"
    }
   ],
   "source": [
    "%%html\n",
    "<span style=\"color:red; font-family:Helvetica Neue, Helvetica, Arial, sans-serif; font-size:2em;\">An Exception was encountered at 'In [9]'.</span>"
   ]
  },
  {
   "cell_type": "code",
   "execution_count": 1,
   "metadata": {
    "papermill": {
     "duration": 0.028221,
     "end_time": "2019-08-20T08:27:10.595458",
     "exception": false,
     "start_time": "2019-08-20T08:27:10.567237",
     "status": "completed"
    },
    "tags": [
     "parameters"
    ]
   },
   "outputs": [],
   "source": [
    "# parameters section\n",
    "\n",
    "pdb_file = ''\n",
    "ligands_file = ''\n",
    "ref_file = ''\n",
    "conf_file = ''\n",
    "docking_directory = ''"
   ]
  },
  {
   "cell_type": "code",
   "execution_count": 2,
   "metadata": {
    "papermill": {
     "duration": 0.022212,
     "end_time": "2019-08-20T08:27:10.633107",
     "exception": false,
     "start_time": "2019-08-20T08:27:10.610895",
     "status": "completed"
    },
    "tags": [
     "injected-parameters"
    ]
   },
   "outputs": [],
   "source": [
    "# Parameters\n",
    "pdb_file = \"/data/GDP_frags/5O33_nolig.pdb\"\n",
    "ligands_file = \"/data/GDP_frags/GDP_frag1/250_surprise_sucos.sdf\"\n",
    "ref_file = \"/data/GDP_frags/GDP_aligned.sdf\"\n",
    "conf_file = \"conf.txt\"\n",
    "docking_directory = \"/data/docking/gdp_frag-1/surpise_set\"\n"
   ]
  },
  {
   "cell_type": "code",
   "execution_count": 3,
   "metadata": {
    "papermill": {
     "duration": 0.36553,
     "end_time": "2019-08-20T08:27:11.011582",
     "exception": false,
     "start_time": "2019-08-20T08:27:10.646052",
     "status": "completed"
    },
    "tags": []
   },
   "outputs": [
    {
     "data": {
      "text/plain": [
       "False"
      ]
     },
     "execution_count": 3,
     "metadata": {},
     "output_type": "execute_result"
    }
   ],
   "source": [
    "import sys\n",
    "sys.path.append('/code')\n",
    "from tools.misc import is_interactive\n",
    "\n",
    "is_interactive()"
   ]
  },
  {
   "cell_type": "code",
   "execution_count": 4,
   "metadata": {
    "papermill": {
     "duration": 0.552162,
     "end_time": "2019-08-20T08:27:11.578165",
     "exception": false,
     "start_time": "2019-08-20T08:27:11.026003",
     "status": "completed"
    },
    "tags": []
   },
   "outputs": [],
   "source": [
    "import warnings\n",
    "warnings.filterwarnings('ignore')\n",
    "import glob\n",
    "from tools.docking.vina import vina_dock_multi\n",
    "from tools.docking.preparation import define_vina_box\n",
    "from example_notebooks.ui.file_widgets import PathSelector, DockButtons, InputBoxSet\n",
    "import os, shutil"
   ]
  },
  {
   "cell_type": "markdown",
   "metadata": {
    "papermill": {
     "duration": 0.012959,
     "end_time": "2019-08-20T08:27:11.604707",
     "exception": false,
     "start_time": "2019-08-20T08:27:11.591748",
     "status": "completed"
    },
    "tags": []
   },
   "source": [
    "# Docking (vina) multiple ligands in a box defined by a reference ligand\n",
    "---\n",
    "\n",
    "### 1. Selecting some inputs:\n",
    "\n",
    "---\n",
    "\n",
    "**First we need to select some inputs, namely:**\n",
    "- the protein we want to dock into (pdb file)\n",
    "- the reference ligand to define a box (mol/sdf)\n",
    "- the ligands we want to dock (sdf)\n",
    "- tan output directory\n",
    "\n",
    "**To do this:**  \n",
    "*(N.B. run the next 2 cells to show the file dialogues)*\n",
    "1. click on the arrow in the dropdown box at the top\n",
    "2. select the relevant file in the dialogue \n",
    "3. click the button next to either protein, query ligands or reference to set the file\n",
    "\n",
    "*repeat this until all files are selected*\n",
    "\n",
    "4. type the directory you want to get the results of the docking in into the 'Docking dir' input\n",
    "5. select 'Set' to set the directory if the directory exists or create to create it, and then set to set it\n",
    "\n"
   ]
  },
  {
   "cell_type": "code",
   "execution_count": 5,
   "metadata": {
    "papermill": {
     "duration": 0.021621,
     "end_time": "2019-08-20T08:27:11.640324",
     "exception": false,
     "start_time": "2019-08-20T08:27:11.618703",
     "status": "completed"
    },
    "tags": []
   },
   "outputs": [],
   "source": [
    "if is_interactive():\n",
    "    f = PathSelector(start_dir=os.path.join(os.getcwd()))\n",
    "    display(f.accord)\n",
    "    b = DockButtons(f)\n",
    "    display(b.render_buttons())"
   ]
  },
  {
   "cell_type": "code",
   "execution_count": 6,
   "metadata": {
    "papermill": {
     "duration": 0.020114,
     "end_time": "2019-08-20T08:27:11.673555",
     "exception": false,
     "start_time": "2019-08-20T08:27:11.653441",
     "status": "completed"
    },
    "tags": []
   },
   "outputs": [],
   "source": [
    "if is_interactive():\n",
    "    i = InputBoxSet(tlabel='Docking dir:')\n",
    "    display(i.render())"
   ]
  },
  {
   "cell_type": "markdown",
   "metadata": {
    "papermill": {
     "duration": 0.011952,
     "end_time": "2019-08-20T08:27:11.698469",
     "exception": false,
     "start_time": "2019-08-20T08:27:11.686517",
     "status": "completed"
    },
    "tags": []
   },
   "source": [
    "---\n",
    "\n",
    "### 2. Check the inputs \n",
    "---\n",
    "\n",
    "Run the next cell, and check you are happy with the inputs and docking directory\n"
   ]
  },
  {
   "cell_type": "code",
   "execution_count": 7,
   "metadata": {
    "papermill": {
     "duration": 0.027398,
     "end_time": "2019-08-20T08:27:11.738491",
     "exception": false,
     "start_time": "2019-08-20T08:27:11.711093",
     "status": "completed"
    },
    "tags": []
   },
   "outputs": [
    {
     "name": "stdout",
     "output_type": "stream",
     "text": [
      "inputs: \n",
      "\t - pdb: /data/GDP_frags/5O33_nolig.pdb \n",
      "\t - ligs: /data/GDP_frags/GDP_frag1/250_surprise_sucos.sdf       \n",
      "\t - ref: /data/GDP_frags/GDP_aligned.sdf \n",
      "\n",
      "docking directory: /data/docking/gdp_frag-1/surpise_set\n"
     ]
    }
   ],
   "source": [
    "if is_interactive():\n",
    "    pdb_file = b.pdb_button.description\n",
    "    ligands_file = b.lig_button.description\n",
    "    ref_file = b.ref_button.description\n",
    "    conf_file = 'conf.txt'\n",
    "    docking_directory = i.inbox.value\n",
    "else:\n",
    "    if not os.path.isdir(docking_directory):\n",
    "        os.makedirs(docking_directory)    \n",
    "\n",
    "print(f'inputs: \\n\\t - pdb: {pdb_file} \\n\\t - ligs: {ligands_file} \\\n",
    "      \\n\\t - ref: {ref_file} \\n\\ndocking directory: {docking_directory}')"
   ]
  },
  {
   "cell_type": "markdown",
   "metadata": {
    "papermill": {
     "duration": 0.012589,
     "end_time": "2019-08-20T08:27:11.764471",
     "exception": false,
     "start_time": "2019-08-20T08:27:11.751882",
     "status": "completed"
    },
    "tags": []
   },
   "source": [
    "---\n",
    "\n",
    "### 3. Define a box from the reference ligand\n",
    "---\n",
    "\n",
    "Define a box around your reference ligand, and then write it out to a configuration file for autodock vina\n",
    "\n",
    "There are some parameters that you can change here:\n",
    "\n",
    "```\n",
    "define_vina_box:\n",
    "    Use a reference ligand to produce a box definition for autodock vina\n",
    "    \n",
    "        :param ref_lig: a mol or sdf file of the reference ligand\n",
    "        :param output: the name of the output file\n",
    "        :param bufx: distance (A) of buffer in x direction (default=10)\n",
    "        :param bufy: distance (A) of buffer in y direction (default=10)\n",
    "        :param bufz: distance (A) of buffer in z direction (default=10)\n",
    "        :param exhaustiveness: exhaustivness of the vina calculation (default=20)\n",
    "        :param seed: random seed for vina (default=None)\n",
    "        :param cpu: number of cpu's to use in vina calculation\n",
    "```"
   ]
  },
  {
   "cell_type": "code",
   "execution_count": 8,
   "metadata": {
    "papermill": {
     "duration": 0.034394,
     "end_time": "2019-08-20T08:27:11.811835",
     "exception": false,
     "start_time": "2019-08-20T08:27:11.777441",
     "status": "completed"
    },
    "tags": []
   },
   "outputs": [],
   "source": [
    "define_vina_box(ligands_file, conf_file)"
   ]
  },
  {
   "cell_type": "markdown",
   "metadata": {
    "papermill": {
     "duration": 0.016837,
     "end_time": "2019-08-20T08:27:11.844191",
     "exception": false,
     "start_time": "2019-08-20T08:27:11.827354",
     "status": "completed"
    },
    "tags": []
   },
   "source": [
    "---\n",
    "\n",
    "### 4. Dock!\n",
    "---\n",
    "\n",
    "There are some parameters that you can change here:\n",
    "\n",
    "```\n",
    "vina_dock_multi:\n",
    "    Dock multiple ligands from an sdf file against a protein, with a given configuration file with vina. \n",
    "    Also does preparation from pdb and sdf\n",
    "    \n",
    "        :param protein_pdb: the input pdb file to prepare and dock against\n",
    "        :param ligands_sdf: an sdf file of multiple ligands to split, prepare and dock\n",
    "        :param conf: the path of a configuration file (required for now)\n",
    "        :param docking_dir: the output directory\n",
    "        :param multiproc: use multi-processing? (boolean)\n",
    "        :param exe: the path to the vina executable\n",
    "```\n",
    "\n",
    "But if you have followed the steps in the above boxes, you can just run this cell without a worry!\n"
   ]
  },
  {
   "cell_type": "code",
   "execution_count": 9,
   "metadata": {
    "papermill": {
     "duration": 0.148518,
     "end_time": "2019-08-20T08:27:12.006172",
     "exception": true,
     "start_time": "2019-08-20T08:27:11.857654",
     "status": "failed"
    },
    "tags": []
   },
   "outputs": [
    {
     "ename": "PermissionError",
     "evalue": "[Errno 13] Permission denied: '/data/docking/gdp_frag-1/surpise_set/250_surprise_sucos.sdf'",
     "output_type": "error",
     "traceback": [
      "\u001b[0;31m---------------------------------------------------------------------------\u001b[0m",
      "\u001b[0;31mPermissionError\u001b[0m                           Traceback (most recent call last)",
      "\u001b[0;32m<ipython-input-9-fe12a482e7d5>\u001b[0m in \u001b[0;36m<module>\u001b[0;34m\u001b[0m\n\u001b[1;32m      1\u001b[0m vina_dock_multi(protein_pdb=pdb_file, ligands_sdf=ligands_file, \n\u001b[0;32m----> 2\u001b[0;31m                 conf=conf_file, docking_dir=docking_directory, multiproc=True)\n\u001b[0m",
      "\u001b[0;32m/code/tools/docking/vina.py\u001b[0m in \u001b[0;36mvina_dock_multi\u001b[0;34m(protein_pdb, ligands_sdf, conf, docking_dir, multiproc, exe, overwrite)\u001b[0m\n\u001b[1;32m     53\u001b[0m     \u001b[0;34m:\u001b[0m\u001b[0;32mreturn\u001b[0m\u001b[0;34m:\u001b[0m\u001b[0;34m\u001b[0m\u001b[0m\n\u001b[1;32m     54\u001b[0m     '''\n\u001b[0;32m---> 55\u001b[0;31m     \u001b[0mshutil\u001b[0m\u001b[0;34m.\u001b[0m\u001b[0mcopy\u001b[0m\u001b[0;34m(\u001b[0m\u001b[0mligands_sdf\u001b[0m\u001b[0;34m,\u001b[0m \u001b[0mdocking_dir\u001b[0m\u001b[0;34m)\u001b[0m\u001b[0;34m\u001b[0m\u001b[0m\n\u001b[0m\u001b[1;32m     56\u001b[0m     \u001b[0mshutil\u001b[0m\u001b[0;34m.\u001b[0m\u001b[0mcopy\u001b[0m\u001b[0;34m(\u001b[0m\u001b[0mprotein_pdb\u001b[0m\u001b[0;34m,\u001b[0m \u001b[0mdocking_dir\u001b[0m\u001b[0;34m)\u001b[0m\u001b[0;34m\u001b[0m\u001b[0m\n\u001b[1;32m     57\u001b[0m     \u001b[0;32mif\u001b[0m \u001b[0mconf\u001b[0m\u001b[0;34m:\u001b[0m\u001b[0;34m\u001b[0m\u001b[0m\n",
      "\u001b[0;32m/opt/conda/envs/ofup/lib/python3.6/shutil.py\u001b[0m in \u001b[0;36mcopy\u001b[0;34m(src, dst, follow_symlinks)\u001b[0m\n\u001b[1;32m    239\u001b[0m     \u001b[0;32mif\u001b[0m \u001b[0mos\u001b[0m\u001b[0;34m.\u001b[0m\u001b[0mpath\u001b[0m\u001b[0;34m.\u001b[0m\u001b[0misdir\u001b[0m\u001b[0;34m(\u001b[0m\u001b[0mdst\u001b[0m\u001b[0;34m)\u001b[0m\u001b[0;34m:\u001b[0m\u001b[0;34m\u001b[0m\u001b[0m\n\u001b[1;32m    240\u001b[0m         \u001b[0mdst\u001b[0m \u001b[0;34m=\u001b[0m \u001b[0mos\u001b[0m\u001b[0;34m.\u001b[0m\u001b[0mpath\u001b[0m\u001b[0;34m.\u001b[0m\u001b[0mjoin\u001b[0m\u001b[0;34m(\u001b[0m\u001b[0mdst\u001b[0m\u001b[0;34m,\u001b[0m \u001b[0mos\u001b[0m\u001b[0;34m.\u001b[0m\u001b[0mpath\u001b[0m\u001b[0;34m.\u001b[0m\u001b[0mbasename\u001b[0m\u001b[0;34m(\u001b[0m\u001b[0msrc\u001b[0m\u001b[0;34m)\u001b[0m\u001b[0;34m)\u001b[0m\u001b[0;34m\u001b[0m\u001b[0m\n\u001b[0;32m--> 241\u001b[0;31m     \u001b[0mcopyfile\u001b[0m\u001b[0;34m(\u001b[0m\u001b[0msrc\u001b[0m\u001b[0;34m,\u001b[0m \u001b[0mdst\u001b[0m\u001b[0;34m,\u001b[0m \u001b[0mfollow_symlinks\u001b[0m\u001b[0;34m=\u001b[0m\u001b[0mfollow_symlinks\u001b[0m\u001b[0;34m)\u001b[0m\u001b[0;34m\u001b[0m\u001b[0m\n\u001b[0m\u001b[1;32m    242\u001b[0m     \u001b[0mcopymode\u001b[0m\u001b[0;34m(\u001b[0m\u001b[0msrc\u001b[0m\u001b[0;34m,\u001b[0m \u001b[0mdst\u001b[0m\u001b[0;34m,\u001b[0m \u001b[0mfollow_symlinks\u001b[0m\u001b[0;34m=\u001b[0m\u001b[0mfollow_symlinks\u001b[0m\u001b[0;34m)\u001b[0m\u001b[0;34m\u001b[0m\u001b[0m\n\u001b[1;32m    243\u001b[0m     \u001b[0;32mreturn\u001b[0m \u001b[0mdst\u001b[0m\u001b[0;34m\u001b[0m\u001b[0m\n",
      "\u001b[0;32m/opt/conda/envs/ofup/lib/python3.6/shutil.py\u001b[0m in \u001b[0;36mcopyfile\u001b[0;34m(src, dst, follow_symlinks)\u001b[0m\n\u001b[1;32m    119\u001b[0m     \u001b[0;32melse\u001b[0m\u001b[0;34m:\u001b[0m\u001b[0;34m\u001b[0m\u001b[0m\n\u001b[1;32m    120\u001b[0m         \u001b[0;32mwith\u001b[0m \u001b[0mopen\u001b[0m\u001b[0;34m(\u001b[0m\u001b[0msrc\u001b[0m\u001b[0;34m,\u001b[0m \u001b[0;34m'rb'\u001b[0m\u001b[0;34m)\u001b[0m \u001b[0;32mas\u001b[0m \u001b[0mfsrc\u001b[0m\u001b[0;34m:\u001b[0m\u001b[0;34m\u001b[0m\u001b[0m\n\u001b[0;32m--> 121\u001b[0;31m             \u001b[0;32mwith\u001b[0m \u001b[0mopen\u001b[0m\u001b[0;34m(\u001b[0m\u001b[0mdst\u001b[0m\u001b[0;34m,\u001b[0m \u001b[0;34m'wb'\u001b[0m\u001b[0;34m)\u001b[0m \u001b[0;32mas\u001b[0m \u001b[0mfdst\u001b[0m\u001b[0;34m:\u001b[0m\u001b[0;34m\u001b[0m\u001b[0m\n\u001b[0m\u001b[1;32m    122\u001b[0m                 \u001b[0mcopyfileobj\u001b[0m\u001b[0;34m(\u001b[0m\u001b[0mfsrc\u001b[0m\u001b[0;34m,\u001b[0m \u001b[0mfdst\u001b[0m\u001b[0;34m)\u001b[0m\u001b[0;34m\u001b[0m\u001b[0m\n\u001b[1;32m    123\u001b[0m     \u001b[0;32mreturn\u001b[0m \u001b[0mdst\u001b[0m\u001b[0;34m\u001b[0m\u001b[0m\n",
      "\u001b[0;31mPermissionError\u001b[0m: [Errno 13] Permission denied: '/data/docking/gdp_frag-1/surpise_set/250_surprise_sucos.sdf'"
     ]
    }
   ],
   "source": [
    "vina_dock_multi(protein_pdb=pdb_file, ligands_sdf=ligands_file, \n",
    "                conf=conf_file, docking_dir=docking_directory, multiproc=True)"
   ]
  },
  {
   "cell_type": "code",
   "execution_count": null,
   "metadata": {
    "papermill": {
     "duration": null,
     "end_time": null,
     "exception": null,
     "start_time": null,
     "status": "pending"
    },
    "tags": []
   },
   "outputs": [],
   "source": [
    "docking_dir=docking_directory\n",
    "\n",
    "if not os.path.isdir(os.path.join(docking_dir, 'docked/')):\n",
    "    os.mkdir(os.path.join(docking_dir, 'docked/'))\n",
    "if not os.path.isdir(os.path.join(docking_dir, 'logs/')):\n",
    "    os.mkdir(os.path.join(docking_dir, 'logs/'))\n",
    "if not os.path.isdir(os.path.join(docking_dir, 'inputs/')):\n",
    "    os.mkdir(os.path.join(docking_dir, 'inputs/'))\n",
    "\n",
    "docked_files = glob.glob(os.path.join(docking_dir, '*_docked.pdbqt'))\n",
    "for f in docked_files:\n",
    "    shutil.move(f, os.path.join(docking_dir, 'docked/' + f.split('/')[-1]))\n",
    "\n",
    "logs = glob.glob(os.path.join(docking_dir, '*_docked.log'))\n",
    "for f in logs:\n",
    "    shutil.move(f, os.path.join(docking_dir, 'logs/' + f.split('/')[-1]))\n",
    "\n",
    "in_ligs = glob.glob(os.path.join(docking_dir, '*_prepared.pdbqt'))\n",
    "for f in in_ligs:\n",
    "    shutil.move(f, os.path.join(docking_dir, 'inputs/' + f.split('/')[-1]))\n",
    "\n",
    "print_str = f\"Docking complete! Your results have been saved to: \\\n",
    "\\n\\t - docked ligands: {os.path.join(docking_directory, 'docked/')} \\\n",
    "\\n\\t - log files: {os.path.join(docking_directory, 'logs/')} \\\n",
    "\\n\\t - prepared input files: {os.path.join(docking_directory, 'inputs/')}\"\n",
    "        \n",
    "print(print_str)"
   ]
  }
 ],
 "metadata": {
  "kernelspec": {
   "display_name": "Python 3",
   "language": "python",
   "name": "python3"
  },
  "language_info": {
   "codemirror_mode": {
    "name": "ipython",
    "version": 3
   },
   "file_extension": ".py",
   "mimetype": "text/x-python",
   "name": "python",
   "nbconvert_exporter": "python",
   "pygments_lexer": "ipython3",
   "version": "3.6.5"
  },
  "papermill": {
   "duration": 2.678977,
   "end_time": "2019-08-20T08:27:12.425584",
   "environment_variables": {},
   "exception": true,
   "input_path": "/code/example_notebooks/dock_multi_against_ref.ipynb",
   "output_path": "GDP_frag1_docking_out-surprise.ipynb",
   "parameters": {
    "conf_file": "conf.txt",
    "docking_directory": "/data/docking/gdp_frag-1/surpise_set",
    "ligands_file": "/data/GDP_frags/GDP_frag1/250_surprise_sucos.sdf",
    "pdb_file": "/data/GDP_frags/5O33_nolig.pdb",
    "ref_file": "/data/GDP_frags/GDP_aligned.sdf"
   },
   "start_time": "2019-08-20T08:27:09.746607",
   "version": "1.1.0"
  }
 },
 "nbformat": 4,
 "nbformat_minor": 2
}