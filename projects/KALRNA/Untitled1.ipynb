{
 "cells": [
  {
   "cell_type": "code",
   "execution_count": 11,
   "metadata": {},
   "outputs": [],
   "source": [
    "from pybel import *\n",
    "\n",
    "def obconv(in_form, out_form, in_file, out_file):\n",
    "    output = Outputfile(out_form, out_file, overwrite=True)\n",
    "    for m in readfile(in_form, in_file):\n",
    "        output.write(m)\n",
    "    output.close()\n",
    "    \n",
    "    \n",
    "#     obconv = openbabel.OBConversion()\n",
    "#     obconv.SetInAndOutFormats(in_form, out_form)\n",
    "#     # blank mol for ob\n",
    "#     mol = openbabel.OBMol()\n",
    "#     # read pdb and write mol\n",
    "#     notatend = obconv.ReadFile(mol, in_file)\n",
    "#     while notatend:\n",
    "#         obconv.WriteFile(mol, out_file)"
   ]
  },
  {
   "cell_type": "code",
   "execution_count": 12,
   "metadata": {},
   "outputs": [],
   "source": [
    "import glob\n",
    "\n",
    "docking_results = glob.glob('/Users/res3/michellab/XChem-examples/KALRNA/GDP_frags/GDP_docked/*.pdbqt')\n",
    "\n",
    "for d in docking_results:\n",
    "    obconv(in_form='pdbqt', out_form='sdf', in_file=d, out_file=d.replace('.pdbqt', '.sdf'))"
   ]
  },
  {
   "cell_type": "code",
   "execution_count": null,
   "metadata": {},
   "outputs": [],
   "source": []
  }
 ],
 "metadata": {
  "kernelspec": {
   "display_name": "Python 3",
   "language": "python",
   "name": "python3"
  },
  "language_info": {
   "codemirror_mode": {
    "name": "ipython",
    "version": 3
   },
   "file_extension": ".py",
   "mimetype": "text/x-python",
   "name": "python",
   "nbconvert_exporter": "python",
   "pygments_lexer": "ipython3",
   "version": "3.7.3"
  }
 },
 "nbformat": 4,
 "nbformat_minor": 2
}
