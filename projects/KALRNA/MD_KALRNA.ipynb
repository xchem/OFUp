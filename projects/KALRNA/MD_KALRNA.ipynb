{
 "cells": [
  {
   "cell_type": "code",
   "execution_count": 1,
   "metadata": {},
   "outputs": [
    {
     "name": "stdout",
     "output_type": "stream",
     "text": [
      "ffevaluate module is in beta version\n"
     ]
    },
    {
     "name": "stderr",
     "output_type": "stream",
     "text": [
      "/dls/science/groups/i04-1/software/anaconda/envs/docking/lib/python3.6/site-packages/pyemma/util/log.py:65: YAMLLoadWarning: calling yaml.load() without Loader=... is deprecated, as the default Loader is unsafe. Please read https://msg.pyyaml.org/load for full details.\n",
      "  D = yaml.load(f2)\n"
     ]
    },
    {
     "name": "stdout",
     "output_type": "stream",
     "text": [
      "\n",
      "Please cite HTMD: Doerr et al.(2016)JCTC,12,1845. \n",
      "https://dx.doi.org/10.1021/acs.jctc.6b00049\n",
      "Documentation: http://software.acellera.com/\n",
      "\n",
      "You are on the latest HTMD version (1.15.2).\n",
      "\n"
     ]
    }
   ],
   "source": [
    "import os, shutil, subprocess\n",
    "import gromacs\n",
    "from htmd.ui import *\n",
    "import openbabel\n",
    "\n",
    "gromacs.config.setup()\n",
    "\n",
    "# os.system('source /dls/science/groups/i04-1/software/gromacs/bin/GMXRC')"
   ]
  },
  {
   "cell_type": "code",
   "execution_count": 2,
   "metadata": {},
   "outputs": [],
   "source": [
    "def prep_protein(protein_pdb, keep='protein'):\n",
    "    mol = Molecule(protein_pdb)\n",
    "    mol.filter(keep)\n",
    "    prot = proteinPrepare(mol)\n",
    "    preppdb = protein_pdb.replace('.pdb', '_prepared.pdb')\n",
    "    prot.write(preppdb)\n",
    "\n",
    "    return prot, preppdb\n",
    "\n",
    "\n",
    "def genion(s, o, p, pname='NA', nname='CL', neutral=True, option=13):\n",
    "    command = f\"echo {option} | gmx genion -s {s} -o {o} -p {p} -pname {pname} -nname {nname}\"\n",
    "    if neutral:\n",
    "        command += ' -neutral'\n",
    "    process = subprocess.Popen(command, stdout=subprocess.PIPE, stderr=subprocess.PIPE, shell=True)\n",
    "    out, err = process.communicate()\n",
    "    \n",
    "    if 'Error' in out.decode('ascii') or 'Error' in err.decode('ascii'):\n",
    "        raise Exception('Error:\\n' + out.decode(ascii) + '\\n' + err.decode(ascii))\n",
    "    \n",
    "    return out, err\n",
    "\n"
   ]
  },
  {
   "cell_type": "code",
   "execution_count": 4,
   "metadata": {},
   "outputs": [],
   "source": [
    "# os.mkdir('20190806-md-3')\n",
    "# shutil.copy(\n",
    "#     '/dls/labxchem/data/2017/lb18145-1/processing/fragalysis/XX02KALRNA/XX02KALRNA-x1376_1/XX02KALRNA-x1376_1_apo.pdb',\n",
    "# '20190806-md-3/')\n",
    "# os.chdir('20190806-md-3')"
   ]
  },
  {
   "cell_type": "code",
   "execution_count": 29,
   "metadata": {},
   "outputs": [
    {
     "data": {
      "text/plain": [
       "(0, None, None)"
      ]
     },
     "execution_count": 29,
     "metadata": {},
     "output_type": "execute_result"
    }
   ],
   "source": [
    "# prot, prot_file = prep_protein('XX02KALRNA-x1376_1_apo.pdb')\n",
    "gromacs.pdb2gmx(f=prot_file, o='XX02KALRNA.gro', p='XX02KALRNA.top', ff='amber99sb-star-ildnp', water='tip4p', ignh=True)"
   ]
  },
  {
   "cell_type": "code",
   "execution_count": 30,
   "metadata": {},
   "outputs": [
    {
     "data": {
      "text/plain": [
       "(0, None, None)"
      ]
     },
     "execution_count": 30,
     "metadata": {},
     "output_type": "execute_result"
    }
   ],
   "source": [
    "gromacs.editconf(f='XX02KALRNA.gro', o='XX02KALRNA_boxed.gro', bt='cubic', c=True, d=1)"
   ]
  },
  {
   "cell_type": "code",
   "execution_count": 31,
   "metadata": {},
   "outputs": [
    {
     "data": {
      "text/plain": [
       "(0, None, None)"
      ]
     },
     "execution_count": 31,
     "metadata": {},
     "output_type": "execute_result"
    }
   ],
   "source": [
    "gromacs.solvate(cp='XX02KALRNA_boxed.gro', cs='tip4p.gro', o='XX02KALRNA_solv.gro', p='XX02KALRNA.top')"
   ]
  },
  {
   "cell_type": "code",
   "execution_count": 32,
   "metadata": {},
   "outputs": [
    {
     "data": {
      "text/plain": [
       "(0, None, None)"
      ]
     },
     "execution_count": 32,
     "metadata": {},
     "output_type": "execute_result"
    }
   ],
   "source": [
    "with open('ions.mdp', 'w') as f:\n",
    "    f.write(ions_mdp)\n",
    "    \n",
    "gromacs.grompp(f='ions.mdp', c='XX02KALRNA_solv.gro', p='XX02KALRNA.top', o='ions.tpr')"
   ]
  },
  {
   "cell_type": "code",
   "execution_count": 33,
   "metadata": {},
   "outputs": [
    {
     "data": {
      "text/plain": [
       "(b\"Will try to add 10 NA ions and 0 CL ions.\\nSelect a continuous group of solvent molecules\\nSelected 13: 'SOL'\\n\\nProcessing topology\\nReplacing 10 solute molecules in topology file (XX02KALRNA.top)  by 10 NA and 0 CL ions.\\n\",\n",
       " b'                  :-) GROMACS - gmx genion, VERSION 5.1.4 (-:\\n\\n                            GROMACS is written by:\\n     Emile Apol      Rossen Apostolov  Herman J.C. Berendsen    Par Bjelkmar   \\n Aldert van Buuren   Rudi van Drunen     Anton Feenstra   Sebastian Fritsch \\n  Gerrit Groenhof   Christoph Junghans   Anca Hamuraru    Vincent Hindriksen\\n Dimitrios Karkoulis    Peter Kasson        Jiri Kraus      Carsten Kutzner  \\n    Per Larsson      Justin A. Lemkul   Magnus Lundborg   Pieter Meulenhoff \\n   Erik Marklund      Teemu Murtola       Szilard Pall       Sander Pronk   \\n   Roland Schulz     Alexey Shvetsov     Michael Shirts     Alfons Sijbers  \\n   Peter Tieleman    Teemu Virolainen  Christian Wennberg    Maarten Wolf   \\n                           and the project leaders:\\n        Mark Abraham, Berk Hess, Erik Lindahl, and David van der Spoel\\n\\nCopyright (c) 1991-2000, University of Groningen, The Netherlands.\\nCopyright (c) 2001-2015, The GROMACS development team at\\nUppsala University, Stockholm University and\\nthe Royal Institute of Technology, Sweden.\\ncheck out http://www.gromacs.org for more information.\\n\\nGROMACS is free software; you can redistribute it and/or modify it\\nunder the terms of the GNU Lesser General Public License\\nas published by the Free Software Foundation; either version 2.1\\nof the License, or (at your option) any later version.\\n\\nGROMACS:      gmx genion, VERSION 5.1.4\\nExecutable:   /dls/science/groups/i04-1/software/gromacs//bin/gmx\\nData prefix:  /dls/science/groups/i04-1/software/gromacs/\\nCommand line:\\n  gmx genion -s ions.tpr -o XX02KALRNA_solv_ions.gro -p XX02KALRNA.top -pname NA -nname CL -neutral\\n\\nReading file ions.tpr, VERSION 5.1.4 (single precision)\\nReading file ions.tpr, VERSION 5.1.4 (single precision)\\nGroup     0 (         System) has 116953 elements\\nGroup     1 (        Protein) has  5717 elements\\nGroup     2 (      Protein-H) has  2855 elements\\nGroup     3 (        C-alpha) has   356 elements\\nGroup     4 (       Backbone) has  1068 elements\\nGroup     5 (      MainChain) has  1426 elements\\nGroup     6 (   MainChain+Cb) has  1762 elements\\nGroup     7 (    MainChain+H) has  1769 elements\\nGroup     8 (      SideChain) has  3948 elements\\nGroup     9 (    SideChain-H) has  1429 elements\\nGroup    10 (    Prot-Masses) has  5717 elements\\nGroup    11 (    non-Protein) has 111236 elements\\nGroup    12 (          Water) has 111236 elements\\nGroup    13 (            SOL) has 111236 elements\\nGroup    14 (      non-Water) has  5717 elements\\nSelect a group: Number of (4-atomic) solvent molecules: 27809\\n\\nBack Off! I just backed up temp.topXjGBT0 to ./#temp.topXjGBT0.1#\\n\\nBack Off! I just backed up XX02KALRNA.top to ./#XX02KALRNA.top.10#\\nReplacing solvent molecule 2792 (atom 16885) with NA\\nReplacing solvent molecule 7740 (atom 36677) with NA\\nReplacing solvent molecule 6101 (atom 30121) with NA\\nReplacing solvent molecule 25343 (atom 107089) with NA\\nReplacing solvent molecule 25892 (atom 109285) with NA\\nReplacing solvent molecule 4414 (atom 23373) with NA\\nReplacing solvent molecule 9214 (atom 42573) with NA\\nReplacing solvent molecule 1221 (atom 10601) with NA\\nReplacing solvent molecule 5688 (atom 28469) with NA\\nReplacing solvent molecule 24208 (atom 102549) with NA\\n\\n\\nBack Off! I just backed up XX02KALRNA_solv_ions.gro to ./#XX02KALRNA_solv_ions.gro.2#\\n\\ngcq#345: \"The time for theory is over\" (J. Hajdu)\\n\\n')"
      ]
     },
     "execution_count": 33,
     "metadata": {},
     "output_type": "execute_result"
    }
   ],
   "source": [
    "genion(s='ions.tpr', o='XX02KALRNA_solv_ions.gro', p='XX02KALRNA.top', pname='NA', nname='CL', \n",
    "       neutral=True, option=13)\n"
   ]
  },
  {
   "cell_type": "code",
   "execution_count": 46,
   "metadata": {},
   "outputs": [
    {
     "data": {
      "text/plain": [
       "(0, None, None)"
      ]
     },
     "execution_count": 46,
     "metadata": {},
     "output_type": "execute_result"
    }
   ],
   "source": [
    "with open('emin1.mdp', 'w') as f:\n",
    "    f.write(minim_mdp_1)\n",
    "    \n",
    "with open('emin2.mdp', 'w') as f:\n",
    "    f.write(minim_mdp_2)\n",
    "    \n",
    "with open('emin3.mdp', 'w') as f:\n",
    "    f.write(minim_mdp_3)\n",
    "    \n",
    "gromacs.grompp(f='emin1.mdp', c='XX02KALRNA_solv_ions.gro', p='XX02KALRNA.top', o='emin1.tpr')\n",
    "gromacs.mdrun(v=True, deffnm='emin1')\n",
    "\n",
    "gromacs.grompp(f='emin2.mdp', c='emin1.gro', p='XX02KALRNA.top', o='emin2.tpr')\n",
    "gromacs.mdrun(v=True, deffnm='emin2')\n",
    "\n",
    "gromacs.grompp(f='emin3.mdp', c='emin2.gro', p='XX02KALRNA.top', o='emin3.tpr')\n",
    "gromacs.mdrun(v=True, deffnm='emin3')"
   ]
  },
  {
   "cell_type": "code",
   "execution_count": 47,
   "metadata": {},
   "outputs": [
    {
     "data": {
      "text/plain": [
       "(0, None, None)"
      ]
     },
     "execution_count": 47,
     "metadata": {},
     "output_type": "execute_result"
    }
   ],
   "source": [
    "with open('nvt.mdp', 'w') as f:\n",
    "    f.write(nvt_mdp)\n",
    "    \n",
    "with open('npt.mdp', 'w') as f:\n",
    "    f.write(npt_mdp)\n",
    "    \n",
    "gromacs.grompp(f='nvt.mdp', c='emin3.gro', p='XX02KALRNA.top', o='nvt.tpr')\n",
    "gromacs.mdrun(v=True, deffnm='nvt')\n",
    "\n",
    "gromacs.grompp(f='npt.mdp', c='nvt.gro', p='XX02KALRNA.top', o='npt.tpr')\n",
    "gromacs.mdrun(v=True, deffnm='npt')"
   ]
  },
  {
   "cell_type": "code",
   "execution_count": null,
   "metadata": {},
   "outputs": [],
   "source": [
    "with open('md.mdp', 'w') as f:\n",
    "    f.write(md_mdp)\n",
    "    \n",
    "gromacs.grompp(f='md.mdp', c='npt.gro', p='XX02KALRNA.top', o='md.tpr')\n",
    "gromacs.mdrun(v=True, deffnm='md')\n"
   ]
  },
  {
   "cell_type": "code",
   "execution_count": 65,
   "metadata": {},
   "outputs": [],
   "source": [
    "opts = \"\"\"\n",
    "; NEIGHBORSEARCHING PARAMETERS\n",
    "nstlist                  = 5\n",
    "ns-type                  = Grid\n",
    "pbc                      = xyz\n",
    "rlist                    = 1.0\n",
    "\n",
    "; OPTIONS FOR ELECTROSTATICS AND VDW\n",
    "coulombtype              = PME\n",
    "pme_order                = 4            ; cubic interpolation\n",
    "fourierspacing           = 0.16         ; grid spacing for FFT\n",
    "rcoulomb                 = 1.0\n",
    "vdw-type                 = Cut-off\n",
    "rvdw                     = 1.0\n",
    "\"\"\"\n",
    "\n",
    "\n",
    "ions_mdp = \"\"\"\n",
    "; ions.mdp - used as input into grompp to generate ions.tpr\n",
    "; Parameters describing what to do, when to stop and what to save\n",
    "integrator  = steep         ; Algorithm (steep = steepest descent minimization)\n",
    "emtol       = 1000.0        ; Stop minimization when the maximum force < 1000.0 kJ/mol/nm\n",
    "emstep      = 0.01          ; Minimization step size\n",
    "nsteps      = 50000         ; Maximum number of (minimization) steps to perform\n",
    "disre = simple\n",
    "\"\"\" + opts\n",
    "\n",
    "minim_mdp_1 = \"\"\"\n",
    "; minim.mdp - used as input into grompp to generate em.tpr\n",
    "; Parameters describing what to do, when to stop and what to save\n",
    "integrator  = steep         ; Algorithm (steep = steepest descent minimization)\n",
    "emtol       = 1000.0        ; Stop minimization when the maximum force < 1000.0 kJ/mol/nm\n",
    "emstep      = 0.01          ; Minimization step size\n",
    "nsteps      = 5000          ; Maximum number of (minimization) steps to perform\n",
    "simulation-part = 1         ; simulation part for multiple parts\n",
    "constraints = all-bonds\n",
    "\"\"\"  + opts\n",
    "\n",
    "minim_mdp_2 = \"\"\"\n",
    "; minim.mdp - used as input into grompp to generate em.tpr\n",
    "; Parameters describing what to do, when to stop and what to save\n",
    "integrator  = steep         ; Algorithm (steep = steepest descent minimization)\n",
    "emtol       = 1000.0        ; Stop minimization when the maximum force < 1000.0 kJ/mol/nm\n",
    "emstep      = 0.01          ; Minimization step size\n",
    "nsteps      = 5000          ; Maximum number of (minimization) steps to perform\n",
    "simulation-part = 1         ; simulation part for multiple parts\n",
    "constraints = h-bonds\n",
    "\"\"\"  + opts\n",
    "\n",
    "minim_mdp_3 = \"\"\"\n",
    "; minim.mdp - used as input into grompp to generate em.tpr\n",
    "; Parameters describing what to do, when to stop and what to save\n",
    "integrator  = steep         ; Algorithm (steep = steepest descent minimization)\n",
    "emtol       = 1000.0        ; Stop minimization when the maximum force < 1000.0 kJ/mol/nm\n",
    "emstep      = 0.01          ; Minimization step size\n",
    "nsteps      = 20000         ; Maximum number of (minimization) steps to perform\n",
    "simulation-part = 1         ; simulation part for multiple parts\n",
    "constraints = none\n",
    "\"\"\"  + opts\n",
    "\n",
    "nvt_mdp = \"\"\"\n",
    "define                  = -DPOSRES  ; position restrain the protein\n",
    "; Run parameters\n",
    "integrator              = md        ; leap-frog integrator\n",
    "nsteps                  = 50000     ; 2 * 50000 = 100 ps\n",
    "dt                      = 0.001     ; 2 fs\n",
    "; Output control\n",
    "nstxout                 = 500       ; save coordinates every 1.0 ps\n",
    "nstvout                 = 500       ; save velocities every 1.0 ps\n",
    "nstenergy               = 500       ; save energies every 1.0 ps\n",
    "nstlog                  = 500       ; update log file every 1.0 ps\n",
    "; Bond parameters\n",
    "continuation            = no        ; first dynamics run\n",
    "constraint_algorithm    = lincs     ; holonomic constraints\n",
    "lincs_iter              = 1         ; accuracy of LINCS\n",
    "lincs_order             = 4         ; also related to accuracy\n",
    "; Nonbonded settings\n",
    "cutoff-scheme           = Verlet    ; Buffered neighbor searching\n",
    "ns_type                 = grid      ; search neighboring grid cells\n",
    "nstlist                 = 10        ; 20 fs, largely irrelevant with Verlet\n",
    "rcoulomb                = 1.0       ; short-range electrostatic cutoff (in nm)\n",
    "rvdw                    = 1.0       ; short-range van der Waals cutoff (in nm)\n",
    "DispCorr                = EnerPres  ; account for cut-off vdW scheme\n",
    "; Electrostatics\n",
    "coulombtype             = PME       ; Particle Mesh Ewald for long-range electrostatics\n",
    "pme_order               = 4         ; cubic interpolation\n",
    "fourierspacing          = 0.16      ; grid spacing for FFT\n",
    "; Temperature coupling is on\n",
    "tcoupl                  = V-rescale             ; modified Berendsen thermostat\n",
    "tc-grps                 = Protein Non-Protein   ; two coupling groups - more accurate\n",
    "tau_t                   = 0.1     0.1           ; time constant, in ps\n",
    "ref_t                   = 300     300           ; reference temperature, one for each group, in K\n",
    "; Pressure coupling is off\n",
    "pcoupl                  = no        ; no pressure coupling in NVT\n",
    "; Periodic boundary conditions\n",
    "pbc                     = xyz       ; 3-D PBC\n",
    "; Velocity generation\n",
    "gen_vel                 = yes       ; assign velocities from Maxwell distribution\n",
    "gen_temp                = 300       ; temperature for Maxwell distribution\n",
    "gen_seed                = -1        ; generate a random seed\n",
    "\"\"\"\n",
    "\n",
    "npt_mdp = \"\"\"\n",
    "define                  = -DPOSRES  ; position restrain the protein\n",
    "; Run parameters\n",
    "integrator              = md        ; leap-frog integrator\n",
    "nsteps                  = 50000     ; 2 * 50000 = 100 ps\n",
    "dt                      = 0.001     ; 2 fs\n",
    "; Output control\n",
    "nstxout                 = 500       ; save coordinates every 1.0 ps\n",
    "nstvout                 = 500       ; save velocities every 1.0 ps\n",
    "nstenergy               = 500       ; save energies every 1.0 ps\n",
    "nstlog                  = 500       ; update log file every 1.0 ps\n",
    "; Bond parameters\n",
    "continuation            = yes       ; Restarting after NVT\n",
    "constraint_algorithm    = lincs     ; holonomic constraints\n",
    "lincs_iter              = 1         ; accuracy of LINCS\n",
    "lincs_order             = 4         ; also related to accuracy\n",
    "; Nonbonded settings\n",
    "cutoff-scheme           = Verlet    ; Buffered neighbor searching\n",
    "ns_type                 = grid      ; search neighboring grid cells\n",
    "nstlist                 = 10        ; 20 fs, largely irrelevant with Verlet scheme\n",
    "rcoulomb                = 1.0       ; short-range electrostatic cutoff (in nm)\n",
    "rvdw                    = 1.0       ; short-range van der Waals cutoff (in nm)\n",
    "DispCorr                = EnerPres  ; account for cut-off vdW scheme\n",
    "; Electrostatics\n",
    "coulombtype             = PME       ; Particle Mesh Ewald for long-range electrostatics\n",
    "pme_order               = 4         ; cubic interpolation\n",
    "fourierspacing          = 0.16      ; grid spacing for FFT\n",
    "; Temperature coupling is on\n",
    "tcoupl                  = V-rescale             ; modified Berendsen thermostat\n",
    "tc-grps                 = Protein Non-Protein   ; two coupling groups - more accurate\n",
    "tau_t                   = 0.1     0.1           ; time constant, in ps\n",
    "ref_t                   = 300     300           ; reference temperature, one for each group, in K\n",
    "; Pressure coupling is on\n",
    "pcoupl                  = Parrinello-Rahman     ; Pressure coupling on in NPT\n",
    "pcoupltype              = isotropic             ; uniform scaling of box vectors\n",
    "tau_p                   = 2.0                   ; time constant, in ps\n",
    "ref_p                   = 1.0                   ; reference pressure, in bar\n",
    "compressibility         = 4.5e-5                ; isothermal compressibility of water, bar^-1\n",
    "refcoord_scaling        = com\n",
    "; Periodic boundary conditions\n",
    "pbc                     = xyz       ; 3-D PBC\n",
    "; Velocity generation\n",
    "gen_vel                 = no        ; Velocity generation is off\n",
    "\"\"\"\n",
    "\n",
    "md_mdp = \"\"\"\n",
    "; Run parameters\n",
    "integrator              = md        ; leap-frog integrator\n",
    "nsteps                  = 20000000    ; 2 * 500000 = 1000 ps (1 ns)\n",
    "dt                      = 0.001     ; 1 fs\n",
    "; Output control\n",
    "nstxout                 = 0         ; suppress bulky .trr file by specifying\n",
    "nstvout                 = 0         ; 0 for output frequency of nstxout,\n",
    "nstfout                 = 0         ; nstvout, and nstfout\n",
    "nstenergy               = 5000      ; save energies every 10.0 ps\n",
    "nstlog                  = 5000      ; update log file every 10.0 ps\n",
    "nstxout-compressed      = 5000      ; save compressed coordinates every 10.0 ps\n",
    "compressed-x-grps       = System    ; save the whole system\n",
    "\n",
    "; Bond parameters\n",
    "continuation            = yes       ; Restarting after NPT\n",
    "constraint_algorithm    = shake     ; holonomic constraints\n",
    "shake-tol = 0.0001\n",
    "constraints = none\n",
    "\n",
    "; Neighborsearching\n",
    "cutoff-scheme           = Verlet    ; Buffered neighbor searching\n",
    "ns_type                 = grid      ; search neighboring grid cells\n",
    "nstlist                 = 10        ; 20 fs, largely irrelevant with Verlet scheme\n",
    "rcoulomb                = 1.0       ; short-range electrostatic cutoff (in nm)\n",
    "rvdw                    = 1.0       ; short-range van der Waals cutoff (in nm)\n",
    "\n",
    "; Electrostatics\n",
    "coulombtype             = PME       ; Particle Mesh Ewald for long-range electrostatics\n",
    "pme_order               = 4         ; cubic interpolation\n",
    "fourierspacing          = 0.16      ; grid spacing for FFT\n",
    "\n",
    "; Temperature coupling is on\n",
    "tcoupl                  = v-rescale             ; modified Berendsen thermostat\n",
    "tc-grps                 = Protein Non-Protein   ; two coupling groups - more accurate\n",
    "tau_t                   = 0.1     0.1           ; time constant, in ps\n",
    "ref_t                   = 300     300           ; reference temperature, one for each group, in K\n",
    "\n",
    "; Pressure coupling is on\n",
    "pcoupl                  = Parrinello-Rahman     ; Pressure coupling on in NPT\n",
    "pcoupltype              = isotropic             ; uniform scaling of box vectors\n",
    "tau_p                   = 2.0                   ; time constant, in ps\n",
    "ref_p                   = 1.0                   ; reference pressure, in bar\n",
    "compressibility         = 4.5e-5                ; isothermal compressibility of water, bar^-1\n",
    "\n",
    "; Periodic boundary conditions\n",
    "pbc                     = xyz       ; 3-D PBC\n",
    "; Dispersion correction\n",
    "DispCorr                = EnerPres  ; account for cut-off vdW scheme\n",
    "; Velocity generation\n",
    "gen_vel                 = no        ; Velocity generation is off\n",
    "\"\"\""
   ]
  },
  {
   "cell_type": "code",
   "execution_count": 33,
   "metadata": {},
   "outputs": [
    {
     "name": "stdout",
     "output_type": "stream",
     "text": [
      "posre_Protein_chain_A.itp           #XX02KALRNA_Protein_chain_A.itp.3#\r\n",
      "#posre_Protein_chain_A.itp.1#       XX02KALRNA_Protein_chain_B.itp\r\n",
      "#posre_Protein_chain_A.itp.2#       #XX02KALRNA_Protein_chain_B.itp.1#\r\n",
      "#posre_Protein_chain_A.itp.3#       #XX02KALRNA_Protein_chain_B.itp.2#\r\n",
      "posre_Protein_chain_B.itp           #XX02KALRNA_Protein_chain_B.itp.3#\r\n",
      "#posre_Protein_chain_B.itp.1#       XX02KALRNA.top\r\n",
      "#posre_Protein_chain_B.itp.2#       #XX02KALRNA.top.1#\r\n",
      "#posre_Protein_chain_B.itp.3#       #XX02KALRNA.top.2#\r\n",
      "XX02KALRNA_boxed.gro                #XX02KALRNA.top.3#\r\n",
      "XX02KALRNA.gro                      #XX02KALRNA.top.4#\r\n",
      "#XX02KALRNA.gro.1#                  #XX02KALRNA.top.5#\r\n",
      "#XX02KALRNA.gro.2#                  #XX02KALRNA.top.6#\r\n",
      "XX02KALRNA_Protein_chain_A.itp      XX02KALRNA-x1376_1_apo.pdb\r\n",
      "#XX02KALRNA_Protein_chain_A.itp.1#  XX02KALRNA-x1376_1_apo_prepared.pdb\r\n",
      "#XX02KALRNA_Protein_chain_A.itp.2#  XX02KALRNA-x1376_1_apo_prepared.pdbqt\r\n"
     ]
    }
   ],
   "source": [
    "ls"
   ]
  },
  {
   "cell_type": "code",
   "execution_count": 43,
   "metadata": {},
   "outputs": [],
   "source": [
    "\n",
    "\n",
    "\n",
    "    "
   ]
  },
  {
   "cell_type": "code",
   "execution_count": null,
   "metadata": {},
   "outputs": [],
   "source": []
  }
 ],
 "metadata": {
  "kernelspec": {
   "display_name": "Python 3",
   "language": "python",
   "name": "python3"
  },
  "language_info": {
   "codemirror_mode": {
    "name": "ipython",
    "version": 3
   },
   "file_extension": ".py",
   "mimetype": "text/x-python",
   "name": "python",
   "nbconvert_exporter": "python",
   "pygments_lexer": "ipython3",
   "version": "3.6.9"
  }
 },
 "nbformat": 4,
 "nbformat_minor": 2
}
