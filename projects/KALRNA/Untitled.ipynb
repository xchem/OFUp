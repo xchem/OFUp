{
 "cells": [
  {
   "cell_type": "code",
   "execution_count": 31,
   "metadata": {},
   "outputs": [],
   "source": [
    "import rdkit\n",
    "from rdkit import Chem\n",
    "import glob\n",
    "from joblib import Parallel, delayed\n",
    "import multiprocessing\n",
    "import argparse, os, gzip\n",
    "import operator\n",
    "import numpy as np\n",
    "from rdkit.Chem import AllChem, rdShapeHelpers\n",
    "from rdkit.Chem.FeatMaps import FeatMaps\n",
    "from rdkit import RDConfig\n",
    "\n",
    "# 3D align all conformations in sdf file (confs path) to reference mol (hit path) and save aligned confs to out_path\n",
    "def align_and_write(confs_path, hit_path, out_path):\n",
    "    print('processing ' + confs_path)\n",
    "    try:\n",
    "        suppl = Chem.SDMolSupplier(hit_path)\n",
    "        hit_mol = suppl[0]\n",
    "\n",
    "        suppl = Chem.SDMolSupplier(confs_path)\n",
    "        mols = [x for x in suppl]\n",
    "\n",
    "        for mol in mols:\n",
    "            o3d = Chem.rdMolAlign.GetO3A(prbMol=mol, refMol=hit_mol)\n",
    "            o3d.Align()\n",
    "\n",
    "        writer = Chem.SDWriter(out_path)\n",
    "        for mol in mols:\n",
    "            writer.write(mol)\n",
    "    except: \n",
    "        print(str(confs_path + ' FAILED!'))\n",
    "        \n",
    "# handle wether to run align_and_write        \n",
    "def process_align(confs):\n",
    "    out_path = confs.replace('.sdf', '_aligned.sdf')\n",
    "    if not os.path.isfile(out_path):\n",
    "        align_and_write(confs_path=confs, hit_path=hit_file, out_path=out_path)\n",
    "        \n",
    "hit_dirs = glob.glob('/Users/res3/michellab/XChem-examples/KALRNA/GDP_frags/GDP_fragweird/')\n",
    "for f in hit_dirs:\n",
    "    hit_file = glob.glob(str(f + f.split('/')[-2] + '.sdf'))[0]\n",
    "    similar_confs_paths = glob.glob(hit_file.replace('.sdf', '-similar-rsn_*_confs.sdf'))\n",
    "    surprise_confs_paths = glob.glob(hit_file.replace('.sdf', '-surprise-rsn_*_confs.sdf'))\n",
    "#     print(similar_confs_paths)\n",
    "    num_cores = multiprocessing.cpu_count()\n",
    "    Parallel(n_jobs=num_cores)(delayed(process_align)(confs=confs) for confs in similar_confs_paths)\n",
    "    Parallel(n_jobs=num_cores)(delayed(process_align)(confs=confs) for confs in surprise_confs_paths)\n",
    "\n"
   ]
  },
  {
   "cell_type": "code",
   "execution_count": 33,
   "metadata": {},
   "outputs": [],
   "source": [
    "from rdkit.Chem import Draw\n",
    "from rdkit.Chem import AllChem\n",
    "m = Chem.MolFromMolFile(hit_file)\n",
    "m"
   ]
  },
  {
   "cell_type": "code",
   "execution_count": 34,
   "metadata": {},
   "outputs": [
    {
     "data": {
      "text/plain": [
       "'/Users/res3/michellab/XChem-examples/KALRNA/GDP_frags/GDP_frag3/GDP_frag3.mol'"
      ]
     },
     "execution_count": 34,
     "metadata": {},
     "output_type": "execute_result"
    }
   ],
   "source": [
    "hit_file\n"
   ]
  },
  {
   "cell_type": "code",
   "execution_count": 40,
   "metadata": {},
   "outputs": [],
   "source": [
    "m = Chem.MolFromMolFile('../GTP.sdf')"
   ]
  },
  {
   "cell_type": "code",
   "execution_count": 41,
   "metadata": {},
   "outputs": [
    {
     "name": "stdout",
     "output_type": "stream",
     "text": [
      "yay\n"
     ]
    }
   ],
   "source": [
    "if m:\n",
    "    print('yay')"
   ]
  },
  {
   "cell_type": "code",
   "execution_count": 43,
   "metadata": {},
   "outputs": [
    {
     "data": {
      "text/plain": [
       "['/Users/res3/michellab/XChem-examples/KALRNA/GDP_frags/']"
      ]
     },
     "execution_count": 43,
     "metadata": {},
     "output_type": "execute_result"
    }
   ],
   "source": [
    "hit_dirs"
   ]
  },
  {
   "cell_type": "code",
   "execution_count": 17,
   "metadata": {},
   "outputs": [
    {
     "data": {
      "text/plain": [
       "['/Users/res3/michellab/XChem-examples/KALRNA/GDP_frags/GDP_fragweird/']"
      ]
     },
     "execution_count": 17,
     "metadata": {},
     "output_type": "execute_result"
    }
   ],
   "source": [
    "hit_dirs"
   ]
  },
  {
   "cell_type": "code",
   "execution_count": 18,
   "metadata": {},
   "outputs": [],
   "source": [
    "hit_file = glob.glob(str(f + f.split('/')[-2] + '.sdf'))"
   ]
  },
  {
   "cell_type": "code",
   "execution_count": 22,
   "metadata": {},
   "outputs": [
    {
     "data": {
      "text/plain": [
       "False"
      ]
     },
     "execution_count": 22,
     "metadata": {},
     "output_type": "execute_result"
    }
   ],
   "source": [
    "os.path.isfile(f + f.split('/')[-2]+'.sdf')"
   ]
  },
  {
   "cell_type": "code",
   "execution_count": 34,
   "metadata": {},
   "outputs": [],
   "source": [
    "sdfs = glob.glob('GDP_docked/*.sdf')\n",
    "pdb_mol = Chem.MolFromPDBFile('../XX02KALRNA-x1376_1/XX02KALRNA-x1376_1.pdb')\n",
    "for sdf in sdfs:\n",
    "    prb_mols = Chem.SDMolSupplier(sdf, sanitize=True)\n",
    "    prb_mols = [x for x in prb_mols if x]\n",
    "    i = 1\n",
    "    for prb in prb_mols:\n",
    "        temp_mol = Chem.rdmolops.CombineMols(prb, pdb_mol)\n",
    "        out_name = sdf.replace('.sdf', str('_' + str(i) + '.pdb'))\n",
    "        Chem.MolToPDBFile(temp_mol, out_name)\n",
    "        i +=1\n",
    "        "
   ]
  },
  {
   "cell_type": "code",
   "execution_count": 33,
   "metadata": {},
   "outputs": [
    {
     "data": {
      "text/plain": [
       "<rdkit.Chem.rdchem.Mol at 0x11b4406c0>"
      ]
     },
     "execution_count": 33,
     "metadata": {},
     "output_type": "execute_result"
    }
   ],
   "source": [
    "temp_mol\n"
   ]
  },
  {
   "cell_type": "code",
   "execution_count": 35,
   "metadata": {},
   "outputs": [],
   "source": [
    "import pandas as pd \n",
    "import xml.etree.ElementTree as et"
   ]
  },
  {
   "cell_type": "code",
   "execution_count": 44,
   "metadata": {},
   "outputs": [],
   "source": [
    "x = '/Users/res3/Downloads/report.xml'\n",
    "xml_string = open(x,'rb').read()"
   ]
  },
  {
   "cell_type": "code",
   "execution_count": 45,
   "metadata": {},
   "outputs": [],
   "source": [
    "from lxml import objectify"
   ]
  },
  {
   "cell_type": "code",
   "execution_count": 46,
   "metadata": {},
   "outputs": [],
   "source": [
    "root = objectify.fromstring(xml_string)"
   ]
  },
  {
   "cell_type": "code",
   "execution_count": 55,
   "metadata": {},
   "outputs": [
    {
     "data": {
      "text/plain": [
       "2"
      ]
     },
     "execution_count": 55,
     "metadata": {},
     "output_type": "execute_result"
    }
   ],
   "source": [
    "len(root[\"bindingsite\"]) #[1][\"identifiers\"][\"hetid\"]"
   ]
  },
  {
   "cell_type": "code",
   "execution_count": 58,
   "metadata": {},
   "outputs": [],
   "source": [
    "lig_binding_site = [i for i in root['bindingsite'] \n",
    "                   if i[\"identifiers\"][\"hetid\"]=='UNL']"
   ]
  },
  {
   "cell_type": "code",
   "execution_count": 60,
   "metadata": {},
   "outputs": [
    {
     "data": {
      "text/plain": [
       "[<Element bindingsite at 0x11d175848>]"
      ]
     },
     "execution_count": 60,
     "metadata": {},
     "output_type": "execute_result"
    }
   ],
   "source": [
    "lig_binding_site"
   ]
  },
  {
   "cell_type": "code",
   "execution_count": 1,
   "metadata": {},
   "outputs": [],
   "source": [
    "import glob\n",
    "pdbs = glob.glob('/Users/res3/michellab/XChem-examples/KALRNA/GDP_frags/GDP_docked/*.pdb')"
   ]
  },
  {
   "cell_type": "code",
   "execution_count": 2,
   "metadata": {},
   "outputs": [],
   "source": [
    "from plip.modules.preparation import PDBComplex"
   ]
  },
  {
   "cell_type": "code",
   "execution_count": 3,
   "metadata": {},
   "outputs": [
    {
     "ename": "KeyboardInterrupt",
     "evalue": "",
     "output_type": "error",
     "traceback": [
      "\u001b[0;31m---------------------------------------------------------------------------\u001b[0m",
      "\u001b[0;31mKeyboardInterrupt\u001b[0m                         Traceback (most recent call last)",
      "\u001b[0;32m<ipython-input-3-e692ac2f9390>\u001b[0m in \u001b[0;36m<module>\u001b[0;34m\u001b[0m\n\u001b[1;32m      2\u001b[0m \u001b[0;32mfor\u001b[0m \u001b[0mpdb\u001b[0m \u001b[0;32min\u001b[0m \u001b[0mpdbs\u001b[0m\u001b[0;34m:\u001b[0m\u001b[0;34m\u001b[0m\u001b[0;34m\u001b[0m\u001b[0m\n\u001b[1;32m      3\u001b[0m     \u001b[0ma\u001b[0m \u001b[0;34m=\u001b[0m \u001b[0mPDBComplex\u001b[0m\u001b[0;34m(\u001b[0m\u001b[0;34m)\u001b[0m\u001b[0;34m\u001b[0m\u001b[0;34m\u001b[0m\u001b[0m\n\u001b[0;32m----> 4\u001b[0;31m     \u001b[0ma\u001b[0m\u001b[0;34m.\u001b[0m\u001b[0mload_pdb\u001b[0m\u001b[0;34m(\u001b[0m\u001b[0mpdb\u001b[0m\u001b[0;34m)\u001b[0m\u001b[0;34m\u001b[0m\u001b[0;34m\u001b[0m\u001b[0m\n\u001b[0m\u001b[1;32m      5\u001b[0m     \u001b[0ma\u001b[0m\u001b[0;34m.\u001b[0m\u001b[0manalyze\u001b[0m\u001b[0;34m(\u001b[0m\u001b[0;34m)\u001b[0m\u001b[0;34m\u001b[0m\u001b[0;34m\u001b[0m\u001b[0m\n\u001b[1;32m      6\u001b[0m     \u001b[0mplips\u001b[0m\u001b[0;34m.\u001b[0m\u001b[0mappend\u001b[0m\u001b[0;34m(\u001b[0m\u001b[0ma\u001b[0m\u001b[0;34m)\u001b[0m\u001b[0;34m\u001b[0m\u001b[0;34m\u001b[0m\u001b[0m\n",
      "\u001b[0;32m/anaconda3/lib/python3.7/site-packages/plip-1.4.5-py3.7.egg/plip/modules/preparation.py\u001b[0m in \u001b[0;36mload_pdb\u001b[0;34m(self, pdbpath, as_string)\u001b[0m\n\u001b[1;32m   1349\u001b[0m \u001b[0;34m\u001b[0m\u001b[0m\n\u001b[1;32m   1350\u001b[0m         \u001b[0;31m# Extract and prepare ligands\u001b[0m\u001b[0;34m\u001b[0m\u001b[0;34m\u001b[0m\u001b[0;34m\u001b[0m\u001b[0m\n\u001b[0;32m-> 1351\u001b[0;31m         \u001b[0mligandfinder\u001b[0m \u001b[0;34m=\u001b[0m \u001b[0mLigandFinder\u001b[0m\u001b[0;34m(\u001b[0m\u001b[0mself\u001b[0m\u001b[0;34m.\u001b[0m\u001b[0mprotcomplex\u001b[0m\u001b[0;34m,\u001b[0m \u001b[0mself\u001b[0m\u001b[0;34m.\u001b[0m\u001b[0maltconf\u001b[0m\u001b[0;34m,\u001b[0m \u001b[0mself\u001b[0m\u001b[0;34m.\u001b[0m\u001b[0mmodres\u001b[0m\u001b[0;34m,\u001b[0m \u001b[0mself\u001b[0m\u001b[0;34m.\u001b[0m\u001b[0mcovalent\u001b[0m\u001b[0;34m,\u001b[0m \u001b[0mself\u001b[0m\u001b[0;34m.\u001b[0m\u001b[0mMapper\u001b[0m\u001b[0;34m)\u001b[0m\u001b[0;34m\u001b[0m\u001b[0;34m\u001b[0m\u001b[0m\n\u001b[0m\u001b[1;32m   1352\u001b[0m         \u001b[0mself\u001b[0m\u001b[0;34m.\u001b[0m\u001b[0mligands\u001b[0m \u001b[0;34m=\u001b[0m \u001b[0mligandfinder\u001b[0m\u001b[0;34m.\u001b[0m\u001b[0mligands\u001b[0m\u001b[0;34m\u001b[0m\u001b[0;34m\u001b[0m\u001b[0m\n\u001b[1;32m   1353\u001b[0m         \u001b[0mself\u001b[0m\u001b[0;34m.\u001b[0m\u001b[0mexcluded\u001b[0m \u001b[0;34m=\u001b[0m \u001b[0mligandfinder\u001b[0m\u001b[0;34m.\u001b[0m\u001b[0mexcluded\u001b[0m\u001b[0;34m\u001b[0m\u001b[0;34m\u001b[0m\u001b[0m\n",
      "\u001b[0;32m/anaconda3/lib/python3.7/site-packages/plip-1.4.5-py3.7.egg/plip/modules/preparation.py\u001b[0m in \u001b[0;36m__init__\u001b[0;34m(self, proteincomplex, altconf, modres, covalent, mapper)\u001b[0m\n\u001b[1;32m    224\u001b[0m         \u001b[0mself\u001b[0m\u001b[0;34m.\u001b[0m\u001b[0mcovalent\u001b[0m \u001b[0;34m=\u001b[0m \u001b[0mcovalent\u001b[0m\u001b[0;34m\u001b[0m\u001b[0;34m\u001b[0m\u001b[0m\n\u001b[1;32m    225\u001b[0m         \u001b[0mself\u001b[0m\u001b[0;34m.\u001b[0m\u001b[0mmapper\u001b[0m \u001b[0;34m=\u001b[0m \u001b[0mmapper\u001b[0m\u001b[0;34m\u001b[0m\u001b[0;34m\u001b[0m\u001b[0m\n\u001b[0;32m--> 226\u001b[0;31m         \u001b[0mself\u001b[0m\u001b[0;34m.\u001b[0m\u001b[0mligands\u001b[0m \u001b[0;34m=\u001b[0m \u001b[0mself\u001b[0m\u001b[0;34m.\u001b[0m\u001b[0mgetligs\u001b[0m\u001b[0;34m(\u001b[0m\u001b[0;34m)\u001b[0m\u001b[0;34m\u001b[0m\u001b[0;34m\u001b[0m\u001b[0m\n\u001b[0m\u001b[1;32m    227\u001b[0m         \u001b[0mself\u001b[0m\u001b[0;34m.\u001b[0m\u001b[0mexcluded\u001b[0m \u001b[0;34m=\u001b[0m \u001b[0msorted\u001b[0m\u001b[0;34m(\u001b[0m\u001b[0mlist\u001b[0m\u001b[0;34m(\u001b[0m\u001b[0mself\u001b[0m\u001b[0;34m.\u001b[0m\u001b[0mlignames_all\u001b[0m\u001b[0;34m.\u001b[0m\u001b[0mdifference\u001b[0m\u001b[0;34m(\u001b[0m\u001b[0mset\u001b[0m\u001b[0;34m(\u001b[0m\u001b[0mself\u001b[0m\u001b[0;34m.\u001b[0m\u001b[0mlignames_kept\u001b[0m\u001b[0;34m)\u001b[0m\u001b[0;34m)\u001b[0m\u001b[0;34m)\u001b[0m\u001b[0;34m)\u001b[0m\u001b[0;34m\u001b[0m\u001b[0;34m\u001b[0m\u001b[0m\n\u001b[1;32m    228\u001b[0m \u001b[0;34m\u001b[0m\u001b[0m\n",
      "\u001b[0;32m/anaconda3/lib/python3.7/site-packages/plip-1.4.5-py3.7.egg/plip/modules/preparation.py\u001b[0m in \u001b[0;36mgetligs\u001b[0;34m(self)\u001b[0m\n\u001b[1;32m    269\u001b[0m                         len(kmer), config.MAX_COMPOSITE_LENGTH), mtype='debug')\n\u001b[1;32m    270\u001b[0m                 \u001b[0;32melse\u001b[0m\u001b[0;34m:\u001b[0m\u001b[0;34m\u001b[0m\u001b[0;34m\u001b[0m\u001b[0m\n\u001b[0;32m--> 271\u001b[0;31m                     \u001b[0mligands\u001b[0m\u001b[0;34m.\u001b[0m\u001b[0mappend\u001b[0m\u001b[0;34m(\u001b[0m\u001b[0mself\u001b[0m\u001b[0;34m.\u001b[0m\u001b[0mextract_ligand\u001b[0m\u001b[0;34m(\u001b[0m\u001b[0mkmer\u001b[0m\u001b[0;34m)\u001b[0m\u001b[0;34m)\u001b[0m\u001b[0;34m\u001b[0m\u001b[0;34m\u001b[0m\u001b[0m\n\u001b[0m\u001b[1;32m    272\u001b[0m \u001b[0;34m\u001b[0m\u001b[0m\n\u001b[1;32m    273\u001b[0m         \u001b[0;32melse\u001b[0m\u001b[0;34m:\u001b[0m\u001b[0;34m\u001b[0m\u001b[0;34m\u001b[0m\u001b[0m\n",
      "\u001b[0;32m/anaconda3/lib/python3.7/site-packages/plip-1.4.5-py3.7.egg/plip/modules/preparation.py\u001b[0m in \u001b[0;36mextract_ligand\u001b[0;34m(self, kmer)\u001b[0m\n\u001b[1;32m    322\u001b[0m         \u001b[0;32mfor\u001b[0m \u001b[0mobatom\u001b[0m \u001b[0;32min\u001b[0m \u001b[0mhetatoms\u001b[0m\u001b[0;34m.\u001b[0m\u001b[0mvalues\u001b[0m\u001b[0;34m(\u001b[0m\u001b[0;34m)\u001b[0m\u001b[0;34m:\u001b[0m  \u001b[0;31m# iterate over atom objects\u001b[0m\u001b[0;34m\u001b[0m\u001b[0;34m\u001b[0m\u001b[0m\n\u001b[1;32m    323\u001b[0m             \u001b[0midx\u001b[0m \u001b[0;34m=\u001b[0m \u001b[0mobatom\u001b[0m\u001b[0;34m.\u001b[0m\u001b[0mGetIdx\u001b[0m\u001b[0;34m(\u001b[0m\u001b[0;34m)\u001b[0m\u001b[0;34m\u001b[0m\u001b[0;34m\u001b[0m\u001b[0m\n\u001b[0;32m--> 324\u001b[0;31m             \u001b[0mlig\u001b[0m\u001b[0;34m.\u001b[0m\u001b[0mAddAtom\u001b[0m\u001b[0;34m(\u001b[0m\u001b[0mobatom\u001b[0m\u001b[0;34m)\u001b[0m\u001b[0;34m\u001b[0m\u001b[0;34m\u001b[0m\u001b[0m\n\u001b[0m\u001b[1;32m    325\u001b[0m             \u001b[0;31m# ids of all neighbours of obatom\u001b[0m\u001b[0;34m\u001b[0m\u001b[0;34m\u001b[0m\u001b[0;34m\u001b[0m\u001b[0m\n\u001b[1;32m    326\u001b[0m             neighbours[idx] = set([neighbour_atom.GetIdx() for neighbour_atom\n",
      "\u001b[0;31mKeyboardInterrupt\u001b[0m: "
     ]
    }
   ],
   "source": [
    "plips = []\n",
    "for pdb in pdbs:\n",
    "    a = PDBComplex()\n",
    "    a.load_pdb(pdb)\n",
    "    a.analyze()\n",
    "    plips.append(a)"
   ]
  },
  {
   "cell_type": "code",
   "execution_count": 32,
   "metadata": {},
   "outputs": [],
   "source": [
    "a = PDBComplex()"
   ]
  },
  {
   "cell_type": "code",
   "execution_count": 33,
   "metadata": {},
   "outputs": [],
   "source": [
    "a.load_pdb(pdbs[0])"
   ]
  },
  {
   "cell_type": "code",
   "execution_count": 4,
   "metadata": {},
   "outputs": [
    {
     "data": {
      "text/plain": [
       "<plip.modules.preparation.PLInteraction at 0x1247a3f98>"
      ]
     },
     "execution_count": 4,
     "metadata": {},
     "output_type": "execute_result"
    }
   ],
   "source": [
    "plips[0].interaction_sets['UNL:Z:1']\n"
   ]
  },
  {
   "cell_type": "code",
   "execution_count": 22,
   "metadata": {},
   "outputs": [],
   "source": [
    "def get_interaction_set_keys(plip, interaction_search_string):\n",
    "    keys = []\n",
    "    for key in plip.interaction_sets.keys():\n",
    "        if interaction_search_string in key:\n",
    "            print('found interaction set...')\n",
    "            print(key)\n",
    "            keys.append(plip.interaction_sets[key])\n",
    "    return keys"
   ]
  },
  {
   "cell_type": "code",
   "execution_count": 27,
   "metadata": {},
   "outputs": [
    {
     "name": "stdout",
     "output_type": "stream",
     "text": [
      "found interaction set...\n",
      "UNL:Z:1\n"
     ]
    }
   ],
   "source": [
    "sets = [plips[0].interaction_sets[key] for key in get_interaction_set(plips[0], 'UNL')]"
   ]
  },
  {
   "cell_type": "code",
   "execution_count": 43,
   "metadata": {},
   "outputs": [
    {
     "data": {
      "text/plain": [
       "[hbond(a=<pybel.Atom object at 0x1245f2358>, a_orig_idx=12, d=<pybel.Atom object at 0x124453fd0>, d_orig_idx=1238, h=<pybel.Atom object at 0x1247c10f0>, distance_ah=2.421333616876132, distance_ad=2.9833311918055623, angle=115.70870487695107, type='strong', protisdon=True, resnr=159, restype='ALA', reschain='A', resnr_l=1, restype_l='UNL', reschain_l='Z', sidechain=False, atype='O2', dtype='Nam'),\n",
       " hbond(a=<pybel.Atom object at 0x1245f2358>, a_orig_idx=12, d=<pybel.Atom object at 0x124457240>, d_orig_idx=1243, h=<pybel.Atom object at 0x1247c11d0>, distance_ah=2.279257613917704, distance_ad=3.143318787523785, angle=145.89954642839098, type='strong', protisdon=True, resnr=160, restype='LEU', reschain='A', resnr_l=1, restype_l='UNL', reschain_l='Z', sidechain=False, atype='O2', dtype='Nam'),\n",
       " hbond(a=<pybel.Atom object at 0x1245711d0>, a_orig_idx=126, d=<pybel.Atom object at 0x12473a9e8>, d_orig_idx=16, h=<pybel.Atom object at 0x124748320>, distance_ah=2.1831958459918446, distance_ad=3.019633421460294, angle=141.89555338252057, type='strong', protisdon=False, resnr=15, restype='GLY', reschain='A', resnr_l=1, restype_l='UNL', reschain_l='Z', sidechain=False, atype='O2', dtype='Npl'),\n",
       " hydroph_interaction(bsatom=<pybel.Atom object at 0x1243f81d0>, bsatom_orig_idx=918, ligatom=<pybel.Atom object at 0x12473a908>, ligatom_orig_idx=13, distance=3.7128633155557975, restype='LYS', resnr=116, reschain='A', restype_l='UNL', resnr_l=1, reschain_l='Z'),\n",
       " hydroph_interaction(bsatom=<pybel.Atom object at 0x1244571d0>, bsatom_orig_idx=1242, ligatom=<pybel.Atom object at 0x12473a908>, ligatom_orig_idx=13, distance=3.293002429394793, restype='ALA', resnr=159, reschain='A', restype_l='UNL', resnr_l=1, reschain_l='Z'),\n",
       " waterbridge(a=<pybel.Atom object at 0x12473a358>, a_orig_idx=24, atype='O2', d=<pybel.Atom object at 0x1243ff240>, d_orig_idx=991, dtype='O3', h=<pybel.Atom object at 0x1247bae10>, water=<pybel.Atom object at 0x12479e6d8>, water_orig_idx=3124, distance_aw=3.412658054947784, distance_dw=3.7579214999784103, d_angle=133.63187604758917, w_angle=81.03624817764103, type='first_deg', resnr=125, restype='THR', reschain='A', resnr_l=1, restype_l='UNL', reschain_l='Z', protisdon=True)]"
      ]
     },
     "execution_count": 43,
     "metadata": {},
     "output_type": "execute_result"
    }
   ],
   "source": [
    "sets[0].all_itypes"
   ]
  },
  {
   "cell_type": "code",
   "execution_count": 25,
   "metadata": {},
   "outputs": [
    {
     "name": "stdout",
     "output_type": "stream",
     "text": [
      "['UNL:Z:1']\n"
     ]
    }
   ],
   "source": [
    "print(i_set)"
   ]
  },
  {
   "cell_type": "code",
   "execution_count": null,
   "metadata": {},
   "outputs": [],
   "source": []
  },
  {
   "cell_type": "code",
   "execution_count": null,
   "metadata": {},
   "outputs": [],
   "source": []
  }
 ],
 "metadata": {
  "kernelspec": {
   "display_name": "Python 3",
   "language": "python",
   "name": "python3"
  },
  "language_info": {
   "codemirror_mode": {
    "name": "ipython",
    "version": 3
   },
   "file_extension": ".py",
   "mimetype": "text/x-python",
   "name": "python",
   "nbconvert_exporter": "python",
   "pygments_lexer": "ipython3",
   "version": "3.7.3"
  }
 },
 "nbformat": 4,
 "nbformat_minor": 2
}
