{
 "cells": [
  {
   "cell_type": "code",
   "execution_count": 1,
   "metadata": {},
   "outputs": [],
   "source": [
    "import sys,os\n",
    "\n",
    "from htmd.ui import *\n",
    "# from htmd.protocols.equilibration_v2 import Equilibration\n",
    "import openbabel\n",
    "import numpy as np\n",
    "from rdkit import Chem\n",
    "from rdkit.Chem import rdShapeHelpers\n",
    "from random import randint\n",
    "\n",
    "# import Bio.PDB"
   ]
  },
  {
   "cell_type": "code",
   "execution_count": 2,
   "metadata": {},
   "outputs": [],
   "source": [
    "def obconv(in_type, out_type, in_file, out_file, options=[]):\n",
    "    obc = openbabel.OBConversion()\n",
    "    obc.SetInAndOutFormats(in_type, out_type)\n",
    "    for o in options:\n",
    "        obc.AddOption(o)\n",
    "        \n",
    "    mol = openbabel.OBMol()\n",
    "    obc.ReadFile(mol, in_file)\n",
    "    mol.AddHydrogens()\n",
    "    obc.WriteFile(mol, out_file)\n",
    "    \n",
    "\n",
    "def prep_protein(protein_pdb):\n",
    "    mol = Molecule(protein_pdb)\n",
    "    mol.filter('protein or not water')\n",
    "    prot = proteinPrepare(mol)\n",
    "#     prot.remove('resname WAT')\n",
    "#     prot.remove('resname DUM')\n",
    "    preppdb = protein_pdb.replace('.pdb', '_prepared.pdb')\n",
    "    prot.write(preppdb)\n",
    "    obconv(in_type='pdb', out_type='pdbqt', in_file=preppdb, out_file=preppdb.replace('.pdb', '.pdbqt'), \n",
    "           options=['x', 'r'])\n",
    "    return prot\n",
    "    \n",
    "    \n",
    "def prep_ligands(lig_sdf):\n",
    "    obconv(in_type='sdf', out_type='pdbqt', in_file=lig_sdf, out_file=lig_sdf.replace('.sdf', '.pdbqt'), options=['h'])\n",
    "\n",
    "    \n",
    "def define_box(ref_lig, output, bufx=10, bufy=10, bufz=10, exhaustiveness=20, seed=None, cpu=4):\n",
    "    mol = Chem.MolFromMolFile(ref_lig)\n",
    "    conf = mol.GetConformer()\n",
    "    params = rdShapeHelpers.ComputeConfBox(conf)\n",
    "    \n",
    "    c1 = np.array(params[0])\n",
    "    c2 = np.array(params[1])\n",
    "    \n",
    "    center = np.mean((c1, c2), axis=0)\n",
    "    \n",
    "    dims = np.abs(c1-c2)\n",
    "    \n",
    "    box_dims = [dims[0] + bufx, dims[1] + bufy, dims[2] + bufz]\n",
    "    \n",
    "    if not seed:\n",
    "        seed = randint(0, 2147483647)\n",
    "    \n",
    "    with open(output, 'w') as f:\n",
    "        f.write(\n",
    "        \"\"\"size_x = {}\n",
    "size_y = {}\n",
    "size_z = {}\n",
    "center_x = {}\n",
    "center_y = {}\n",
    "center_z = {}\n",
    "num_modes = 9999\n",
    "energy_range = 9999\n",
    "exhaustiveness = {}\n",
    "cpu={}\n",
    "seed={}\n",
    "\"\"\".format(box_dims[0], box_dims[1], box_dims[2],\n",
    "          center[0], center[1], center[2],\n",
    "          exhaustiveness,\n",
    "          cpu,\n",
    "          seed)\n",
    "        )\n",
    "        \n",
    "\n",
    "def solvate_equilibrate(protein, build_dir, output_dir, solv_pad=10, method='amber'):\n",
    "    prot_solv = solvate(protein, pad=solv_pad)\n",
    "    if method=='amber':\n",
    "        amber.build(prot_solv, outdir=build_dir)\n",
    "    elif method=='charmm':\n",
    "        charmm.build(prot_solv, outdir=build_dir)\n",
    "    else:\n",
    "        raise Exception('please give a method for building!')\n",
    "\n",
    "\n",
    "def post_md_prep(protein_pdb):\n",
    "    mol = Molecule(protein_pdb)\n",
    "    prot = proteinPrepare(mol)\n",
    "    prot.remove('not protein')\n",
    "    preppdb = protein_pdb.replace('.pdb', '_prepared.pdb')\n",
    "    prot.write(preppdb)\n",
    "    obconv(in_type='pdb', out_type='pdbqt', in_file=preppdb, out_file=preppdb.replace('.pdb', '.pdbqt'), \n",
    "           options=['x', 'r'])\n",
    "    return prot\n",
    "        "
   ]
  },
  {
   "cell_type": "code",
   "execution_count": 12,
   "metadata": {},
   "outputs": [],
   "source": [
    "vina_exe = '/dls_sw/apps/xchem/autodock_vina_1_1_2_linux_x86/bin/vina'"
   ]
  },
  {
   "cell_type": "code",
   "execution_count": 8,
   "metadata": {},
   "outputs": [
    {
     "name": "stderr",
     "output_type": "stream",
     "text": [
      "2019-08-05 12:16:26,423 - moleculekit.molecule - INFO - Removed 339 atoms. 2777 atoms remaining in the molecule.\n",
      "2019-08-05 12:16:28,799 - moleculekit.tools.preparation - WARNING - The following residue has not been optimized: EDO\n",
      "2019-08-05 12:16:37,358 - moleculekit.tools.preparationdata - INFO - The following residues are in a non-standard state: LYS     5  A (LYN), HIS   103  A (HID), HIS   104  A (HID), HIS  1253  B (HID), HIS  1279  B (HID), HIS  1292  B (HID), HIS  1312  B (HIP), HIS  1341  B (HID), HIS  1353  B (HID), HIS  1410  B (HID)\n",
      "2019-08-05 12:16:37,360 - moleculekit.tools.preparationdata - WARNING - Dubious protonation state: the pKa of 9 residues is within 1.0 units of pH 7.0.\n",
      "2019-08-05 12:16:37,361 - moleculekit.tools.preparationdata - WARNING - Dubious protonation state:    LYS     5  A (pKa= 6.68)\n",
      "2019-08-05 12:16:37,362 - moleculekit.tools.preparationdata - WARNING - Dubious protonation state:    HIS   103  A (pKa= 6.32)\n",
      "2019-08-05 12:16:37,362 - moleculekit.tools.preparationdata - WARNING - Dubious protonation state:    HIS  1253  B (pKa= 6.38)\n",
      "2019-08-05 12:16:37,363 - moleculekit.tools.preparationdata - WARNING - Dubious protonation state:    HIS  1279  B (pKa= 6.43)\n",
      "2019-08-05 12:16:37,364 - moleculekit.tools.preparationdata - WARNING - Dubious protonation state:    HIS  1312  B (pKa= 7.38)\n",
      "2019-08-05 12:16:37,365 - moleculekit.tools.preparationdata - WARNING - Dubious protonation state:    HIS  1341  B (pKa= 6.17)\n",
      "2019-08-05 12:16:37,366 - moleculekit.tools.preparationdata - WARNING - Dubious protonation state:    HIS  1353  B (pKa= 6.95)\n",
      "2019-08-05 12:16:37,367 - moleculekit.tools.preparationdata - WARNING - Dubious protonation state:    HIS  1410  B (pKa= 6.31)\n",
      "2019-08-05 12:16:37,367 - moleculekit.tools.preparationdata - WARNING - Dubious protonation state:    N+      1T A (pKa= 7.86)\n",
      "2019-08-05 12:16:37,436 - moleculekit.tools.preparationdata - WARNING - Found N-terminus involved in H bonds\n",
      "2019-08-05 12:16:38,144 - moleculekit.molecule - INFO - Removed 4 atoms. 5717 atoms remaining in the molecule.\n"
     ]
    },
    {
     "data": {
      "text/plain": [
       "array([5717, 5718, 5719, 5720], dtype=int32)"
      ]
     },
     "execution_count": 8,
     "metadata": {},
     "output_type": "execute_result"
    }
   ],
   "source": [
    "apo_prot = '/dls/science/users/uzw12877/KALRNA/XX02KALRNA-x1376_1_apo.pdb'\n",
    "prot = prep_protein(apo_prot)\n",
    "prot.remove('resname EDO')\n",
    "# mol = Molecule(apo_prot)\n",
    "# mol.filter('protein or not water')"
   ]
  },
  {
   "cell_type": "code",
   "execution_count": 9,
   "metadata": {},
   "outputs": [],
   "source": [
    "os.mkdir('md_amber_build')\n",
    "os.mkdir('md_amber_run')"
   ]
  },
  {
   "cell_type": "code",
   "execution_count": 15,
   "metadata": {},
   "outputs": [
    {
     "name": "stderr",
     "output_type": "stream",
     "text": [
      "2019-08-05 12:21:26,066 - htmd.builder.solvate - INFO - Using water pdb file at: /dls/science/groups/i04-1/software/anaconda/envs/docking/lib/python3.6/site-packages/htmd/share/solvate/wat.pdb\n",
      "2019-08-05 12:21:26,705 - htmd.builder.solvate - INFO - Replicating 8 water segments, 2 by 2 by 2\n",
      "Solvating: 100%|██████████| 8/8 [00:04<00:00,  2.01it/s]\n",
      "2019-08-05 12:21:32,158 - htmd.builder.solvate - INFO - 12204 water molecules were added to the system.\n",
      "2019-08-05 12:21:37,232 - htmd.builder.amber - INFO - Starting the build.\n",
      "2019-08-05 12:21:41,713 - htmd.builder.amber - INFO - Finished building.\n",
      "2019-08-05 12:21:43,343 - htmd.builder.ionize - INFO - Adding 0 anions + 10 cations for neutralizing and 0 ions for the given salt concentration.\n",
      "2019-08-05 12:21:46,325 - htmd.builder.builder - WARNING - Segments ['0' '1'] contain both protein and non-protein atoms. Please assign separate segments to them or the build procedure might fail.\n",
      "2019-08-05 12:21:47,677 - htmd.builder.amber - INFO - Detecting disulfide bonds.\n",
      "2019-08-05 12:21:47,686 - htmd.builder.builder - INFO - 0 disulfide bonds were added\n",
      "2019-08-05 12:21:48,512 - htmd.builder.amber - INFO - Starting the build.\n",
      "2019-08-05 12:21:53,028 - htmd.builder.amber - INFO - Finished building.\n",
      "2019-08-05 12:21:54,399 - moleculekit.writers - WARNING - Field \"resid\" of PDB overflows. Your data will be truncated to 4 characters.\n",
      "2019-08-05 12:21:59,603 - htmd.queues.localqueue - INFO - Using 40 CPU \"devices\" (40 / 1)\n",
      "2019-08-05 12:21:59,616 - htmd.queues.localqueue - INFO - Queueing /dls/science/users/uzw12877/KALRNA/gdp_frags/md_amber_run\n",
      "2019-08-05 12:21:59,617 - htmd.queues.localqueue - INFO - Running /dls/science/users/uzw12877/KALRNA/gdp_frags/md_amber_run\n",
      "2019-08-05 12:22:00,769 - htmd.queues.localqueue - INFO - Error in simulation /dls/science/users/uzw12877/KALRNA/gdp_frags/md_amber_run. Command '/dls/science/users/uzw12877/KALRNA/gdp_frags/md_amber_run/job.sh' returned non-zero exit status 99.\n"
     ]
    }
   ],
   "source": [
    "solvate_equilibrate(prot, 'md_amber_build/', 'md_amber_run/')"
   ]
  },
  {
   "cell_type": "code",
   "execution_count": 47,
   "metadata": {},
   "outputs": [],
   "source": [
    "# source /dls/science/groups/i04-1/software/gromacs/bin/GMXRC\n",
    "# gmx pdb2gmx -f structure.pdb -o structure_processed.gro -water tip4p\n",
    "# gmx pdb2gmx -f structure.pdb -o structure_processed.gro -water tip4p -ignh -ff amber03\n",
    "# gmx grompp -f minim.mdp -c structure_processed.gro -p topol.top -o em.tpr\n",
    "# gmx mdrun -v -deffnm em\n",
    "# gmx grompp -f nvt.mdp -c em.gro -r em.gro -p topol.top -o nvt.tpr\n",
    "# gmx mdrun -deffnm nvt\n",
    "# gmx energy -f nvt.edr -o temperature.xvg\n",
    "# gmx grompp -f npt.mdp -c nvt.gro -r nvt.gro -t nvt.cpt -p topol.top -o npt.tpr\n",
    "# gmx mdrun -deffnm npt\n",
    "# gmx energy -f npt.edr -o pressure.xvg\n",
    "# gmx energy -f npt.edr -o density.xvg\n",
    "# gmx grompp -f md.mdp -c npt.gro -t npt.cpt -p topol.top -o md_0_1.tpr\n",
    "# gmx mdrun -deffnm md_0_1\n",
    "# gmx trjconv -s md_0_1.tpr -f md_0_1.xtc -o md_0_1_noPBC.xtc -pbc mol -center\n",
    "# gmx rms -s md_0_1.tpr -f md_0_1_noPBC.xtc -o rmsd.xvg -tu ns\n",
    "# gmx rms -s em.tpr -f md_0_1_noPBC.xtc -o rmsd_xtal.xvg -tu ns\n",
    "# gmx cluster -f md_0_1.xtc -cl"
   ]
  },
  {
   "cell_type": "code",
   "execution_count": 46,
   "metadata": {},
   "outputs": [
    {
     "name": "stderr",
     "output_type": "stream",
     "text": [
      "2019-08-05 16:13:19,567 - moleculekit.tools.preparation - WARNING - The following residue has not been optimized: ACE\n",
      "2019-08-05 16:13:19,568 - moleculekit.tools.preparation - WARNING - The following residue has not been optimized: NME\n",
      "2019-08-05 16:13:19,568 - moleculekit.tools.preparation - WARNING - The following residue has not been optimized: NA\n",
      "/dls/science/groups/i04-1/software/anaconda/envs/docking/lib/python3.6/site-packages/numpy/core/fromnumeric.py:57: FutureWarning: Series.nonzero() is deprecated and will be removed in a future version.Use Series.to_numpy().nonzero() instead\n",
      "  return getattr(obj, method)(*args, **kwds)\n",
      "2019-08-05 16:13:23,707 - moleculekit.tools.preparationdata - WARNING - Dubious protonation state: the pKa of 2 residues is within 1.0 units of pH 7.0.\n",
      "2019-08-05 16:13:23,708 - moleculekit.tools.preparationdata - WARNING - Dubious protonation state:    N+    179T B (pKa= 7.34)\n",
      "2019-08-05 16:13:23,709 - moleculekit.tools.preparationdata - WARNING - Dubious protonation state:    N+    360T C (pKa= 6.68)\n",
      "2019-08-05 16:13:23,820 - moleculekit.molecule - INFO - Removed 34 atoms. 5713 atoms remaining in the molecule.\n"
     ]
    },
    {
     "data": {
      "text/plain": [
       "<moleculekit.molecule.Molecule object at 0x7f0172859cc0>\n",
       "Molecule with 5713 atoms and 1 frames\n",
       "Atom field - altloc shape: (5713,)\n",
       "Atom field - atomtype shape: (5713,)\n",
       "Atom field - beta shape: (5713,)\n",
       "Atom field - chain shape: (5713,)\n",
       "Atom field - charge shape: (5713,)\n",
       "Atom field - coords shape: (5713, 3, 1)\n",
       "Atom field - element shape: (5713,)\n",
       "Atom field - insertion shape: (5713,)\n",
       "Atom field - masses shape: (5713,)\n",
       "Atom field - name shape: (5713,)\n",
       "Atom field - occupancy shape: (5713,)\n",
       "Atom field - record shape: (5713,)\n",
       "Atom field - resid shape: (5713,)\n",
       "Atom field - resname shape: (5713,)\n",
       "Atom field - segid shape: (5713,)\n",
       "Atom field - serial shape: (5713,)\n",
       "angles shape: (0, 3)\n",
       "bonds shape: (0, 2)\n",
       "bondtype shape: (0,)\n",
       "box shape: (3, 1)\n",
       "boxangles shape: (3, 0)\n",
       "crystalinfo: None\n",
       "dihedrals shape: (0, 4)\n",
       "fileloc shape: (0,)\n",
       "impropers shape: (0, 4)\n",
       "reps: \n",
       "ssbonds shape: (0,)\n",
       "step shape: (0,)\n",
       "time shape: (0,)\n",
       "viewname: None"
      ]
     },
     "execution_count": 46,
     "metadata": {},
     "output_type": "execute_result"
    }
   ],
   "source": [
    "post_md_prep('md_middle_cluster.pdb')"
   ]
  },
  {
   "cell_type": "code",
   "execution_count": 48,
   "metadata": {},
   "outputs": [],
   "source": [
    "os.mkdir('gdp_mdprot_docking')\n"
   ]
  },
  {
   "cell_type": "code",
   "execution_count": null,
   "metadata": {},
   "outputs": [],
   "source": [
    "define_box('/dls/science/users/uzw12877/KALRNA/gdp_frags/GDP/GDP.sdf', output='gdp_mdprot_docking/GDP_box.txt')"
   ]
  },
  {
   "cell_type": "code",
   "execution_count": 54,
   "metadata": {},
   "outputs": [],
   "source": [
    "mol = Chem.MolFromMolFile('/dls/science/users/uzw12877/KALRNA/gdp_frags/GDP/GDP.sdf')"
   ]
  },
  {
   "cell_type": "code",
   "execution_count": 55,
   "metadata": {},
   "outputs": [
    {
     "name": "stdout",
     "output_type": "stream",
     "text": [
      "<rdkit.Chem.rdchem.Mol object at 0x7f015ae358f0>\n"
     ]
    }
   ],
   "source": [
    "print(mol)\n"
   ]
  },
  {
   "cell_type": "code",
   "execution_count": null,
   "metadata": {},
   "outputs": [],
   "source": [
    "prepare_ligand()"
   ]
  },
  {
   "cell_type": "code",
   "execution_count": 2,
   "metadata": {},
   "outputs": [],
   "source": [
    "import pymol"
   ]
  },
  {
   "cell_type": "code",
   "execution_count": null,
   "metadata": {},
   "outputs": [],
   "source": []
  }
 ],
 "metadata": {
  "kernelspec": {
   "display_name": "Python 3",
   "language": "python",
   "name": "python3"
  },
  "language_info": {
   "codemirror_mode": {
    "name": "ipython",
    "version": 3
   },
   "file_extension": ".py",
   "mimetype": "text/x-python",
   "name": "python",
   "nbconvert_exporter": "python",
   "pygments_lexer": "ipython3",
   "version": "3.6.9"
  }
 },
 "nbformat": 4,
 "nbformat_minor": 2
}
