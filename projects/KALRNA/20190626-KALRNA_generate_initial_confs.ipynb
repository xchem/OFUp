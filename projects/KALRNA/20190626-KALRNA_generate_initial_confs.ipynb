{
 "cells": [
  {
   "cell_type": "markdown",
   "metadata": {},
   "source": [
    "# KALRNA: Generating initial follow-up candidates"
   ]
  },
  {
   "cell_type": "code",
   "execution_count": null,
   "metadata": {},
   "outputs": [],
   "source": [
    "import rdkit\n",
    "from rdkit import Chem\n",
    "import glob\n",
    "from joblib import Parallel, delayed\n",
    "import multiprocessing\n",
    "import argparse, os, gzip\n",
    "import operator\n",
    "import numpy as np\n",
    "from rdkit.Chem import AllChem, rdShapeHelpers\n",
    "from rdkit.Chem.FeatMaps import FeatMaps\n",
    "from rdkit import RDConfig"
   ]
  },
  {
   "cell_type": "markdown",
   "metadata": {},
   "source": [
    "## 1. Finding enamine molecules\n",
    "In order to find potential follow-up molecules that are available to purchase from enamine, the REALSpaceNavigator tool (https://enamine.net/library-synthesis/real-compounds/real-space-navigator) was used.\n",
    "\n",
    "For each hit, downloaded from fragalysis, two sets of candidate follow-up molecules were obtained. To get these two sets, the default 'more similar' and 'more surprise' settings in REALSpaceNavigator were selected, and each set of 1000 hits downloaded as an sdf file of 0D molecules. "
   ]
  },
  {
   "cell_type": "markdown",
   "metadata": {},
   "source": [
    "## 2. Generating 3D conformations for candidates\n",
    "For each of the 2 sets of follow-up candidates, 'surprise' and 'similar', for each fragment hit, 100 conformations of each candidate molecule were generated. These conformations were generated with the ETKDG method (implemented in RDKit), which uses torsion angle preferences from the Cambridge Structural Database (CSD) to correct the conformers after distance geometry has been used to generate them.\n",
    "\n",
    "Following the generation of 100 conformers for each candidate, the conformers for each candidate were aligned to each other. \n",
    "\n",
    "Finally, the conformations were written out to sdf files for each candidate.\n",
    "\n",
    "### Code:"
   ]
  },
  {
   "cell_type": "code",
   "execution_count": null,
   "metadata": {},
   "outputs": [],
   "source": [
    "# generate n conformations of rdkit mol object m\n",
    "def generateconformations(m, n):\n",
    "    # add hydrogen to molecule\n",
    "    m = Chem.AddHs(m)\n",
    "    # generate multiple conformations and return list of conf ids\n",
    "    ids = AllChem.EmbedMultipleConfs(m, numConfs=n, params=AllChem.ETKDG())\n",
    "    # align all of the conformers to each other\n",
    "    _ = Chem.rdMolAlign.AlignMolConformers(m)\n",
    "    # return the mol object with embedded conformers, and list of their ids\n",
    "    return m, list(ids)\n",
    "\n",
    "# write multiple conformations of mol m out to file name\n",
    "def writeout_confs(name, mol, ids):\n",
    "    writer = Chem.SDWriter(name)\n",
    "    for i in ids:\n",
    "        writer.write(mol, confId=i)\n",
    "\n",
    "# take an input sdf of multiple candidates (0D) and generate multiple conformations written out to sdf files\n",
    "def confs_and_write(candidates_file, no_confs):\n",
    "    # read in all candidate mols\n",
    "    suppl = Chem.SDMolSupplier(candidates_file)\n",
    "    mols = [x for x in suppl]\n",
    "    # for every candidate\n",
    "    for i in range(0, len(mols)):\n",
    "        # name out file by index of mol from initial file\n",
    "        out_file = candidates_file.replace('.sdf', str('_' + str(i) + '_confs.sdf'))\n",
    "        # if this candidate hasn't been done\n",
    "        if not os.path.isfile(out_file):\n",
    "            print('pocessing ' + candidates_file + ': candidate ' + str(i) + '(total=' + str(len(mols)) +')')\n",
    "            # generate n=no_confs conformers and write to out_file\n",
    "            mol, ids = generateconformations(mols[i], no_confs)\n",
    "            writeout_confs(name=out_file, mol=mol, ids=ids)\n",
    "        # if done, move onto next molecule\n",
    "        else:\n",
    "            continue\n",
    "            \n",
    "# confs and write when -similar-rsn and -surprise-rsn exist (from REALSpaceNavigator search)\n",
    "def process_confs(f, no_confs):\n",
    "    fup_similar_file = glob.glob(str(f + '/' + f.split('/')[-1] + '-similar-rsn.sdf'))\n",
    "    fup_surprise_file = glob.glob(str(f + '/' + f.split('/')[-1] + '-surprise-rsn.sdf'))\n",
    "    if fup_similar_file:\n",
    "        confs_and_write(fup_similar_file[0], no_confs)\n",
    "    if fup_surprise_file:\n",
    "        confs_and_write(fup_surprise_file[0], no_confs)\n",
    "\n",
    "        \n",
    "no_confs=100\n",
    "hit_files = glob.glob(str(os.getcwd() + '/XX02*'))\n",
    "\n",
    "num_cores = multiprocessing.cpu_count()\n",
    "Parallel(n_jobs=num_cores)(delayed(process_confs)(f=i, no_confs=no_confs) for i in hit_files)"
   ]
  },
  {
   "cell_type": "markdown",
   "metadata": {},
   "source": [
    "## 3. Aligning candidate conformations to initial hit\n",
    "For each candidate molecule, the conformations generated (see above) were aligned using the O3A alignment method implemented in RDKit. O3A is an unsupervised alignment algorithm. Two structures are aligned by matching the most similar pairs of atoms between them. Similarity is defined by the closeness of their MMFF94 atom types and charges.\n",
    "\n",
    "### Code:"
   ]
  },
  {
   "cell_type": "code",
   "execution_count": null,
   "metadata": {},
   "outputs": [],
   "source": [
    "# 3D align all conformations in sdf file (confs path) to reference mol (hit path) and save aligned confs to out_path\n",
    "def align_and_write(confs_path, hit_path, out_path):\n",
    "    suppl = Chem.SDMolSupplier(hit_path)\n",
    "    hit_mol = suppl[0]\n",
    "    \n",
    "    suppl = Chem.SDMolSupplier(confs_path)\n",
    "    mols = [x for x in suppl]\n",
    "\n",
    "    for mol in mols:\n",
    "        o3d = Chem.rdMolAlign.GetO3A(prbMol=mol, refMol=hit_mol)\n",
    "        o3d.Align()\n",
    "\n",
    "    writer = Chem.SDWriter(out_path)\n",
    "    for mol in mols:\n",
    "        writer.write(mol)\n",
    "        \n",
    "# handle wether to run align_and_write        \n",
    "def process_align(confs):\n",
    "    out_path = confs.replace('.sdf', '_aligned.sdf')\n",
    "    if not os.path.isfile(out_path):\n",
    "        align_and_write(confs_path=confs, hit_path=hit_file, out_path=out_path)\n",
    "        \n",
    "hit_dirs = glob.glob('/Users/res3/michellab/XChem-examples/KALRNA/XX02*/')\n",
    "for f in hit_dirs:\n",
    "    hit_file = glob.glob(str(f + f.split('/')[-2] + '.sdf'))[0]\n",
    "    similar_confs_paths = glob.glob(hit_file.replace('.sdf', '-similar-rsn_*_confs.sdf'))\n",
    "    surprise_confs_paths = glob.glob(hit_file.replace('.sdf', '-surprise-rsn_*_confs.sdf'))\n",
    "    print(similar_confs_paths)\n",
    "    num_cores = multiprocessing.cpu_count()\n",
    "    Parallel(n_jobs=num_cores)(delayed(process_align)(confs=confs) for confs in similar_confs_paths)\n",
    "    Parallel(n_jobs=num_cores)(delayed(process_align)(confs=confs) for confs in surprise_confs_paths)"
   ]
  }
 ],
 "metadata": {
  "kernelspec": {
   "display_name": "Python 3",
   "language": "python",
   "name": "python3"
  },
  "language_info": {
   "codemirror_mode": {
    "name": "ipython",
    "version": 3
   },
   "file_extension": ".py",
   "mimetype": "text/x-python",
   "name": "python",
   "nbconvert_exporter": "python",
   "pygments_lexer": "ipython3",
   "version": "3.7.3"
  }
 },
 "nbformat": 4,
 "nbformat_minor": 2
}
