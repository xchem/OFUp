{
 "cells": [
  {
   "cell_type": "code",
   "execution_count": 12,
   "metadata": {},
   "outputs": [],
   "source": [
    "import warnings\n",
    "warnings.filterwarnings('ignore')\n",
    "\n",
    "from tools.docking.vina import vina_dock_multi\n",
    "from tools.docking.preparation import define_vina_box\n",
    "from example_notebooks.ui.file_widgets import PathSelector, DockButtons\n",
    "import os, shutil"
   ]
  },
  {
   "cell_type": "markdown",
   "metadata": {},
   "source": [
    "# Docking (vina) multiple ligands in a box defined by a reference ligand\n",
    "\n",
    "### 1. Selecting some inputs:\n",
    "\n",
    "---\n",
    "\n",
    "**First we need to select some inputs, namely:**\n",
    "- the protein we want to dock into (pdb file)\n",
    "- the reference ligand to define a box (mol/sdf)\n",
    "- the ligands we want to dock (sdf)\n",
    "\n",
    "**To do this:**  \n",
    "*(N.B. run the next cell to show the file dialogue)*\n",
    "1. click on the arrow in the dropdown box at the top\n",
    "2. select the relevant file in the dialogue \n",
    "3. click the button next to either protein, query ligands or reference to set the file\n",
    "\n",
    "*repeat this until all files are selected*"
   ]
  },
  {
   "cell_type": "code",
   "execution_count": 17,
   "metadata": {},
   "outputs": [
    {
     "data": {
      "application/vnd.jupyter.widget-view+json": {
       "model_id": "7134702551494663ae772bee6763809b",
       "version_major": 2,
       "version_minor": 0
      },
      "text/plain": [
       "A Jupyter Widget"
      ]
     },
     "metadata": {},
     "output_type": "display_data"
    },
    {
     "data": {
      "application/vnd.jupyter.widget-view+json": {
       "model_id": "dc49ce1cfd7d417aa8c8eab99bea381d",
       "version_major": 2,
       "version_minor": 0
      },
      "text/plain": [
       "A Jupyter Widget"
      ]
     },
     "metadata": {},
     "output_type": "display_data"
    }
   ],
   "source": [
    "f = PathSelector(start_dir=os.path.join(os.getcwd(), 'tools/docking/example_data'))\n",
    "display(f.accord)\n",
    "b = DockButtons(f)\n",
    "b.render_buttons()"
   ]
  },
  {
   "cell_type": "markdown",
   "metadata": {},
   "source": [
    "---\n",
    "\n",
    "### 2. Check the inputs \n",
    "---\n",
    "\n",
    "Run the next cell, and check you are happy with the inputs and docking directory"
   ]
  },
  {
   "cell_type": "code",
   "execution_count": 14,
   "metadata": {},
   "outputs": [
    {
     "name": "stdout",
     "output_type": "stream",
     "text": [
      "inputs: \n",
      "\t - pdb: /code/tools/docking/example_data/md_middle_cluster.pdb \n",
      "\t - ligs: /code/tools/docking/example_data/3_mols.sdf       \n",
      "\t - ref: /code/tools/docking/example_data/3_mols.sdf \n",
      "\n",
      "docking directory: /code/dock/\n"
     ]
    }
   ],
   "source": [
    "pdb_file = b.pdb_button.description\n",
    "ligands_file = b.lig_button.description\n",
    "ref_file = b.ref_button.description\n",
    "conf_file = 'conf.txt'\n",
    "docking_directory = os.path.join(os.getcwd(), 'dock/')\n",
    "if os.path.isdir(docking_directory):\n",
    "    shutil.rmtree(docking_directory)\n",
    "os.mkdir(docking_directory)\n",
    "os.chmod(docking_directory, 775)\n",
    "\n",
    "print(f'inputs: \\n\\t - pdb: {pdb_file} \\n\\t - ligs: {ligands_file} \\\n",
    "      \\n\\t - ref: {ref_file} \\n\\ndocking directory: {docking_directory}')"
   ]
  },
  {
   "cell_type": "markdown",
   "metadata": {},
   "source": [
    "---\n",
    "\n",
    "### 3. Define a box from the reference ligand\n",
    "---\n",
    "\n",
    "Run the next cell"
   ]
  },
  {
   "cell_type": "code",
   "execution_count": 15,
   "metadata": {},
   "outputs": [],
   "source": [
    "define_vina_box(ligands_file, 'conf.txt')"
   ]
  },
  {
   "cell_type": "markdown",
   "metadata": {},
   "source": [
    "---\n",
    "\n",
    "### 4. Dock!\n",
    "---\n",
    "\n",
    "Run the next cell"
   ]
  },
  {
   "cell_type": "code",
   "execution_count": 16,
   "metadata": {},
   "outputs": [
    {
     "name": "stderr",
     "output_type": "stream",
     "text": [
      "2019-08-08 21:39:19,550 - moleculekit.molecule - INFO - Removed 34 atoms. 5711 atoms remaining in the molecule.\n",
      "2019-08-08 21:39:20,551 - propka - INFO - No pdbfile provided\n",
      "2019-08-08 21:39:27,578 - moleculekit.tools.preparationdata - WARNING - Dubious protonation state: the pKa of 2 residues is within 1.0 units of pH 7.0.\n",
      "2019-08-08 21:39:27,580 - moleculekit.tools.preparationdata - WARNING - Dubious protonation state:    N+      2T A (pKa= 7.97)\n",
      "2019-08-08 21:39:27,582 - moleculekit.tools.preparationdata - WARNING - Dubious protonation state:    N+    181T B (pKa= 7.69)\n"
     ]
    },
    {
     "data": {
      "text/plain": [
       "'Docking complete! Your results have been saved to: \\ndocked ligands: /code/dock/docked/ \\nlog files: /code/dock/logs/ \\nprepared input files: /code/dock/logs/'"
      ]
     },
     "execution_count": 16,
     "metadata": {},
     "output_type": "execute_result"
    }
   ],
   "source": [
    "vina_dock_multi(protein_pdb=pdb_file, ligands_sdf=ligands_file, \n",
    "                conf=conf_file, docking_dir=docking_directory, multiproc=True)"
   ]
  },
  {
   "cell_type": "code",
   "execution_count": null,
   "metadata": {},
   "outputs": [],
   "source": []
  }
 ],
 "metadata": {
  "kernelspec": {
   "display_name": "Python 3",
   "language": "python",
   "name": "python3"
  },
  "language_info": {
   "codemirror_mode": {
    "name": "ipython",
    "version": 3
   },
   "file_extension": ".py",
   "mimetype": "text/x-python",
   "name": "python",
   "nbconvert_exporter": "python",
   "pygments_lexer": "ipython3",
   "version": "3.6.6"
  }
 },
 "nbformat": 4,
 "nbformat_minor": 2
}
