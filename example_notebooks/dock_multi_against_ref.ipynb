{
 "cells": [
  {
   "cell_type": "code",
   "execution_count": 1,
   "metadata": {},
   "outputs": [
    {
     "name": "stdout",
     "output_type": "stream",
     "text": [
      "ffevaluate module is in beta version\n",
      "\n",
      "Please cite HTMD: Doerr et al.(2016)JCTC,12,1845. \n",
      "https://dx.doi.org/10.1021/acs.jctc.6b00049\n",
      "Documentation: http://software.acellera.com/\n",
      "\n",
      "You are on the latest HTMD version (1.15.2).\n",
      "\n"
     ]
    }
   ],
   "source": [
    "import warnings\n",
    "warnings.filterwarnings('ignore')\n",
    "import sys\n",
    "sys.path.append('/code')\n",
    "from tools.docking.vina import vina_dock_multi\n",
    "from tools.docking.preparation import define_vina_box\n",
    "from example_notebooks.ui.file_widgets import PathSelector, DockButtons, InputBoxSet, log_progress\n",
    "import os, shutil\n",
    "from tqdm import tqdm"
   ]
  },
  {
   "cell_type": "markdown",
   "metadata": {},
   "source": [
    "# Docking (vina) multiple ligands in a box defined by a reference ligand\n",
    "---\n",
    "\n",
    "### 1. Selecting some inputs:\n",
    "\n",
    "---\n",
    "\n",
    "**First we need to select some inputs, namely:**\n",
    "- the protein we want to dock into (pdb file)\n",
    "- the reference ligand to define a box (mol/sdf)\n",
    "- the ligands we want to dock (sdf)\n",
    "- tan output directory\n",
    "\n",
    "**To do this:**  \n",
    "*(N.B. run the next 2 cells to show the file dialogues)*\n",
    "1. click on the arrow in the dropdown box at the top\n",
    "2. select the relevant file in the dialogue \n",
    "3. click the button next to either protein, query ligands or reference to set the file\n",
    "\n",
    "*repeat this until all files are selected*\n",
    "\n",
    "4. type the directory you want to get the results of the docking in into the 'Docking dir' input\n",
    "5. select 'Set' to set the directory if the directory exists or create to create it, and then set to set it\n",
    "\n"
   ]
  },
  {
   "cell_type": "code",
   "execution_count": 2,
   "metadata": {},
   "outputs": [
    {
     "data": {
      "application/vnd.jupyter.widget-view+json": {
       "model_id": "3cb92586b46d4dd8aaafbc96a585e9e6",
       "version_major": 2,
       "version_minor": 0
      },
      "text/plain": [
       "A Jupyter Widget"
      ]
     },
     "metadata": {},
     "output_type": "display_data"
    },
    {
     "data": {
      "application/vnd.jupyter.widget-view+json": {
       "model_id": "fbe2ef8ffe5e4a90b934660c34e3f795",
       "version_major": 2,
       "version_minor": 0
      },
      "text/plain": [
       "A Jupyter Widget"
      ]
     },
     "metadata": {},
     "output_type": "display_data"
    }
   ],
   "source": [
    "f = PathSelector(start_dir=os.path.join(os.getcwd()))\n",
    "display(f.accord)\n",
    "b = DockButtons(f)\n",
    "b.render_buttons()"
   ]
  },
  {
   "cell_type": "code",
   "execution_count": 3,
   "metadata": {},
   "outputs": [
    {
     "data": {
      "application/vnd.jupyter.widget-view+json": {
       "model_id": "0bafdf64b9494dae8b7d9c18450be16e",
       "version_major": 2,
       "version_minor": 0
      },
      "text/plain": [
       "A Jupyter Widget"
      ]
     },
     "metadata": {},
     "output_type": "display_data"
    },
    {
     "name": "stdout",
     "output_type": "stream",
     "text": [
      "/data/docking/XX02KALRNA-x1376_1\n",
      "Created: /data/docking/XX02KALRNA-x1376_1/surprise_set\n",
      "/data/docking/XX02KALRNA-x1376_1/surprise_set\n"
     ]
    }
   ],
   "source": [
    "i = InputBoxSet(tlabel='Docking dir:')\n",
    "i.render()"
   ]
  },
  {
   "cell_type": "markdown",
   "metadata": {},
   "source": [
    "---\n",
    "\n",
    "### 2. Check the inputs \n",
    "---\n",
    "\n",
    "Run the next cell, and check you are happy with the inputs and docking directory\n"
   ]
  },
  {
   "cell_type": "code",
   "execution_count": 8,
   "metadata": {},
   "outputs": [
    {
     "name": "stdout",
     "output_type": "stream",
     "text": [
      "inputs: \n",
      "\t - pdb: /data/XX02KALRNA-x1376_1/XX02KALRNA-x1376_1.pdb \n",
      "\t - ligs: /data/XX02KALRNA-x1376_1/250_surprise_sucos.sdf       \n",
      "\t - ref: /data/XX02KALRNA-x1376_1/XX02KALRNA-x1376_1.sdf \n",
      "\n",
      "docking directory: /data/docking/XX02KALRNA-x1376_1/surprise_set\n"
     ]
    }
   ],
   "source": [
    "pdb_file = b.pdb_button.description\n",
    "ligands_file = b.lig_button.description\n",
    "ref_file = b.ref_button.description\n",
    "conf_file = 'conf.txt'\n",
    "docking_directory = i.inbox.value\n",
    "\n",
    "print(f'inputs: \\n\\t - pdb: {pdb_file} \\n\\t - ligs: {ligands_file} \\\n",
    "      \\n\\t - ref: {ref_file} \\n\\ndocking directory: {docking_directory}')"
   ]
  },
  {
   "cell_type": "markdown",
   "metadata": {},
   "source": [
    "---\n",
    "\n",
    "### 3. Define a box from the reference ligand\n",
    "---\n",
    "\n",
    "Define a box around your reference ligand, and then write it out to a configuration file for autodock vina\n",
    "\n",
    "There are some parameters that you can change here:\n",
    "\n",
    "```\n",
    "define_vina_box:\n",
    "    Use a reference ligand to produce a box definition for autodock vina\n",
    "    \n",
    "        :param ref_lig: a mol or sdf file of the reference ligand\n",
    "        :param output: the name of the output file\n",
    "        :param bufx: distance (A) of buffer in x direction (default=10)\n",
    "        :param bufy: distance (A) of buffer in y direction (default=10)\n",
    "        :param bufz: distance (A) of buffer in z direction (default=10)\n",
    "        :param exhaustiveness: exhaustivness of the vina calculation (default=20)\n",
    "        :param seed: random seed for vina (default=None)\n",
    "        :param cpu: number of cpu's to use in vina calculation\n",
    "```"
   ]
  },
  {
   "cell_type": "code",
   "execution_count": 9,
   "metadata": {},
   "outputs": [],
   "source": [
    "define_vina_box(ligands_file, conf_file)"
   ]
  },
  {
   "cell_type": "markdown",
   "metadata": {},
   "source": [
    "---\n",
    "\n",
    "### 4. Dock!\n",
    "---\n",
    "\n",
    "There are some parameters that you can change here:\n",
    "\n",
    "```\n",
    "vina_dock_multi:\n",
    "    Dock multiple ligands from an sdf file against a protein, with a given configuration file with vina. \n",
    "    Also does preparation from pdb and sdf\n",
    "    \n",
    "        :param protein_pdb: the input pdb file to prepare and dock against\n",
    "        :param ligands_sdf: an sdf file of multiple ligands to split, prepare and dock\n",
    "        :param conf: the path of a configuration file (required for now)\n",
    "        :param docking_dir: the output directory\n",
    "        :param multiproc: use multi-processing? (boolean)\n",
    "        :param exe: the path to the vina executable\n",
    "```\n",
    "\n",
    "But if you have followed the steps in the above boxes, you can just run this cell without a worry!\n"
   ]
  },
  {
   "cell_type": "code",
   "execution_count": null,
   "metadata": {},
   "outputs": [
    {
     "name": "stderr",
     "output_type": "stream",
     "text": [
      "2019-08-09 13:24:38,345 - moleculekit.molecule - INFO - Removed 343 atoms. 2773 atoms remaining in the molecule.\n",
      "2019-08-09 13:24:38,463 - propka - INFO - No pdbfile provided\n",
      "2019-08-09 13:24:51,729 - moleculekit.tools.preparationdata - INFO - The following residues are in a non-standard state: LYS     5  A (LYN), HIS   103  A (HID), HIS   104  A (HID), HIS  1253  B (HID), HIS  1279  B (HID), HIS  1292  B (HID), HIS  1312  B (HIP), HIS  1341  B (HID), HIS  1353  B (HID), HIS  1410  B (HID)\n",
      "2019-08-09 13:24:51,792 - moleculekit.tools.preparationdata - WARNING - Dubious protonation state: the pKa of 9 residues is within 1.0 units of pH 7.0.\n",
      "2019-08-09 13:24:51,796 - moleculekit.tools.preparationdata - WARNING - Dubious protonation state:    LYS     5  A (pKa= 6.68)\n",
      "2019-08-09 13:24:51,797 - moleculekit.tools.preparationdata - WARNING - Dubious protonation state:    HIS   103  A (pKa= 6.32)\n",
      "2019-08-09 13:24:51,799 - moleculekit.tools.preparationdata - WARNING - Dubious protonation state:    HIS  1253  B (pKa= 6.38)\n",
      "2019-08-09 13:24:51,801 - moleculekit.tools.preparationdata - WARNING - Dubious protonation state:    HIS  1279  B (pKa= 6.43)\n",
      "2019-08-09 13:24:51,803 - moleculekit.tools.preparationdata - WARNING - Dubious protonation state:    HIS  1312  B (pKa= 7.38)\n",
      "2019-08-09 13:24:51,805 - moleculekit.tools.preparationdata - WARNING - Dubious protonation state:    HIS  1341  B (pKa= 6.17)\n",
      "2019-08-09 13:24:51,807 - moleculekit.tools.preparationdata - WARNING - Dubious protonation state:    HIS  1353  B (pKa= 6.95)\n",
      "2019-08-09 13:24:51,809 - moleculekit.tools.preparationdata - WARNING - Dubious protonation state:    HIS  1410  B (pKa= 6.31)\n",
      "2019-08-09 13:24:51,810 - moleculekit.tools.preparationdata - WARNING - Dubious protonation state:    N+      1T A (pKa= 7.86)\n",
      "2019-08-09 13:24:51,914 - moleculekit.tools.preparationdata - WARNING - Found N-terminus involved in H bonds\n",
      " 53%|█████▎    | 132/250 [30:13<22:46, 11.58s/it] "
     ]
    }
   ],
   "source": [
    "vina_dock_multi(protein_pdb=pdb_file, ligands_sdf=ligands_file, \n",
    "                conf=conf_file, docking_dir=docking_directory, multiproc=True)\n",
    "\n",
    "print_str = f\"Docking complete! Your results have been saved to: \\\n",
    "\\n\\t - docked ligands: {os.path.join(docking_dir, 'docked/')} \\\n",
    "\\n\\t - log files: {os.path.join(docking_dir, 'logs/')} \\\n",
    "\\n\\t - prepared input files: {os.path.join(docking_dir, 'inputs/')}\"\n",
    "        \n",
    "print(print_str)"
   ]
  },
  {
   "cell_type": "code",
   "execution_count": 20,
   "metadata": {},
   "outputs": [
    {
     "name": "stdout",
     "output_type": "stream",
     "text": [
      "Docking complete! Your results have been saved to: \n",
      "\t - docked ligands: /data/docking/XX02KALRNA-x1376_1/docked/ \n",
      "\t - log files: /data/docking/XX02KALRNA-x1376_1/logs/ \n",
      "\t - prepared input files: /data/docking/XX02KALRNA-x1376_1/logs/\n"
     ]
    }
   ],
   "source": [
    "print_str = f\"Docking complete! Your results have been saved to: \\\n",
    "\\n\\t - docked ligands: {os.path.join(docking_dir, 'docked/')} \\\n",
    "\\n\\t - log files: {os.path.join(docking_dir, 'logs/')} \\\n",
    "\\n\\t - prepared input files: {os.path.join(docking_dir, 'inputs/')}\"\n",
    "        \n",
    "print(print_str)"
   ]
  },
  {
   "cell_type": "code",
   "execution_count": null,
   "metadata": {},
   "outputs": [],
   "source": []
  }
 ],
 "metadata": {
  "kernelspec": {
   "display_name": "Python 3",
   "language": "python",
   "name": "python3"
  },
  "language_info": {
   "codemirror_mode": {
    "name": "ipython",
    "version": 3
   },
   "file_extension": ".py",
   "mimetype": "text/x-python",
   "name": "python",
   "nbconvert_exporter": "python",
   "pygments_lexer": "ipython3",
   "version": "3.6.6"
  }
 },
 "nbformat": 4,
 "nbformat_minor": 2
}
