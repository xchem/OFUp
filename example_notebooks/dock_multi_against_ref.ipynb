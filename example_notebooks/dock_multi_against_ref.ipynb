{
 "cells": [
  {
   "cell_type": "code",
   "execution_count": 35,
   "metadata": {},
   "outputs": [],
   "source": [
    "import warnings\n",
    "warnings.filterwarnings('ignore')\n",
    "import sys, glob\n",
    "sys.path.append('/code')\n",
    "from tools.docking.vina import vina_dock_multi\n",
    "from tools.docking.preparation import define_vina_box\n",
    "from example_notebooks.ui.file_widgets import PathSelector, DockButtons, InputBoxSet, log_progress\n",
    "import os, shutil\n",
    "from tqdm import tqdm"
   ]
  },
  {
   "cell_type": "markdown",
   "metadata": {},
   "source": [
    "# Docking (vina) multiple ligands in a box defined by a reference ligand\n",
    "---\n",
    "\n",
    "### 1. Selecting some inputs:\n",
    "\n",
    "---\n",
    "\n",
    "**First we need to select some inputs, namely:**\n",
    "- the protein we want to dock into (pdb file)\n",
    "- the reference ligand to define a box (mol/sdf)\n",
    "- the ligands we want to dock (sdf)\n",
    "- tan output directory\n",
    "\n",
    "**To do this:**  \n",
    "*(N.B. run the next 2 cells to show the file dialogues)*\n",
    "1. click on the arrow in the dropdown box at the top\n",
    "2. select the relevant file in the dialogue \n",
    "3. click the button next to either protein, query ligands or reference to set the file\n",
    "\n",
    "*repeat this until all files are selected*\n",
    "\n",
    "4. type the directory you want to get the results of the docking in into the 'Docking dir' input\n",
    "5. select 'Set' to set the directory if the directory exists or create to create it, and then set to set it\n",
    "\n"
   ]
  },
  {
   "cell_type": "code",
   "execution_count": 36,
   "metadata": {},
   "outputs": [
    {
     "data": {
      "application/vnd.jupyter.widget-view+json": {
       "model_id": "9fd06dac7f7947b5a3cfcdaacb249595",
       "version_major": 2,
       "version_minor": 0
      },
      "text/plain": [
       "A Jupyter Widget"
      ]
     },
     "metadata": {},
     "output_type": "display_data"
    },
    {
     "data": {
      "application/vnd.jupyter.widget-view+json": {
       "model_id": "ca2a12aead474f4e9e18c9b4cbb5e323",
       "version_major": 2,
       "version_minor": 0
      },
      "text/plain": [
       "A Jupyter Widget"
      ]
     },
     "metadata": {},
     "output_type": "display_data"
    }
   ],
   "source": [
    "f = PathSelector(start_dir=os.path.join(os.getcwd()))\n",
    "display(f.accord)\n",
    "b = DockButtons(f)\n",
    "b.render_buttons()"
   ]
  },
  {
   "cell_type": "code",
   "execution_count": 37,
   "metadata": {},
   "outputs": [
    {
     "data": {
      "application/vnd.jupyter.widget-view+json": {
       "model_id": "ff80380228f84effa8299af7931e550f",
       "version_major": 2,
       "version_minor": 0
      },
      "text/plain": [
       "A Jupyter Widget"
      ]
     },
     "metadata": {},
     "output_type": "display_data"
    },
    {
     "name": "stdout",
     "output_type": "stream",
     "text": [
      "Created: /data/docking/XX02KALRNA-x1389_1\n",
      "/data/docking/XX02KALRNA-x1389_1\n"
     ]
    }
   ],
   "source": [
    "i = InputBoxSet(tlabel='Docking dir:')\n",
    "i.render()"
   ]
  },
  {
   "cell_type": "markdown",
   "metadata": {},
   "source": [
    "---\n",
    "\n",
    "### 2. Check the inputs \n",
    "---\n",
    "\n",
    "Run the next cell, and check you are happy with the inputs and docking directory\n"
   ]
  },
  {
   "cell_type": "code",
   "execution_count": 38,
   "metadata": {},
   "outputs": [
    {
     "name": "stdout",
     "output_type": "stream",
     "text": [
      "inputs: \n",
      "\t - pdb: /data/XX02KALRNA-x1389_1/XX02KALRNA-x1389_1.pdb \n",
      "\t - ligs: /data/XX02KALRNA-x1389_1/250_similar_sucos_diverse.sdf       \n",
      "\t - ref: /data/XX02KALRNA-x1389_1/XX02KALRNA-x1389_1.sdf \n",
      "\n",
      "docking directory: /data/docking/XX02KALRNA-x1389_1\n"
     ]
    }
   ],
   "source": [
    "pdb_file = b.pdb_button.description\n",
    "ligands_file = b.lig_button.description\n",
    "ref_file = b.ref_button.description\n",
    "conf_file = 'conf.txt'\n",
    "docking_directory = i.inbox.value\n",
    "\n",
    "print(f'inputs: \\n\\t - pdb: {pdb_file} \\n\\t - ligs: {ligands_file} \\\n",
    "      \\n\\t - ref: {ref_file} \\n\\ndocking directory: {docking_directory}')"
   ]
  },
  {
   "cell_type": "markdown",
   "metadata": {},
   "source": [
    "---\n",
    "\n",
    "### 3. Define a box from the reference ligand\n",
    "---\n",
    "\n",
    "Define a box around your reference ligand, and then write it out to a configuration file for autodock vina\n",
    "\n",
    "There are some parameters that you can change here:\n",
    "\n",
    "```\n",
    "define_vina_box:\n",
    "    Use a reference ligand to produce a box definition for autodock vina\n",
    "    \n",
    "        :param ref_lig: a mol or sdf file of the reference ligand\n",
    "        :param output: the name of the output file\n",
    "        :param bufx: distance (A) of buffer in x direction (default=10)\n",
    "        :param bufy: distance (A) of buffer in y direction (default=10)\n",
    "        :param bufz: distance (A) of buffer in z direction (default=10)\n",
    "        :param exhaustiveness: exhaustivness of the vina calculation (default=20)\n",
    "        :param seed: random seed for vina (default=None)\n",
    "        :param cpu: number of cpu's to use in vina calculation\n",
    "```"
   ]
  },
  {
   "cell_type": "code",
   "execution_count": 39,
   "metadata": {},
   "outputs": [],
   "source": [
    "define_vina_box(ligands_file, conf_file)"
   ]
  },
  {
   "cell_type": "markdown",
   "metadata": {},
   "source": [
    "---\n",
    "\n",
    "### 4. Dock!\n",
    "---\n",
    "\n",
    "There are some parameters that you can change here:\n",
    "\n",
    "```\n",
    "vina_dock_multi:\n",
    "    Dock multiple ligands from an sdf file against a protein, with a given configuration file with vina. \n",
    "    Also does preparation from pdb and sdf\n",
    "    \n",
    "        :param protein_pdb: the input pdb file to prepare and dock against\n",
    "        :param ligands_sdf: an sdf file of multiple ligands to split, prepare and dock\n",
    "        :param conf: the path of a configuration file (required for now)\n",
    "        :param docking_dir: the output directory\n",
    "        :param multiproc: use multi-processing? (boolean)\n",
    "        :param exe: the path to the vina executable\n",
    "```\n",
    "\n",
    "But if you have followed the steps in the above boxes, you can just run this cell without a worry!\n"
   ]
  },
  {
   "cell_type": "code",
   "execution_count": 40,
   "metadata": {},
   "outputs": [
    {
     "name": "stderr",
     "output_type": "stream",
     "text": [
      "2019-08-13 08:16:11,215 - moleculekit.molecule - INFO - Removed 343 atoms. 2773 atoms remaining in the molecule.\n",
      "2019-08-13 08:16:25,965 - moleculekit.tools.preparationdata - INFO - The following residues are in a non-standard state: LYS     5  A (LYN), HIS   103  A (HID), HIS   104  A (HID), HIS  1253  B (HID), HIS  1279  B (HID), HIS  1292  B (HID), HIS  1312  B (HIP), HIS  1341  B (HID), HIS  1353  B (HIE), HIS  1410  B (HID)\n",
      "2019-08-13 08:16:25,968 - moleculekit.tools.preparationdata - WARNING - Dubious protonation state: the pKa of 10 residues is within 1.0 units of pH 7.0.\n",
      "2019-08-13 08:16:25,971 - moleculekit.tools.preparationdata - WARNING - Dubious protonation state:    LYS     5  A (pKa= 6.51)\n",
      "2019-08-13 08:16:25,973 - moleculekit.tools.preparationdata - WARNING - Dubious protonation state:    HIS   103  A (pKa= 6.30)\n",
      "2019-08-13 08:16:25,975 - moleculekit.tools.preparationdata - WARNING - Dubious protonation state:    HIS  1253  B (pKa= 6.39)\n",
      "2019-08-13 08:16:25,976 - moleculekit.tools.preparationdata - WARNING - Dubious protonation state:    HIS  1279  B (pKa= 6.41)\n",
      "2019-08-13 08:16:25,978 - moleculekit.tools.preparationdata - WARNING - Dubious protonation state:    HIS  1312  B (pKa= 7.22)\n",
      "2019-08-13 08:16:25,980 - moleculekit.tools.preparationdata - WARNING - Dubious protonation state:    LYS  1331  B (pKa= 7.98)\n",
      "2019-08-13 08:16:25,982 - moleculekit.tools.preparationdata - WARNING - Dubious protonation state:    HIS  1341  B (pKa= 6.16)\n",
      "2019-08-13 08:16:25,984 - moleculekit.tools.preparationdata - WARNING - Dubious protonation state:    HIS  1353  B (pKa= 6.68)\n",
      "2019-08-13 08:16:25,985 - moleculekit.tools.preparationdata - WARNING - Dubious protonation state:    HIS  1410  B (pKa= 6.32)\n",
      "2019-08-13 08:16:25,986 - moleculekit.tools.preparationdata - WARNING - Dubious protonation state:    N+      1T A (pKa= 7.86)\n",
      "2019-08-13 08:16:26,084 - moleculekit.tools.preparationdata - WARNING - Found N-terminus involved in H bonds\n",
      "100%|██████████| 250/250 [45:07<00:00, 14.43s/it]\n"
     ]
    },
    {
     "ename": "IsADirectoryError",
     "evalue": "[Errno 21] Is a directory: '/data/docking/XX02KALRNA-x1389_1/in_ligs/'",
     "output_type": "error",
     "traceback": [
      "\u001b[0;31m---------------------------------------------------------------------------\u001b[0m",
      "\u001b[0;31mNotADirectoryError\u001b[0m                        Traceback (most recent call last)",
      "\u001b[0;32m/opt/conda/envs/ofup/lib/python3.6/shutil.py\u001b[0m in \u001b[0;36mmove\u001b[0;34m(src, dst, copy_function)\u001b[0m\n\u001b[1;32m    543\u001b[0m     \u001b[0;32mtry\u001b[0m\u001b[0;34m:\u001b[0m\u001b[0;34m\u001b[0m\u001b[0m\n\u001b[0;32m--> 544\u001b[0;31m         \u001b[0mos\u001b[0m\u001b[0;34m.\u001b[0m\u001b[0mrename\u001b[0m\u001b[0;34m(\u001b[0m\u001b[0msrc\u001b[0m\u001b[0;34m,\u001b[0m \u001b[0mreal_dst\u001b[0m\u001b[0;34m)\u001b[0m\u001b[0;34m\u001b[0m\u001b[0m\n\u001b[0m\u001b[1;32m    545\u001b[0m     \u001b[0;32mexcept\u001b[0m \u001b[0mOSError\u001b[0m\u001b[0;34m:\u001b[0m\u001b[0;34m\u001b[0m\u001b[0m\n",
      "\u001b[0;31mNotADirectoryError\u001b[0m: [Errno 20] Not a directory: '/data/docking/XX02KALRNA-x1389_1/250_similar_sucos_diverse139_prepared.pdbqt' -> '/data/docking/XX02KALRNA-x1389_1/in_ligs/'",
      "\nDuring handling of the above exception, another exception occurred:\n",
      "\u001b[0;31mIsADirectoryError\u001b[0m                         Traceback (most recent call last)",
      "\u001b[0;32m<ipython-input-40-58ab9771e1cd>\u001b[0m in \u001b[0;36m<module>\u001b[0;34m\u001b[0m\n\u001b[1;32m      1\u001b[0m vina_dock_multi(protein_pdb=pdb_file, ligands_sdf=ligands_file, \n\u001b[0;32m----> 2\u001b[0;31m                 conf=conf_file, docking_dir=docking_directory, multiproc=True)\n\u001b[0m\u001b[1;32m      3\u001b[0m \u001b[0;34m\u001b[0m\u001b[0m\n\u001b[1;32m      4\u001b[0m \u001b[0mdocking_dir\u001b[0m\u001b[0;34m=\u001b[0m\u001b[0mdocking_directory\u001b[0m\u001b[0;34m\u001b[0m\u001b[0m\n\u001b[1;32m      5\u001b[0m \u001b[0;34m\u001b[0m\u001b[0m\n",
      "\u001b[0;32m/code/tools/docking/vina.py\u001b[0m in \u001b[0;36mvina_dock_multi\u001b[0;34m(protein_pdb, ligands_sdf, conf, docking_dir, multiproc, exe)\u001b[0m\n",
      "\u001b[0;32m/opt/conda/envs/ofup/lib/python3.6/shutil.py\u001b[0m in \u001b[0;36mmove\u001b[0;34m(src, dst, copy_function)\u001b[0m\n\u001b[1;32m    556\u001b[0m             \u001b[0mrmtree\u001b[0m\u001b[0;34m(\u001b[0m\u001b[0msrc\u001b[0m\u001b[0;34m)\u001b[0m\u001b[0;34m\u001b[0m\u001b[0m\n\u001b[1;32m    557\u001b[0m         \u001b[0;32melse\u001b[0m\u001b[0;34m:\u001b[0m\u001b[0;34m\u001b[0m\u001b[0m\n\u001b[0;32m--> 558\u001b[0;31m             \u001b[0mcopy_function\u001b[0m\u001b[0;34m(\u001b[0m\u001b[0msrc\u001b[0m\u001b[0;34m,\u001b[0m \u001b[0mreal_dst\u001b[0m\u001b[0;34m)\u001b[0m\u001b[0;34m\u001b[0m\u001b[0m\n\u001b[0m\u001b[1;32m    559\u001b[0m             \u001b[0mos\u001b[0m\u001b[0;34m.\u001b[0m\u001b[0munlink\u001b[0m\u001b[0;34m(\u001b[0m\u001b[0msrc\u001b[0m\u001b[0;34m)\u001b[0m\u001b[0;34m\u001b[0m\u001b[0m\n\u001b[1;32m    560\u001b[0m     \u001b[0;32mreturn\u001b[0m \u001b[0mreal_dst\u001b[0m\u001b[0;34m\u001b[0m\u001b[0m\n",
      "\u001b[0;32m/opt/conda/envs/ofup/lib/python3.6/shutil.py\u001b[0m in \u001b[0;36mcopy2\u001b[0;34m(src, dst, follow_symlinks)\u001b[0m\n\u001b[1;32m    255\u001b[0m     \u001b[0;32mif\u001b[0m \u001b[0mos\u001b[0m\u001b[0;34m.\u001b[0m\u001b[0mpath\u001b[0m\u001b[0;34m.\u001b[0m\u001b[0misdir\u001b[0m\u001b[0;34m(\u001b[0m\u001b[0mdst\u001b[0m\u001b[0;34m)\u001b[0m\u001b[0;34m:\u001b[0m\u001b[0;34m\u001b[0m\u001b[0m\n\u001b[1;32m    256\u001b[0m         \u001b[0mdst\u001b[0m \u001b[0;34m=\u001b[0m \u001b[0mos\u001b[0m\u001b[0;34m.\u001b[0m\u001b[0mpath\u001b[0m\u001b[0;34m.\u001b[0m\u001b[0mjoin\u001b[0m\u001b[0;34m(\u001b[0m\u001b[0mdst\u001b[0m\u001b[0;34m,\u001b[0m \u001b[0mos\u001b[0m\u001b[0;34m.\u001b[0m\u001b[0mpath\u001b[0m\u001b[0;34m.\u001b[0m\u001b[0mbasename\u001b[0m\u001b[0;34m(\u001b[0m\u001b[0msrc\u001b[0m\u001b[0;34m)\u001b[0m\u001b[0;34m)\u001b[0m\u001b[0;34m\u001b[0m\u001b[0m\n\u001b[0;32m--> 257\u001b[0;31m     \u001b[0mcopyfile\u001b[0m\u001b[0;34m(\u001b[0m\u001b[0msrc\u001b[0m\u001b[0;34m,\u001b[0m \u001b[0mdst\u001b[0m\u001b[0;34m,\u001b[0m \u001b[0mfollow_symlinks\u001b[0m\u001b[0;34m=\u001b[0m\u001b[0mfollow_symlinks\u001b[0m\u001b[0;34m)\u001b[0m\u001b[0;34m\u001b[0m\u001b[0m\n\u001b[0m\u001b[1;32m    258\u001b[0m     \u001b[0mcopystat\u001b[0m\u001b[0;34m(\u001b[0m\u001b[0msrc\u001b[0m\u001b[0;34m,\u001b[0m \u001b[0mdst\u001b[0m\u001b[0;34m,\u001b[0m \u001b[0mfollow_symlinks\u001b[0m\u001b[0;34m=\u001b[0m\u001b[0mfollow_symlinks\u001b[0m\u001b[0;34m)\u001b[0m\u001b[0;34m\u001b[0m\u001b[0m\n\u001b[1;32m    259\u001b[0m     \u001b[0;32mreturn\u001b[0m \u001b[0mdst\u001b[0m\u001b[0;34m\u001b[0m\u001b[0m\n",
      "\u001b[0;32m/opt/conda/envs/ofup/lib/python3.6/shutil.py\u001b[0m in \u001b[0;36mcopyfile\u001b[0;34m(src, dst, follow_symlinks)\u001b[0m\n\u001b[1;32m    119\u001b[0m     \u001b[0;32melse\u001b[0m\u001b[0;34m:\u001b[0m\u001b[0;34m\u001b[0m\u001b[0m\n\u001b[1;32m    120\u001b[0m         \u001b[0;32mwith\u001b[0m \u001b[0mopen\u001b[0m\u001b[0;34m(\u001b[0m\u001b[0msrc\u001b[0m\u001b[0;34m,\u001b[0m \u001b[0;34m'rb'\u001b[0m\u001b[0;34m)\u001b[0m \u001b[0;32mas\u001b[0m \u001b[0mfsrc\u001b[0m\u001b[0;34m:\u001b[0m\u001b[0;34m\u001b[0m\u001b[0m\n\u001b[0;32m--> 121\u001b[0;31m             \u001b[0;32mwith\u001b[0m \u001b[0mopen\u001b[0m\u001b[0;34m(\u001b[0m\u001b[0mdst\u001b[0m\u001b[0;34m,\u001b[0m \u001b[0;34m'wb'\u001b[0m\u001b[0;34m)\u001b[0m \u001b[0;32mas\u001b[0m \u001b[0mfdst\u001b[0m\u001b[0;34m:\u001b[0m\u001b[0;34m\u001b[0m\u001b[0m\n\u001b[0m\u001b[1;32m    122\u001b[0m                 \u001b[0mcopyfileobj\u001b[0m\u001b[0;34m(\u001b[0m\u001b[0mfsrc\u001b[0m\u001b[0;34m,\u001b[0m \u001b[0mfdst\u001b[0m\u001b[0;34m)\u001b[0m\u001b[0;34m\u001b[0m\u001b[0m\n\u001b[1;32m    123\u001b[0m     \u001b[0;32mreturn\u001b[0m \u001b[0mdst\u001b[0m\u001b[0;34m\u001b[0m\u001b[0m\n",
      "\u001b[0;31mIsADirectoryError\u001b[0m: [Errno 21] Is a directory: '/data/docking/XX02KALRNA-x1389_1/in_ligs/'"
     ]
    }
   ],
   "source": [
    "vina_dock_multi(protein_pdb=pdb_file, ligands_sdf=ligands_file, \n",
    "                conf=conf_file, docking_dir=docking_directory, multiproc=True)\n",
    "\n",
    "docking_dir=docking_directory\n",
    "\n",
    "if not os.path.isdir(os.path.join(docking_dir, 'docked/')):\n",
    "    os.mkdir(os.path.join(docking_dir, 'docked/'))\n",
    "if not os.path.isdir(os.path.join(docking_dir, 'logs/')):\n",
    "    os.mkdir(os.path.join(docking_dir, 'logs/'))\n",
    "if not os.path.isdir(os.path.join(docking_dir, 'inputs/')):\n",
    "    os.mkdir(os.path.join(docking_dir, 'inputs/'))\n",
    "\n",
    "docked_files = glob.glob(os.path.join(docking_dir, '*_docked.pdbqt'))\n",
    "for f in docked_files:\n",
    "    shutil.move(f, os.path.join(docking_dir, 'docked/' + f.split('/')[-1]))\n",
    "\n",
    "logs = glob.glob(os.path.join(docking_dir, '*_docked.log'))\n",
    "for f in logs:\n",
    "    shutil.move(f, os.path.join(docking_dir, 'logs/' + f.split('/')[-1]))\n",
    "\n",
    "in_ligs = glob.glob(os.path.join(docking_dir, '*_prepared.pdbqt'))\n",
    "for f in in_ligs:\n",
    "    shutil.move(f, os.path.join(docking_dir, 'inputs/' + f.split('/')[-1]))\n",
    "\n",
    "print_str = f\"Docking complete! Your results have been saved to: \\\n",
    "\\n\\t - docked ligands: {os.path.join(docking_directory, 'docked/')} \\\n",
    "\\n\\t - log files: {os.path.join(docking_directory, 'logs/')} \\\n",
    "\\n\\t - prepared input files: {os.path.join(docking_directory, 'inputs/')}\"\n",
    "        \n",
    "print(print_str)"
   ]
  },
  {
   "cell_type": "code",
   "execution_count": null,
   "metadata": {},
   "outputs": [],
   "source": []
  }
 ],
 "metadata": {
  "kernelspec": {
   "display_name": "Python 3",
   "language": "python",
   "name": "python3"
  },
  "language_info": {
   "codemirror_mode": {
    "name": "ipython",
    "version": 3
   },
   "file_extension": ".py",
   "mimetype": "text/x-python",
   "name": "python",
   "nbconvert_exporter": "python",
   "pygments_lexer": "ipython3",
   "version": "3.6.6"
  }
 },
 "nbformat": 4,
 "nbformat_minor": 2
}
