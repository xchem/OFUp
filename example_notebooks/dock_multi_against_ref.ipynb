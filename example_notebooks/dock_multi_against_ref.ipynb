{
 "cells": [
  {
   "cell_type": "code",
   "execution_count": 1,
   "metadata": {},
   "outputs": [
    {
     "name": "stdout",
     "output_type": "stream",
     "text": [
      "ffevaluate module is in beta version\n",
      "\n",
      "Please cite HTMD: Doerr et al.(2016)JCTC,12,1845. \n",
      "https://dx.doi.org/10.1021/acs.jctc.6b00049\n",
      "Documentation: http://software.acellera.com/\n",
      "\n",
      "You are on the latest HTMD version (1.15.2).\n",
      "\n"
     ]
    }
   ],
   "source": [
    "import warnings\n",
    "warnings.filterwarnings('ignore')\n",
    "import sys, glob\n",
    "sys.path.append('/code')\n",
    "from tools.docking.vina import vina_dock_multi\n",
    "from tools.docking.preparation import define_vina_box\n",
    "from example_notebooks.ui.file_widgets import PathSelector, DockButtons, InputBoxSet, log_progress\n",
    "import os, shutil\n",
    "from tqdm import tqdm"
   ]
  },
  {
   "cell_type": "markdown",
   "metadata": {},
   "source": [
    "# Docking (vina) multiple ligands in a box defined by a reference ligand\n",
    "---\n",
    "\n",
    "### 1. Selecting some inputs:\n",
    "\n",
    "---\n",
    "\n",
    "**First we need to select some inputs, namely:**\n",
    "- the protein we want to dock into (pdb file)\n",
    "- the reference ligand to define a box (mol/sdf)\n",
    "- the ligands we want to dock (sdf)\n",
    "- tan output directory\n",
    "\n",
    "**To do this:**  \n",
    "*(N.B. run the next 2 cells to show the file dialogues)*\n",
    "1. click on the arrow in the dropdown box at the top\n",
    "2. select the relevant file in the dialogue \n",
    "3. click the button next to either protein, query ligands or reference to set the file\n",
    "\n",
    "*repeat this until all files are selected*\n",
    "\n",
    "4. type the directory you want to get the results of the docking in into the 'Docking dir' input\n",
    "5. select 'Set' to set the directory if the directory exists or create to create it, and then set to set it\n",
    "\n"
   ]
  },
  {
   "cell_type": "code",
   "execution_count": 2,
   "metadata": {},
   "outputs": [
    {
     "data": {
      "application/vnd.jupyter.widget-view+json": {
       "model_id": "3cb92586b46d4dd8aaafbc96a585e9e6",
       "version_major": 2,
       "version_minor": 0
      },
      "text/plain": [
       "A Jupyter Widget"
      ]
     },
     "metadata": {},
     "output_type": "display_data"
    },
    {
     "data": {
      "application/vnd.jupyter.widget-view+json": {
       "model_id": "fbe2ef8ffe5e4a90b934660c34e3f795",
       "version_major": 2,
       "version_minor": 0
      },
      "text/plain": [
       "A Jupyter Widget"
      ]
     },
     "metadata": {},
     "output_type": "display_data"
    }
   ],
   "source": [
    "f = PathSelector(start_dir=os.path.join(os.getcwd()))\n",
    "display(f.accord)\n",
    "b = DockButtons(f)\n",
    "b.render_buttons()"
   ]
  },
  {
   "cell_type": "code",
   "execution_count": 3,
   "metadata": {},
   "outputs": [
    {
     "data": {
      "application/vnd.jupyter.widget-view+json": {
       "model_id": "0bafdf64b9494dae8b7d9c18450be16e",
       "version_major": 2,
       "version_minor": 0
      },
      "text/plain": [
       "A Jupyter Widget"
      ]
     },
     "metadata": {},
     "output_type": "display_data"
    },
    {
     "name": "stdout",
     "output_type": "stream",
     "text": [
      "/data/docking/XX02KALRNA-x1376_1\n",
      "Created: /data/docking/XX02KALRNA-x1376_1/surprise_set\n",
      "/data/docking/XX02KALRNA-x1376_1/surprise_set\n"
     ]
    }
   ],
   "source": [
    "i = InputBoxSet(tlabel='Docking dir:')\n",
    "i.render()"
   ]
  },
  {
   "cell_type": "markdown",
   "metadata": {},
   "source": [
    "---\n",
    "\n",
    "### 2. Check the inputs \n",
    "---\n",
    "\n",
    "Run the next cell, and check you are happy with the inputs and docking directory\n"
   ]
  },
  {
   "cell_type": "code",
   "execution_count": 8,
   "metadata": {},
   "outputs": [
    {
     "name": "stdout",
     "output_type": "stream",
     "text": [
      "inputs: \n",
      "\t - pdb: /data/XX02KALRNA-x1376_1/XX02KALRNA-x1376_1.pdb \n",
      "\t - ligs: /data/XX02KALRNA-x1376_1/250_surprise_sucos.sdf       \n",
      "\t - ref: /data/XX02KALRNA-x1376_1/XX02KALRNA-x1376_1.sdf \n",
      "\n",
      "docking directory: /data/docking/XX02KALRNA-x1376_1/surprise_set\n"
     ]
    }
   ],
   "source": [
    "pdb_file = b.pdb_button.description\n",
    "ligands_file = b.lig_button.description\n",
    "ref_file = b.ref_button.description\n",
    "conf_file = 'conf.txt'\n",
    "docking_directory = i.inbox.value\n",
    "\n",
    "print(f'inputs: \\n\\t - pdb: {pdb_file} \\n\\t - ligs: {ligands_file} \\\n",
    "      \\n\\t - ref: {ref_file} \\n\\ndocking directory: {docking_directory}')"
   ]
  },
  {
   "cell_type": "markdown",
   "metadata": {},
   "source": [
    "---\n",
    "\n",
    "### 3. Define a box from the reference ligand\n",
    "---\n",
    "\n",
    "Define a box around your reference ligand, and then write it out to a configuration file for autodock vina\n",
    "\n",
    "There are some parameters that you can change here:\n",
    "\n",
    "```\n",
    "define_vina_box:\n",
    "    Use a reference ligand to produce a box definition for autodock vina\n",
    "    \n",
    "        :param ref_lig: a mol or sdf file of the reference ligand\n",
    "        :param output: the name of the output file\n",
    "        :param bufx: distance (A) of buffer in x direction (default=10)\n",
    "        :param bufy: distance (A) of buffer in y direction (default=10)\n",
    "        :param bufz: distance (A) of buffer in z direction (default=10)\n",
    "        :param exhaustiveness: exhaustivness of the vina calculation (default=20)\n",
    "        :param seed: random seed for vina (default=None)\n",
    "        :param cpu: number of cpu's to use in vina calculation\n",
    "```"
   ]
  },
  {
   "cell_type": "code",
   "execution_count": 9,
   "metadata": {},
   "outputs": [],
   "source": [
    "define_vina_box(ligands_file, conf_file)"
   ]
  },
  {
   "cell_type": "markdown",
   "metadata": {},
   "source": [
    "---\n",
    "\n",
    "### 4. Dock!\n",
    "---\n",
    "\n",
    "There are some parameters that you can change here:\n",
    "\n",
    "```\n",
    "vina_dock_multi:\n",
    "    Dock multiple ligands from an sdf file against a protein, with a given configuration file with vina. \n",
    "    Also does preparation from pdb and sdf\n",
    "    \n",
    "        :param protein_pdb: the input pdb file to prepare and dock against\n",
    "        :param ligands_sdf: an sdf file of multiple ligands to split, prepare and dock\n",
    "        :param conf: the path of a configuration file (required for now)\n",
    "        :param docking_dir: the output directory\n",
    "        :param multiproc: use multi-processing? (boolean)\n",
    "        :param exe: the path to the vina executable\n",
    "```\n",
    "\n",
    "But if you have followed the steps in the above boxes, you can just run this cell without a worry!\n"
   ]
  },
  {
   "cell_type": "code",
   "execution_count": 20,
   "metadata": {},
   "outputs": [
    {
     "name": "stdout",
     "output_type": "stream",
     "text": [
      "Docking complete! Your results have been saved to: \n",
      "\t - docked ligands: /data/docking/XX02KALRNA-x1376_1/surprise_set/docked/ \n",
      "\t - log files: /data/docking/XX02KALRNA-x1376_1/surprise_set/logs/ \n",
      "\t - prepared input files: /data/docking/XX02KALRNA-x1376_1/surprise_set/inputs/\n"
     ]
    }
   ],
   "source": [
    "vina_dock_multi(protein_pdb=pdb_file, ligands_sdf=ligands_file, \n",
    "                conf=conf_file, docking_dir=docking_directory, multiproc=True)\n",
    "\n",
    "docking_dir=docking_directory\n",
    "\n",
    "if not os.path.isdir(os.path.join(docking_dir, 'docked/')):\n",
    "    os.mkdir(os.path.join(docking_dir, 'docked/'))\n",
    "if not os.path.isdir(os.path.join(docking_dir, 'logs/')):\n",
    "    os.mkdir(os.path.join(docking_dir, 'logs/'))\n",
    "if not os.path.isdir(os.path.join(docking_dir, 'inputs/')):\n",
    "    os.mkdir(os.path.join(docking_dir, 'inputs/'))\n",
    "\n",
    "docked_files = glob.glob(os.path.join(docking_dir, '*_docked.pdbqt'))\n",
    "for f in docked_files:\n",
    "    shutil.move(f, os.path.join(docking_dir, 'docked/' + f.split('/')[-1]))\n",
    "\n",
    "logs = glob.glob(os.path.join(docking_dir, '*_docked.log'))\n",
    "for f in logs:\n",
    "    shutil.move(f, os.path.join(docking_dir, 'logs/' + f.split('/')[-1]))\n",
    "\n",
    "in_ligs = glob.glob(os.path.join(docking_dir, '*_prepared.pdbqt'))\n",
    "for f in in_ligs:\n",
    "    shutil.move(f, os.path.join(docking_dir, 'inputs/' + f.split('/')[-1]))\n",
    "\n",
    "print_str = f\"Docking complete! Your results have been saved to: \\\n",
    "\\n\\t - docked ligands: {os.path.join(docking_directory, 'docked/')} \\\n",
    "\\n\\t - log files: {os.path.join(docking_directory, 'logs/')} \\\n",
    "\\n\\t - prepared input files: {os.path.join(docking_directory, 'inputs/')}\"\n",
    "        \n",
    "print(print_str)"
   ]
  },
  {
   "cell_type": "code",
   "execution_count": 33,
   "metadata": {},
   "outputs": [],
   "source": [
    "def doit(glob_dir):\n",
    "    file_names = glob.glob(glob_dir + '*.pdbqt')\n",
    "    everything = []\n",
    "    failures = []\n",
    "    print (f'Found {len(file_names)} pdbqt files')\n",
    "    for file_name in file_names:\n",
    "        file = open(file_name)\n",
    "        lines = file.readlines()\n",
    "        file.close()\n",
    "        try:\n",
    "            line = lines[1]\n",
    "            result = float(line.split(':')[1].split()[0])\n",
    "            everything.append([result, file_name])\n",
    "        except:\n",
    "            failures.append(file_name)\n",
    "            \n",
    "    from operator import itemgetter\n",
    "    \n",
    "    ev = sorted(everything, key=itemgetter(0))\n",
    "#     everything.sort(lambda x,y: cmp(x[0], y[0]))\n",
    "#     part = everything[:n]\n",
    "#     for p in part:\n",
    "#         print(p[1])\n",
    "#     if len(failures) > 0:\n",
    "#         print(f'WARNING: {len(failures)} pdbqt files could not be processed')\n",
    "    print(ev)"
   ]
  },
  {
   "cell_type": "code",
   "execution_count": 34,
   "metadata": {},
   "outputs": [
    {
     "name": "stdout",
     "output_type": "stream",
     "text": [
      "Found 248 pdbqt files\n",
      "[[-7.3, '/data/docking/XX02KALRNA-x1376_1/surprise_set/docked/250_surprise_sucos5_prepared_docked.pdbqt'], [-7.0, '/data/docking/XX02KALRNA-x1376_1/surprise_set/docked/250_surprise_sucos6_prepared_docked.pdbqt'], [-6.9, '/data/docking/XX02KALRNA-x1376_1/surprise_set/docked/250_surprise_sucos7_prepared_docked.pdbqt'], [-6.9, '/data/docking/XX02KALRNA-x1376_1/surprise_set/docked/250_surprise_sucos4_prepared_docked.pdbqt'], [-6.8, '/data/docking/XX02KALRNA-x1376_1/surprise_set/docked/250_surprise_sucos19_prepared_docked.pdbqt'], [-6.8, '/data/docking/XX02KALRNA-x1376_1/surprise_set/docked/250_surprise_sucos241_prepared_docked.pdbqt'], [-6.8, '/data/docking/XX02KALRNA-x1376_1/surprise_set/docked/250_surprise_sucos214_prepared_docked.pdbqt'], [-6.7, '/data/docking/XX02KALRNA-x1376_1/surprise_set/docked/250_surprise_sucos246_prepared_docked.pdbqt'], [-6.6, '/data/docking/XX02KALRNA-x1376_1/surprise_set/docked/250_surprise_sucos23_prepared_docked.pdbqt'], [-6.6, '/data/docking/XX02KALRNA-x1376_1/surprise_set/docked/250_surprise_sucos153_prepared_docked.pdbqt'], [-6.6, '/data/docking/XX02KALRNA-x1376_1/surprise_set/docked/250_surprise_sucos118_prepared_docked.pdbqt'], [-6.5, '/data/docking/XX02KALRNA-x1376_1/surprise_set/docked/250_surprise_sucos3_prepared_docked.pdbqt'], [-6.5, '/data/docking/XX02KALRNA-x1376_1/surprise_set/docked/250_surprise_sucos37_prepared_docked.pdbqt'], [-6.4, '/data/docking/XX02KALRNA-x1376_1/surprise_set/docked/250_surprise_sucos195_prepared_docked.pdbqt'], [-6.4, '/data/docking/XX02KALRNA-x1376_1/surprise_set/docked/250_surprise_sucos172_prepared_docked.pdbqt'], [-6.4, '/data/docking/XX02KALRNA-x1376_1/surprise_set/docked/250_surprise_sucos212_prepared_docked.pdbqt'], [-6.4, '/data/docking/XX02KALRNA-x1376_1/surprise_set/docked/250_surprise_sucos52_prepared_docked.pdbqt'], [-6.4, '/data/docking/XX02KALRNA-x1376_1/surprise_set/docked/250_surprise_sucos68_prepared_docked.pdbqt'], [-6.3, '/data/docking/XX02KALRNA-x1376_1/surprise_set/docked/250_surprise_sucos15_prepared_docked.pdbqt'], [-6.2, '/data/docking/XX02KALRNA-x1376_1/surprise_set/docked/250_surprise_sucos213_prepared_docked.pdbqt'], [-6.2, '/data/docking/XX02KALRNA-x1376_1/surprise_set/docked/250_surprise_sucos41_prepared_docked.pdbqt'], [-6.2, '/data/docking/XX02KALRNA-x1376_1/surprise_set/docked/250_surprise_sucos164_prepared_docked.pdbqt'], [-6.2, '/data/docking/XX02KALRNA-x1376_1/surprise_set/docked/250_surprise_sucos50_prepared_docked.pdbqt'], [-6.1, '/data/docking/XX02KALRNA-x1376_1/surprise_set/docked/250_surprise_sucos31_prepared_docked.pdbqt'], [-6.1, '/data/docking/XX02KALRNA-x1376_1/surprise_set/docked/250_surprise_sucos79_prepared_docked.pdbqt'], [-6.1, '/data/docking/XX02KALRNA-x1376_1/surprise_set/docked/250_surprise_sucos123_prepared_docked.pdbqt'], [-6.1, '/data/docking/XX02KALRNA-x1376_1/surprise_set/docked/250_surprise_sucos21_prepared_docked.pdbqt'], [-6.1, '/data/docking/XX02KALRNA-x1376_1/surprise_set/docked/250_surprise_sucos9_prepared_docked.pdbqt'], [-6.1, '/data/docking/XX02KALRNA-x1376_1/surprise_set/docked/250_surprise_sucos98_prepared_docked.pdbqt'], [-6.0, '/data/docking/XX02KALRNA-x1376_1/surprise_set/docked/250_surprise_sucos193_prepared_docked.pdbqt'], [-6.0, '/data/docking/XX02KALRNA-x1376_1/surprise_set/docked/250_surprise_sucos135_prepared_docked.pdbqt'], [-6.0, '/data/docking/XX02KALRNA-x1376_1/surprise_set/docked/250_surprise_sucos11_prepared_docked.pdbqt'], [-6.0, '/data/docking/XX02KALRNA-x1376_1/surprise_set/docked/250_surprise_sucos163_prepared_docked.pdbqt'], [-6.0, '/data/docking/XX02KALRNA-x1376_1/surprise_set/docked/250_surprise_sucos159_prepared_docked.pdbqt'], [-6.0, '/data/docking/XX02KALRNA-x1376_1/surprise_set/docked/250_surprise_sucos105_prepared_docked.pdbqt'], [-6.0, '/data/docking/XX02KALRNA-x1376_1/surprise_set/docked/250_surprise_sucos215_prepared_docked.pdbqt'], [-6.0, '/data/docking/XX02KALRNA-x1376_1/surprise_set/docked/250_surprise_sucos30_prepared_docked.pdbqt'], [-6.0, '/data/docking/XX02KALRNA-x1376_1/surprise_set/docked/250_surprise_sucos48_prepared_docked.pdbqt'], [-6.0, '/data/docking/XX02KALRNA-x1376_1/surprise_set/docked/250_surprise_sucos72_prepared_docked.pdbqt'], [-6.0, '/data/docking/XX02KALRNA-x1376_1/surprise_set/docked/250_surprise_sucos222_prepared_docked.pdbqt'], [-6.0, '/data/docking/XX02KALRNA-x1376_1/surprise_set/docked/250_surprise_sucos78_prepared_docked.pdbqt'], [-6.0, '/data/docking/XX02KALRNA-x1376_1/surprise_set/docked/250_surprise_sucos42_prepared_docked.pdbqt'], [-5.9, '/data/docking/XX02KALRNA-x1376_1/surprise_set/docked/250_surprise_sucos27_prepared_docked.pdbqt'], [-5.9, '/data/docking/XX02KALRNA-x1376_1/surprise_set/docked/250_surprise_sucos209_prepared_docked.pdbqt'], [-5.9, '/data/docking/XX02KALRNA-x1376_1/surprise_set/docked/250_surprise_sucos119_prepared_docked.pdbqt'], [-5.9, '/data/docking/XX02KALRNA-x1376_1/surprise_set/docked/250_surprise_sucos29_prepared_docked.pdbqt'], [-5.9, '/data/docking/XX02KALRNA-x1376_1/surprise_set/docked/250_surprise_sucos58_prepared_docked.pdbqt'], [-5.9, '/data/docking/XX02KALRNA-x1376_1/surprise_set/docked/250_surprise_sucos36_prepared_docked.pdbqt'], [-5.8, '/data/docking/XX02KALRNA-x1376_1/surprise_set/docked/250_surprise_sucos199_prepared_docked.pdbqt'], [-5.8, '/data/docking/XX02KALRNA-x1376_1/surprise_set/docked/250_surprise_sucos141_prepared_docked.pdbqt'], [-5.8, '/data/docking/XX02KALRNA-x1376_1/surprise_set/docked/250_surprise_sucos149_prepared_docked.pdbqt'], [-5.8, '/data/docking/XX02KALRNA-x1376_1/surprise_set/docked/250_surprise_sucos65_prepared_docked.pdbqt'], [-5.8, '/data/docking/XX02KALRNA-x1376_1/surprise_set/docked/250_surprise_sucos207_prepared_docked.pdbqt'], [-5.8, '/data/docking/XX02KALRNA-x1376_1/surprise_set/docked/250_surprise_sucos45_prepared_docked.pdbqt'], [-5.8, '/data/docking/XX02KALRNA-x1376_1/surprise_set/docked/250_surprise_sucos51_prepared_docked.pdbqt'], [-5.8, '/data/docking/XX02KALRNA-x1376_1/surprise_set/docked/250_surprise_sucos26_prepared_docked.pdbqt'], [-5.8, '/data/docking/XX02KALRNA-x1376_1/surprise_set/docked/250_surprise_sucos108_prepared_docked.pdbqt'], [-5.8, '/data/docking/XX02KALRNA-x1376_1/surprise_set/docked/250_surprise_sucos244_prepared_docked.pdbqt'], [-5.8, '/data/docking/XX02KALRNA-x1376_1/surprise_set/docked/250_surprise_sucos8_prepared_docked.pdbqt'], [-5.8, '/data/docking/XX02KALRNA-x1376_1/surprise_set/docked/250_surprise_sucos46_prepared_docked.pdbqt'], [-5.8, '/data/docking/XX02KALRNA-x1376_1/surprise_set/docked/250_surprise_sucos120_prepared_docked.pdbqt'], [-5.8, '/data/docking/XX02KALRNA-x1376_1/surprise_set/docked/250_surprise_sucos158_prepared_docked.pdbqt'], [-5.7, '/data/docking/XX02KALRNA-x1376_1/surprise_set/docked/250_surprise_sucos99_prepared_docked.pdbqt'], [-5.7, '/data/docking/XX02KALRNA-x1376_1/surprise_set/docked/250_surprise_sucos115_prepared_docked.pdbqt'], [-5.7, '/data/docking/XX02KALRNA-x1376_1/surprise_set/docked/250_surprise_sucos25_prepared_docked.pdbqt'], [-5.7, '/data/docking/XX02KALRNA-x1376_1/surprise_set/docked/250_surprise_sucos75_prepared_docked.pdbqt'], [-5.7, '/data/docking/XX02KALRNA-x1376_1/surprise_set/docked/250_surprise_sucos231_prepared_docked.pdbqt'], [-5.7, '/data/docking/XX02KALRNA-x1376_1/surprise_set/docked/250_surprise_sucos1_prepared_docked.pdbqt'], [-5.7, '/data/docking/XX02KALRNA-x1376_1/surprise_set/docked/250_surprise_sucos203_prepared_docked.pdbqt'], [-5.7, '/data/docking/XX02KALRNA-x1376_1/surprise_set/docked/250_surprise_sucos47_prepared_docked.pdbqt'], [-5.7, '/data/docking/XX02KALRNA-x1376_1/surprise_set/docked/250_surprise_sucos14_prepared_docked.pdbqt'], [-5.7, '/data/docking/XX02KALRNA-x1376_1/surprise_set/docked/250_surprise_sucos102_prepared_docked.pdbqt'], [-5.7, '/data/docking/XX02KALRNA-x1376_1/surprise_set/docked/250_surprise_sucos100_prepared_docked.pdbqt'], [-5.7, '/data/docking/XX02KALRNA-x1376_1/surprise_set/docked/250_surprise_sucos22_prepared_docked.pdbqt'], [-5.7, '/data/docking/XX02KALRNA-x1376_1/surprise_set/docked/250_surprise_sucos112_prepared_docked.pdbqt'], [-5.6, '/data/docking/XX02KALRNA-x1376_1/surprise_set/docked/250_surprise_sucos187_prepared_docked.pdbqt'], [-5.6, '/data/docking/XX02KALRNA-x1376_1/surprise_set/docked/250_surprise_sucos49_prepared_docked.pdbqt'], [-5.6, '/data/docking/XX02KALRNA-x1376_1/surprise_set/docked/250_surprise_sucos87_prepared_docked.pdbqt'], [-5.6, '/data/docking/XX02KALRNA-x1376_1/surprise_set/docked/250_surprise_sucos165_prepared_docked.pdbqt'], [-5.6, '/data/docking/XX02KALRNA-x1376_1/surprise_set/docked/250_surprise_sucos73_prepared_docked.pdbqt'], [-5.6, '/data/docking/XX02KALRNA-x1376_1/surprise_set/docked/250_surprise_sucos43_prepared_docked.pdbqt'], [-5.6, '/data/docking/XX02KALRNA-x1376_1/surprise_set/docked/250_surprise_sucos155_prepared_docked.pdbqt'], [-5.6, '/data/docking/XX02KALRNA-x1376_1/surprise_set/docked/250_surprise_sucos71_prepared_docked.pdbqt'], [-5.6, '/data/docking/XX02KALRNA-x1376_1/surprise_set/docked/250_surprise_sucos33_prepared_docked.pdbqt'], [-5.6, '/data/docking/XX02KALRNA-x1376_1/surprise_set/docked/250_surprise_sucos95_prepared_docked.pdbqt'], [-5.6, '/data/docking/XX02KALRNA-x1376_1/surprise_set/docked/250_surprise_sucos183_prepared_docked.pdbqt'], [-5.6, '/data/docking/XX02KALRNA-x1376_1/surprise_set/docked/250_surprise_sucos35_prepared_docked.pdbqt'], [-5.6, '/data/docking/XX02KALRNA-x1376_1/surprise_set/docked/250_surprise_sucos61_prepared_docked.pdbqt'], [-5.6, '/data/docking/XX02KALRNA-x1376_1/surprise_set/docked/250_surprise_sucos53_prepared_docked.pdbqt'], [-5.6, '/data/docking/XX02KALRNA-x1376_1/surprise_set/docked/250_surprise_sucos145_prepared_docked.pdbqt'], [-5.6, '/data/docking/XX02KALRNA-x1376_1/surprise_set/docked/250_surprise_sucos201_prepared_docked.pdbqt'], [-5.6, '/data/docking/XX02KALRNA-x1376_1/surprise_set/docked/250_surprise_sucos243_prepared_docked.pdbqt'], [-5.6, '/data/docking/XX02KALRNA-x1376_1/surprise_set/docked/250_surprise_sucos97_prepared_docked.pdbqt'], [-5.6, '/data/docking/XX02KALRNA-x1376_1/surprise_set/docked/250_surprise_sucos113_prepared_docked.pdbqt'], [-5.6, '/data/docking/XX02KALRNA-x1376_1/surprise_set/docked/250_surprise_sucos86_prepared_docked.pdbqt'], [-5.6, '/data/docking/XX02KALRNA-x1376_1/surprise_set/docked/250_surprise_sucos56_prepared_docked.pdbqt'], [-5.6, '/data/docking/XX02KALRNA-x1376_1/surprise_set/docked/250_surprise_sucos16_prepared_docked.pdbqt'], [-5.6, '/data/docking/XX02KALRNA-x1376_1/surprise_set/docked/250_surprise_sucos142_prepared_docked.pdbqt'], [-5.6, '/data/docking/XX02KALRNA-x1376_1/surprise_set/docked/250_surprise_sucos144_prepared_docked.pdbqt'], [-5.6, '/data/docking/XX02KALRNA-x1376_1/surprise_set/docked/250_surprise_sucos10_prepared_docked.pdbqt'], [-5.6, '/data/docking/XX02KALRNA-x1376_1/surprise_set/docked/250_surprise_sucos110_prepared_docked.pdbqt'], [-5.6, '/data/docking/XX02KALRNA-x1376_1/surprise_set/docked/250_surprise_sucos232_prepared_docked.pdbqt'], [-5.6, '/data/docking/XX02KALRNA-x1376_1/surprise_set/docked/250_surprise_sucos12_prepared_docked.pdbqt'], [-5.6, '/data/docking/XX02KALRNA-x1376_1/surprise_set/docked/250_surprise_sucos62_prepared_docked.pdbqt'], [-5.6, '/data/docking/XX02KALRNA-x1376_1/surprise_set/docked/250_surprise_sucos80_prepared_docked.pdbqt'], [-5.5, '/data/docking/XX02KALRNA-x1376_1/surprise_set/docked/250_surprise_sucos57_prepared_docked.pdbqt'], [-5.5, '/data/docking/XX02KALRNA-x1376_1/surprise_set/docked/250_surprise_sucos139_prepared_docked.pdbqt'], [-5.5, '/data/docking/XX02KALRNA-x1376_1/surprise_set/docked/250_surprise_sucos103_prepared_docked.pdbqt'], [-5.5, '/data/docking/XX02KALRNA-x1376_1/surprise_set/docked/250_surprise_sucos245_prepared_docked.pdbqt'], [-5.5, '/data/docking/XX02KALRNA-x1376_1/surprise_set/docked/250_surprise_sucos185_prepared_docked.pdbqt'], [-5.5, '/data/docking/XX02KALRNA-x1376_1/surprise_set/docked/250_surprise_sucos217_prepared_docked.pdbqt'], [-5.5, '/data/docking/XX02KALRNA-x1376_1/surprise_set/docked/250_surprise_sucos69_prepared_docked.pdbqt'], [-5.5, '/data/docking/XX02KALRNA-x1376_1/surprise_set/docked/250_surprise_sucos175_prepared_docked.pdbqt'], [-5.5, '/data/docking/XX02KALRNA-x1376_1/surprise_set/docked/250_surprise_sucos249_prepared_docked.pdbqt'], [-5.5, '/data/docking/XX02KALRNA-x1376_1/surprise_set/docked/250_surprise_sucos13_prepared_docked.pdbqt'], [-5.5, '/data/docking/XX02KALRNA-x1376_1/surprise_set/docked/250_surprise_sucos129_prepared_docked.pdbqt'], [-5.5, '/data/docking/XX02KALRNA-x1376_1/surprise_set/docked/250_surprise_sucos148_prepared_docked.pdbqt'], [-5.5, '/data/docking/XX02KALRNA-x1376_1/surprise_set/docked/250_surprise_sucos126_prepared_docked.pdbqt'], [-5.5, '/data/docking/XX02KALRNA-x1376_1/surprise_set/docked/250_surprise_sucos190_prepared_docked.pdbqt'], [-5.5, '/data/docking/XX02KALRNA-x1376_1/surprise_set/docked/250_surprise_sucos90_prepared_docked.pdbqt'], [-5.5, '/data/docking/XX02KALRNA-x1376_1/surprise_set/docked/250_surprise_sucos140_prepared_docked.pdbqt'], [-5.5, '/data/docking/XX02KALRNA-x1376_1/surprise_set/docked/250_surprise_sucos168_prepared_docked.pdbqt'], [-5.5, '/data/docking/XX02KALRNA-x1376_1/surprise_set/docked/250_surprise_sucos242_prepared_docked.pdbqt'], [-5.5, '/data/docking/XX02KALRNA-x1376_1/surprise_set/docked/250_surprise_sucos76_prepared_docked.pdbqt'], [-5.5, '/data/docking/XX02KALRNA-x1376_1/surprise_set/docked/250_surprise_sucos28_prepared_docked.pdbqt'], [-5.5, '/data/docking/XX02KALRNA-x1376_1/surprise_set/docked/250_surprise_sucos88_prepared_docked.pdbqt'], [-5.5, '/data/docking/XX02KALRNA-x1376_1/surprise_set/docked/250_surprise_sucos136_prepared_docked.pdbqt'], [-5.4, '/data/docking/XX02KALRNA-x1376_1/surprise_set/docked/250_surprise_sucos17_prepared_docked.pdbqt'], [-5.4, '/data/docking/XX02KALRNA-x1376_1/surprise_set/docked/250_surprise_sucos167_prepared_docked.pdbqt'], [-5.4, '/data/docking/XX02KALRNA-x1376_1/surprise_set/docked/250_surprise_sucos225_prepared_docked.pdbqt'], [-5.4, '/data/docking/XX02KALRNA-x1376_1/surprise_set/docked/250_surprise_sucos227_prepared_docked.pdbqt'], [-5.4, '/data/docking/XX02KALRNA-x1376_1/surprise_set/docked/250_surprise_sucos81_prepared_docked.pdbqt'], [-5.4, '/data/docking/XX02KALRNA-x1376_1/surprise_set/docked/250_surprise_sucos89_prepared_docked.pdbqt'], [-5.4, '/data/docking/XX02KALRNA-x1376_1/surprise_set/docked/250_surprise_sucos204_prepared_docked.pdbqt'], [-5.4, '/data/docking/XX02KALRNA-x1376_1/surprise_set/docked/250_surprise_sucos38_prepared_docked.pdbqt'], [-5.4, '/data/docking/XX02KALRNA-x1376_1/surprise_set/docked/250_surprise_sucos228_prepared_docked.pdbqt'], [-5.4, '/data/docking/XX02KALRNA-x1376_1/surprise_set/docked/250_surprise_sucos66_prepared_docked.pdbqt'], [-5.4, '/data/docking/XX02KALRNA-x1376_1/surprise_set/docked/250_surprise_sucos32_prepared_docked.pdbqt'], [-5.4, '/data/docking/XX02KALRNA-x1376_1/surprise_set/docked/250_surprise_sucos132_prepared_docked.pdbqt'], [-5.4, '/data/docking/XX02KALRNA-x1376_1/surprise_set/docked/250_surprise_sucos92_prepared_docked.pdbqt'], [-5.4, '/data/docking/XX02KALRNA-x1376_1/surprise_set/docked/250_surprise_sucos200_prepared_docked.pdbqt'], [-5.4, '/data/docking/XX02KALRNA-x1376_1/surprise_set/docked/250_surprise_sucos152_prepared_docked.pdbqt'], [-5.4, '/data/docking/XX02KALRNA-x1376_1/surprise_set/docked/250_surprise_sucos146_prepared_docked.pdbqt'], [-5.4, '/data/docking/XX02KALRNA-x1376_1/surprise_set/docked/250_surprise_sucos180_prepared_docked.pdbqt'], [-5.3, '/data/docking/XX02KALRNA-x1376_1/surprise_set/docked/250_surprise_sucos91_prepared_docked.pdbqt'], [-5.3, '/data/docking/XX02KALRNA-x1376_1/surprise_set/docked/250_surprise_sucos221_prepared_docked.pdbqt'], [-5.3, '/data/docking/XX02KALRNA-x1376_1/surprise_set/docked/250_surprise_sucos109_prepared_docked.pdbqt'], [-5.3, '/data/docking/XX02KALRNA-x1376_1/surprise_set/docked/250_surprise_sucos171_prepared_docked.pdbqt'], [-5.3, '/data/docking/XX02KALRNA-x1376_1/surprise_set/docked/250_surprise_sucos93_prepared_docked.pdbqt'], [-5.3, '/data/docking/XX02KALRNA-x1376_1/surprise_set/docked/250_surprise_sucos83_prepared_docked.pdbqt'], [-5.3, '/data/docking/XX02KALRNA-x1376_1/surprise_set/docked/250_surprise_sucos107_prepared_docked.pdbqt'], [-5.3, '/data/docking/XX02KALRNA-x1376_1/surprise_set/docked/250_surprise_sucos147_prepared_docked.pdbqt'], [-5.3, '/data/docking/XX02KALRNA-x1376_1/surprise_set/docked/250_surprise_sucos151_prepared_docked.pdbqt'], [-5.3, '/data/docking/XX02KALRNA-x1376_1/surprise_set/docked/250_surprise_sucos64_prepared_docked.pdbqt'], [-5.3, '/data/docking/XX02KALRNA-x1376_1/surprise_set/docked/250_surprise_sucos184_prepared_docked.pdbqt'], [-5.3, '/data/docking/XX02KALRNA-x1376_1/surprise_set/docked/250_surprise_sucos24_prepared_docked.pdbqt'], [-5.3, '/data/docking/XX02KALRNA-x1376_1/surprise_set/docked/250_surprise_sucos116_prepared_docked.pdbqt'], [-5.3, '/data/docking/XX02KALRNA-x1376_1/surprise_set/docked/250_surprise_sucos210_prepared_docked.pdbqt'], [-5.3, '/data/docking/XX02KALRNA-x1376_1/surprise_set/docked/250_surprise_sucos216_prepared_docked.pdbqt'], [-5.3, '/data/docking/XX02KALRNA-x1376_1/surprise_set/docked/250_surprise_sucos122_prepared_docked.pdbqt'], [-5.3, '/data/docking/XX02KALRNA-x1376_1/surprise_set/docked/250_surprise_sucos82_prepared_docked.pdbqt'], [-5.3, '/data/docking/XX02KALRNA-x1376_1/surprise_set/docked/250_surprise_sucos34_prepared_docked.pdbqt'], [-5.3, '/data/docking/XX02KALRNA-x1376_1/surprise_set/docked/250_surprise_sucos224_prepared_docked.pdbqt'], [-5.3, '/data/docking/XX02KALRNA-x1376_1/surprise_set/docked/250_surprise_sucos2_prepared_docked.pdbqt'], [-5.3, '/data/docking/XX02KALRNA-x1376_1/surprise_set/docked/250_surprise_sucos150_prepared_docked.pdbqt'], [-5.3, '/data/docking/XX02KALRNA-x1376_1/surprise_set/docked/250_surprise_sucos202_prepared_docked.pdbqt'], [-5.3, '/data/docking/XX02KALRNA-x1376_1/surprise_set/docked/250_surprise_sucos174_prepared_docked.pdbqt'], [-5.2, '/data/docking/XX02KALRNA-x1376_1/surprise_set/docked/250_surprise_sucos205_prepared_docked.pdbqt'], [-5.2, '/data/docking/XX02KALRNA-x1376_1/surprise_set/docked/250_surprise_sucos191_prepared_docked.pdbqt'], [-5.2, '/data/docking/XX02KALRNA-x1376_1/surprise_set/docked/250_surprise_sucos101_prepared_docked.pdbqt'], [-5.2, '/data/docking/XX02KALRNA-x1376_1/surprise_set/docked/250_surprise_sucos143_prepared_docked.pdbqt'], [-5.2, '/data/docking/XX02KALRNA-x1376_1/surprise_set/docked/250_surprise_sucos211_prepared_docked.pdbqt'], [-5.2, '/data/docking/XX02KALRNA-x1376_1/surprise_set/docked/250_surprise_sucos133_prepared_docked.pdbqt'], [-5.2, '/data/docking/XX02KALRNA-x1376_1/surprise_set/docked/250_surprise_sucos85_prepared_docked.pdbqt'], [-5.2, '/data/docking/XX02KALRNA-x1376_1/surprise_set/docked/250_surprise_sucos77_prepared_docked.pdbqt'], [-5.2, '/data/docking/XX02KALRNA-x1376_1/surprise_set/docked/250_surprise_sucos177_prepared_docked.pdbqt'], [-5.2, '/data/docking/XX02KALRNA-x1376_1/surprise_set/docked/250_surprise_sucos137_prepared_docked.pdbqt'], [-5.2, '/data/docking/XX02KALRNA-x1376_1/surprise_set/docked/250_surprise_sucos59_prepared_docked.pdbqt'], [-5.2, '/data/docking/XX02KALRNA-x1376_1/surprise_set/docked/250_surprise_sucos186_prepared_docked.pdbqt'], [-5.2, '/data/docking/XX02KALRNA-x1376_1/surprise_set/docked/250_surprise_sucos156_prepared_docked.pdbqt'], [-5.2, '/data/docking/XX02KALRNA-x1376_1/surprise_set/docked/250_surprise_sucos70_prepared_docked.pdbqt'], [-5.2, '/data/docking/XX02KALRNA-x1376_1/surprise_set/docked/250_surprise_sucos192_prepared_docked.pdbqt'], [-5.2, '/data/docking/XX02KALRNA-x1376_1/surprise_set/docked/250_surprise_sucos218_prepared_docked.pdbqt'], [-5.2, '/data/docking/XX02KALRNA-x1376_1/surprise_set/docked/250_surprise_sucos44_prepared_docked.pdbqt'], [-5.2, '/data/docking/XX02KALRNA-x1376_1/surprise_set/docked/250_surprise_sucos134_prepared_docked.pdbqt'], [-5.2, '/data/docking/XX02KALRNA-x1376_1/surprise_set/docked/250_surprise_sucos182_prepared_docked.pdbqt'], [-5.2, '/data/docking/XX02KALRNA-x1376_1/surprise_set/docked/250_surprise_sucos18_prepared_docked.pdbqt'], [-5.2, '/data/docking/XX02KALRNA-x1376_1/surprise_set/docked/250_surprise_sucos226_prepared_docked.pdbqt'], [-5.1, '/data/docking/XX02KALRNA-x1376_1/surprise_set/docked/250_surprise_sucos127_prepared_docked.pdbqt'], [-5.1, '/data/docking/XX02KALRNA-x1376_1/surprise_set/docked/250_surprise_sucos67_prepared_docked.pdbqt'], [-5.1, '/data/docking/XX02KALRNA-x1376_1/surprise_set/docked/250_surprise_sucos233_prepared_docked.pdbqt'], [-5.1, '/data/docking/XX02KALRNA-x1376_1/surprise_set/docked/250_surprise_sucos111_prepared_docked.pdbqt'], [-5.1, '/data/docking/XX02KALRNA-x1376_1/surprise_set/docked/250_surprise_sucos181_prepared_docked.pdbqt'], [-5.1, '/data/docking/XX02KALRNA-x1376_1/surprise_set/docked/250_surprise_sucos138_prepared_docked.pdbqt'], [-5.1, '/data/docking/XX02KALRNA-x1376_1/surprise_set/docked/250_surprise_sucos54_prepared_docked.pdbqt'], [-5.1, '/data/docking/XX02KALRNA-x1376_1/surprise_set/docked/250_surprise_sucos176_prepared_docked.pdbqt'], [-5.1, '/data/docking/XX02KALRNA-x1376_1/surprise_set/docked/250_surprise_sucos104_prepared_docked.pdbqt'], [-5.1, '/data/docking/XX02KALRNA-x1376_1/surprise_set/docked/250_surprise_sucos240_prepared_docked.pdbqt'], [-5.1, '/data/docking/XX02KALRNA-x1376_1/surprise_set/docked/250_surprise_sucos128_prepared_docked.pdbqt'], [-5.1, '/data/docking/XX02KALRNA-x1376_1/surprise_set/docked/250_surprise_sucos248_prepared_docked.pdbqt'], [-5.1, '/data/docking/XX02KALRNA-x1376_1/surprise_set/docked/250_surprise_sucos230_prepared_docked.pdbqt'], [-5.1, '/data/docking/XX02KALRNA-x1376_1/surprise_set/docked/250_surprise_sucos162_prepared_docked.pdbqt'], [-5.1, '/data/docking/XX02KALRNA-x1376_1/surprise_set/docked/250_surprise_sucos196_prepared_docked.pdbqt'], [-5.0, '/data/docking/XX02KALRNA-x1376_1/surprise_set/docked/250_surprise_sucos131_prepared_docked.pdbqt'], [-5.0, '/data/docking/XX02KALRNA-x1376_1/surprise_set/docked/250_surprise_sucos179_prepared_docked.pdbqt'], [-5.0, '/data/docking/XX02KALRNA-x1376_1/surprise_set/docked/250_surprise_sucos117_prepared_docked.pdbqt'], [-5.0, '/data/docking/XX02KALRNA-x1376_1/surprise_set/docked/250_surprise_sucos223_prepared_docked.pdbqt'], [-5.0, '/data/docking/XX02KALRNA-x1376_1/surprise_set/docked/250_surprise_sucos63_prepared_docked.pdbqt'], [-5.0, '/data/docking/XX02KALRNA-x1376_1/surprise_set/docked/250_surprise_sucos239_prepared_docked.pdbqt'], [-5.0, '/data/docking/XX02KALRNA-x1376_1/surprise_set/docked/250_surprise_sucos84_prepared_docked.pdbqt'], [-5.0, '/data/docking/XX02KALRNA-x1376_1/surprise_set/docked/250_surprise_sucos178_prepared_docked.pdbqt'], [-5.0, '/data/docking/XX02KALRNA-x1376_1/surprise_set/docked/250_surprise_sucos206_prepared_docked.pdbqt'], [-5.0, '/data/docking/XX02KALRNA-x1376_1/surprise_set/docked/250_surprise_sucos106_prepared_docked.pdbqt'], [-4.9, '/data/docking/XX02KALRNA-x1376_1/surprise_set/docked/250_surprise_sucos247_prepared_docked.pdbqt'], [-4.9, '/data/docking/XX02KALRNA-x1376_1/surprise_set/docked/250_surprise_sucos237_prepared_docked.pdbqt'], [-4.9, '/data/docking/XX02KALRNA-x1376_1/surprise_set/docked/250_surprise_sucos173_prepared_docked.pdbqt'], [-4.9, '/data/docking/XX02KALRNA-x1376_1/surprise_set/docked/250_surprise_sucos235_prepared_docked.pdbqt'], [-4.9, '/data/docking/XX02KALRNA-x1376_1/surprise_set/docked/250_surprise_sucos169_prepared_docked.pdbqt'], [-4.9, '/data/docking/XX02KALRNA-x1376_1/surprise_set/docked/250_surprise_sucos197_prepared_docked.pdbqt'], [-4.9, '/data/docking/XX02KALRNA-x1376_1/surprise_set/docked/250_surprise_sucos189_prepared_docked.pdbqt'], [-4.9, '/data/docking/XX02KALRNA-x1376_1/surprise_set/docked/250_surprise_sucos170_prepared_docked.pdbqt'], [-4.9, '/data/docking/XX02KALRNA-x1376_1/surprise_set/docked/250_surprise_sucos166_prepared_docked.pdbqt'], [-4.9, '/data/docking/XX02KALRNA-x1376_1/surprise_set/docked/250_surprise_sucos154_prepared_docked.pdbqt'], [-4.9, '/data/docking/XX02KALRNA-x1376_1/surprise_set/docked/250_surprise_sucos194_prepared_docked.pdbqt'], [-4.9, '/data/docking/XX02KALRNA-x1376_1/surprise_set/docked/250_surprise_sucos94_prepared_docked.pdbqt'], [-4.9, '/data/docking/XX02KALRNA-x1376_1/surprise_set/docked/250_surprise_sucos208_prepared_docked.pdbqt'], [-4.9, '/data/docking/XX02KALRNA-x1376_1/surprise_set/docked/250_surprise_sucos238_prepared_docked.pdbqt'], [-4.8, '/data/docking/XX02KALRNA-x1376_1/surprise_set/docked/250_surprise_sucos39_prepared_docked.pdbqt'], [-4.8, '/data/docking/XX02KALRNA-x1376_1/surprise_set/docked/250_surprise_sucos161_prepared_docked.pdbqt'], [-4.8, '/data/docking/XX02KALRNA-x1376_1/surprise_set/docked/250_surprise_sucos220_prepared_docked.pdbqt'], [-4.8, '/data/docking/XX02KALRNA-x1376_1/surprise_set/docked/250_surprise_sucos40_prepared_docked.pdbqt'], [-4.8, '/data/docking/XX02KALRNA-x1376_1/surprise_set/docked/250_surprise_sucos198_prepared_docked.pdbqt'], [-4.8, '/data/docking/XX02KALRNA-x1376_1/surprise_set/docked/250_surprise_sucos124_prepared_docked.pdbqt'], [-4.8, '/data/docking/XX02KALRNA-x1376_1/surprise_set/docked/250_surprise_sucos60_prepared_docked.pdbqt'], [-4.8, '/data/docking/XX02KALRNA-x1376_1/surprise_set/docked/250_surprise_sucos20_prepared_docked.pdbqt'], [-4.7, '/data/docking/XX02KALRNA-x1376_1/surprise_set/docked/250_surprise_sucos55_prepared_docked.pdbqt'], [-4.7, '/data/docking/XX02KALRNA-x1376_1/surprise_set/docked/250_surprise_sucos236_prepared_docked.pdbqt'], [-4.7, '/data/docking/XX02KALRNA-x1376_1/surprise_set/docked/250_surprise_sucos160_prepared_docked.pdbqt'], [-4.6, '/data/docking/XX02KALRNA-x1376_1/surprise_set/docked/250_surprise_sucos229_prepared_docked.pdbqt'], [-4.6, '/data/docking/XX02KALRNA-x1376_1/surprise_set/docked/250_surprise_sucos125_prepared_docked.pdbqt'], [-4.6, '/data/docking/XX02KALRNA-x1376_1/surprise_set/docked/250_surprise_sucos114_prepared_docked.pdbqt'], [-4.6, '/data/docking/XX02KALRNA-x1376_1/surprise_set/docked/250_surprise_sucos188_prepared_docked.pdbqt'], [-4.6, '/data/docking/XX02KALRNA-x1376_1/surprise_set/docked/250_surprise_sucos74_prepared_docked.pdbqt'], [-4.5, '/data/docking/XX02KALRNA-x1376_1/surprise_set/docked/250_surprise_sucos157_prepared_docked.pdbqt'], [-4.5, '/data/docking/XX02KALRNA-x1376_1/surprise_set/docked/250_surprise_sucos219_prepared_docked.pdbqt'], [-4.5, '/data/docking/XX02KALRNA-x1376_1/surprise_set/docked/250_surprise_sucos234_prepared_docked.pdbqt'], [-4.4, '/data/docking/XX02KALRNA-x1376_1/surprise_set/docked/250_surprise_sucos130_prepared_docked.pdbqt'], [-4.4, '/data/docking/XX02KALRNA-x1376_1/surprise_set/docked/250_surprise_sucos96_prepared_docked.pdbqt']]\n"
     ]
    }
   ],
   "source": [
    "doit('/data/docking/XX02KALRNA-x1376_1/surprise_set/docked/')"
   ]
  },
  {
   "cell_type": "code",
   "execution_count": null,
   "metadata": {},
   "outputs": [],
   "source": []
  }
 ],
 "metadata": {
  "kernelspec": {
   "display_name": "Python 3",
   "language": "python",
   "name": "python3"
  },
  "language_info": {
   "codemirror_mode": {
    "name": "ipython",
    "version": 3
   },
   "file_extension": ".py",
   "mimetype": "text/x-python",
   "name": "python",
   "nbconvert_exporter": "python",
   "pygments_lexer": "ipython3",
   "version": "3.6.6"
  }
 },
 "nbformat": 4,
 "nbformat_minor": 2
}
