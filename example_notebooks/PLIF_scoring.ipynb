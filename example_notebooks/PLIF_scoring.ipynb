{
 "cells": [
  {
   "cell_type": "code",
   "execution_count": 11,
   "metadata": {
    "tags": [
     "parameters"
    ]
   },
   "outputs": [],
   "source": [
    "# parameters cell\n",
    "input_dir_pdbqt = None\n",
    "output_dir_sdf = None\n",
    "pdb_file = ''\n",
    "ligands_file = ''\n",
    "ligands_files_dir = None\n",
    "reference_file = ''\n",
    "write_scores = True"
   ]
  },
  {
   "cell_type": "code",
   "execution_count": 3,
   "metadata": {},
   "outputs": [],
   "source": [
    "import warnings\n",
    "warnings.filterwarnings('ignore')"
   ]
  },
  {
   "cell_type": "code",
   "execution_count": 4,
   "metadata": {},
   "outputs": [],
   "source": [
    "import sys, os, glob\n",
    "sys.path.append('/code/tools')\n",
    "from scoring.plif import PlifScore\n",
    "from misc import vina_pdbqt_to_sdf, is_interactive\n",
    "from ui.file_widgets import DockButtons, PathSelector, InputBoxSet\n",
    "import scrapbook as sb"
   ]
  },
  {
   "cell_type": "markdown",
   "metadata": {},
   "source": [
    "# Scoring vina results: PLIF (protein-ligand interaction fingerprint) against reference\n",
    "\n",
    "---\n",
    "\n",
    "### 1. Convert pdbqt files to sdf files \n",
    "\n",
    "---\n",
    "\n",
    "input directory = the place where all of the pdbqt files from a docking run are  \n",
    "output directory = where to write the sdfs out to "
   ]
  },
  {
   "cell_type": "code",
   "execution_count": 5,
   "metadata": {},
   "outputs": [
    {
     "data": {
      "application/vnd.jupyter.widget-view+json": {
       "model_id": "088177b34e2442e991a0872c1da62f97",
       "version_major": 2,
       "version_minor": 0
      },
      "text/plain": [
       "A Jupyter Widget"
      ]
     },
     "metadata": {},
     "output_type": "display_data"
    }
   ],
   "source": [
    "if is_interactive():\n",
    "    iconv = InputBoxSet(tlabel='input dir:')\n",
    "    display(iconv.render())\n"
   ]
  },
  {
   "cell_type": "code",
   "execution_count": 6,
   "metadata": {},
   "outputs": [
    {
     "data": {
      "application/vnd.jupyter.widget-view+json": {
       "model_id": "1d6a1641116a43ab83510aacf5df9d93",
       "version_major": 2,
       "version_minor": 0
      },
      "text/plain": [
       "A Jupyter Widget"
      ]
     },
     "metadata": {},
     "output_type": "display_data"
    }
   ],
   "source": [
    "if is_interactive():\n",
    "    oconv = InputBoxSet(tlabel='output dir:')\n",
    "    display(oconv.render())"
   ]
  },
  {
   "cell_type": "code",
   "execution_count": 7,
   "metadata": {},
   "outputs": [],
   "source": [
    "if is_interactive():\n",
    "    input_dir_pdbqt = iconv.inbox.value\n",
    "    output_dir_sdf = oconv.inbox.value\n",
    "\n",
    "infiles = glob.glob(os.path.join(input_dir_pdbqt, '*.pdbqt'))\n",
    "\n",
    "if not os.path.isdir(output_dir_sdf):\n",
    "    os.makedirs(output_dir_sdf)\n",
    "\n",
    "[vina_pdbqt_to_sdf(ifile=i, \n",
    "                   output=os.path.join(output_dir_sdf, i.split('/')[-1].replace('.pdbqt', '.sdf'))) \n",
    " for i in infiles]"
   ]
  },
  {
   "cell_type": "markdown",
   "metadata": {},
   "source": [
    "---\n",
    "### 2. Select some input files for the PLIF scoring\n",
    "---\n",
    "\n",
    "#### 2.1.  Select the protein and reference ligand: \n",
    "*(N.B. run the next 2 cells to show the file dialogues)*\n",
    "1. click on the arrow in the dropdown box at the top\n",
    "2. select the relevant file in the dialogue \n",
    "3. click the button next to either protein, query ligands or reference to set the file\n",
    "\n",
    "---\n",
    "\n",
    "#### 2.2.  Select the query molecules to score against the reference ligand:\n",
    "\n",
    "**There are two options here:** \n",
    "\n",
    "1. Use one file to specify which ligands to score: use the buttons as described above\n",
    "2. Specify a directory of sdf files of multiple files of ligands to score: type the directory to search in the 'multiple dir' input box, and click 'set'\n"
   ]
  },
  {
   "cell_type": "code",
   "execution_count": 8,
   "metadata": {},
   "outputs": [
    {
     "data": {
      "application/vnd.jupyter.widget-view+json": {
       "model_id": "686f0376355c49339dc8d82894706cd2",
       "version_major": 2,
       "version_minor": 0
      },
      "text/plain": [
       "A Jupyter Widget"
      ]
     },
     "metadata": {},
     "output_type": "display_data"
    },
    {
     "data": {
      "application/vnd.jupyter.widget-view+json": {
       "model_id": "081752341f964237adb74f9677db7e86",
       "version_major": 2,
       "version_minor": 0
      },
      "text/plain": [
       "A Jupyter Widget"
      ]
     },
     "metadata": {},
     "output_type": "display_data"
    }
   ],
   "source": [
    "if is_interactive():\n",
    "    p = PathSelector(start_dir=os.getcwd())\n",
    "    display(p.accord)\n",
    "\n",
    "    b = DockButtons(path_selector=p)\n",
    "    display(b.render_buttons())"
   ]
  },
  {
   "cell_type": "code",
   "execution_count": 9,
   "metadata": {},
   "outputs": [],
   "source": [
    "if is_interactive():\n",
    "    pdb_file = b.pdb_button.description\n",
    "    ligands_file = b.lig_button.description\n",
    "    ref_file = b.ref_button.description"
   ]
  },
  {
   "cell_type": "code",
   "execution_count": 10,
   "metadata": {},
   "outputs": [
    {
     "data": {
      "application/vnd.jupyter.widget-view+json": {
       "model_id": "d7c89a75884941748e699c65c65d1417",
       "version_major": 2,
       "version_minor": 0
      },
      "text/plain": [
       "A Jupyter Widget"
      ]
     },
     "metadata": {},
     "output_type": "display_data"
    }
   ],
   "source": [
    "if is_interactive():\n",
    "    inp = InputBoxSet(tlabel='multiple dir:')\n",
    "    display(inp.render())"
   ]
  },
  {
   "cell_type": "markdown",
   "metadata": {},
   "source": [
    "---\n",
    "### 3. run the PLIF scoring\n",
    "---\n",
    "\n",
    "This returns: \n",
    "\n",
    "**For one file:** a dataframe with the scores in  \n",
    "**For multiple files:** a list of dataframes with the scores in\n",
    "\n",
    "You can also specify not to write the scores back out to the input sdf files by changing ```write_scores=True``` to ```write_scores=False``` below"
   ]
  },
  {
   "cell_type": "code",
   "execution_count": 12,
   "metadata": {},
   "outputs": [
    {
     "ename": "ValueError",
     "evalue": " files are not supported for the protein.",
     "output_type": "error",
     "traceback": [
      "\u001b[0;31m---------------------------------------------------------------------------\u001b[0m",
      "\u001b[0;31mValueError\u001b[0m                                Traceback (most recent call last)",
      "\u001b[0;32m<ipython-input-12-5188ed24e9c4>\u001b[0m in \u001b[0;36m<module>\u001b[0;34m\u001b[0m\n\u001b[1;32m     10\u001b[0m \u001b[0;34m\u001b[0m\u001b[0m\n\u001b[1;32m     11\u001b[0m plif = PlifScore(protein_pdb=pdb_file, \n\u001b[0;32m---> 12\u001b[0;31m                  reference_file=reference_file)\n\u001b[0m\u001b[1;32m     13\u001b[0m \u001b[0;34m\u001b[0m\u001b[0m\n\u001b[1;32m     14\u001b[0m \u001b[0;32mif\u001b[0m \u001b[0mlen\u001b[0m\u001b[0;34m(\u001b[0m\u001b[0mfiles\u001b[0m\u001b[0;34m)\u001b[0m\u001b[0;34m==\u001b[0m\u001b[0;36m1\u001b[0m\u001b[0;34m:\u001b[0m\u001b[0;34m\u001b[0m\u001b[0m\n",
      "\u001b[0;32m/code/tools/scoring/plif.py\u001b[0m in \u001b[0;36m__init__\u001b[0;34m(self, protein_pdb, reference_file)\u001b[0m\n\u001b[1;32m      8\u001b[0m \u001b[0;32mclass\u001b[0m \u001b[0mPlifScore\u001b[0m\u001b[0;34m:\u001b[0m\u001b[0;34m\u001b[0m\u001b[0m\n\u001b[1;32m      9\u001b[0m     \u001b[0;32mdef\u001b[0m \u001b[0m__init__\u001b[0m\u001b[0;34m(\u001b[0m\u001b[0mself\u001b[0m\u001b[0;34m,\u001b[0m \u001b[0mprotein_pdb\u001b[0m\u001b[0;34m,\u001b[0m \u001b[0mreference_file\u001b[0m\u001b[0;34m)\u001b[0m\u001b[0;34m:\u001b[0m\u001b[0;34m\u001b[0m\u001b[0m\n\u001b[0;32m---> 10\u001b[0;31m         \u001b[0mself\u001b[0m\u001b[0;34m.\u001b[0m\u001b[0mprotein\u001b[0m \u001b[0;34m=\u001b[0m \u001b[0mProtein\u001b[0m\u001b[0;34m(\u001b[0m\u001b[0minputFile\u001b[0m\u001b[0;34m=\u001b[0m\u001b[0mprotein_pdb\u001b[0m\u001b[0;34m)\u001b[0m\u001b[0;34m\u001b[0m\u001b[0m\n\u001b[0m\u001b[1;32m     11\u001b[0m         \u001b[0mself\u001b[0m\u001b[0;34m.\u001b[0m\u001b[0mprotein\u001b[0m\u001b[0;34m.\u001b[0m\u001b[0mresiduesFromMOL2File\u001b[0m\u001b[0;34m(\u001b[0m\u001b[0;34m)\u001b[0m\u001b[0;34m\u001b[0m\u001b[0m\n\u001b[1;32m     12\u001b[0m \u001b[0;34m\u001b[0m\u001b[0m\n",
      "\u001b[0;32m/code/tools/scoring/ProLIF/prolif/protein.py\u001b[0m in \u001b[0;36m__init__\u001b[0;34m(self, inputFile, reference, cutoff, residueList)\u001b[0m\n\u001b[1;32m     41\u001b[0m                 \u001b[0mself\u001b[0m\u001b[0;34m.\u001b[0m\u001b[0minputFile\u001b[0m \u001b[0;34m=\u001b[0m \u001b[0moutfile\u001b[0m\u001b[0;34m\u001b[0m\u001b[0m\n\u001b[1;32m     42\u001b[0m         \u001b[0;32melse\u001b[0m\u001b[0;34m:\u001b[0m\u001b[0;34m\u001b[0m\u001b[0m\n\u001b[0;32m---> 43\u001b[0;31m             \u001b[0;32mraise\u001b[0m \u001b[0mValueError\u001b[0m\u001b[0;34m(\u001b[0m\u001b[0;34m'{} files are not supported for the protein.'\u001b[0m\u001b[0;34m.\u001b[0m\u001b[0mformat\u001b[0m\u001b[0;34m(\u001b[0m\u001b[0mfileExtension\u001b[0m\u001b[0;34m[\u001b[0m\u001b[0;36m1\u001b[0m\u001b[0;34m:\u001b[0m\u001b[0;34m]\u001b[0m\u001b[0;34m.\u001b[0m\u001b[0mupper\u001b[0m\u001b[0;34m(\u001b[0m\u001b[0;34m)\u001b[0m\u001b[0;34m)\u001b[0m\u001b[0;34m)\u001b[0m\u001b[0;34m\u001b[0m\u001b[0m\n\u001b[0m\u001b[1;32m     44\u001b[0m \u001b[0;34m\u001b[0m\u001b[0m\n\u001b[1;32m     45\u001b[0m \u001b[0;34m\u001b[0m\u001b[0m\n",
      "\u001b[0;31mValueError\u001b[0m:  files are not supported for the protein."
     ]
    }
   ],
   "source": [
    "if is_interactive():\n",
    "    ligands_files_dir = inp.inbox.value\n",
    "    write_scores = True\n",
    "\n",
    "if os.path.isdir(ligands_files_dir):\n",
    "    files = glob.glob(os.path.join(ligands_files_dir, '*.sdf'))\n",
    "        \n",
    "else:\n",
    "    files = [ligands_file]\n",
    "    \n",
    "plif = PlifScore(protein_pdb=pdb_file, \n",
    "                 reference_file=reference_file)\n",
    "\n",
    "if len(files)==1:\n",
    "    df = plif.score_conformers(file=ligands_file, write=write_scores, score_col='PLIF_SCORE')\n",
    "    \n",
    "else:\n",
    "    from joblib import Parallel, delayed\n",
    "    import multiprocessing\n",
    "    from tqdm import tqdm\n",
    "    import pandas as pd\n",
    "    \n",
    "    num_cores = multiprocessing.cpu_count()\n",
    "    df_list = Parallel(n_jobs=num_cores)(delayed(plif.score_conformers)(\n",
    "        file=f, write=write_scores, score_col='PLIF_SCORE'\n",
    "    ) for f in tqdm(files))"
   ]
  },
  {
   "cell_type": "code",
   "execution_count": null,
   "metadata": {},
   "outputs": [],
   "source": []
  }
 ],
 "metadata": {
  "kernelspec": {
   "display_name": "Python 3",
   "language": "python",
   "name": "python3"
  },
  "language_info": {
   "codemirror_mode": {
    "name": "ipython",
    "version": 3
   },
   "file_extension": ".py",
   "mimetype": "text/x-python",
   "name": "python",
   "nbconvert_exporter": "python",
   "pygments_lexer": "ipython3",
   "version": "3.6.6"
  }
 },
 "nbformat": 4,
 "nbformat_minor": 2
}
